{
 "cells": [
  {
   "cell_type": "markdown",
   "metadata": {},
   "source": [
    "Numpy and Matplotlib\n",
    "====================\n",
    "\n"
   ]
  },
  {
   "cell_type": "markdown",
   "metadata": {},
   "source": [
    "### Activate your \"dmlap\" conda environment by selecting the respective kernel"
   ]
  },
  {
   "cell_type": "markdown",
   "metadata": {},
   "source": [
    "Now that we have a basic grasp of Python, we can move to some of the most useful\n",
    "packages that we will use for our data and machine learning course. These are\n",
    "[NumPy](https://numpy.org), a &ldquo;number crunching&rdquo; package, and [Matplotlib](https://matplotlib.org), a package that allows\n",
    "us to create plots and to visualize images. With these two packages Python can\n",
    "already achieve a functionality that is similar to certain scientific\n",
    "computation systems such as [Matlab](https://en.wikipedia.org/wiki/MATLAB). Indeed if any of you is already familiar with\n",
    "Matlab, these examples should result quite intuitive.\n",
    "\n",
    "### Installation\n",
    "On google collab most of the content in this notebook will not need installation. If using your local Python installation install with conda by writing the following in the terminal:\n",
    "```\n",
    "conda install -c conda-forge numpy\n",
    "conda install -c conda-forge matplotlib\n",
    "conda install -c conda-forge scikit-image\n",
    "```\n"
   ]
  },
  {
   "cell_type": "markdown",
   "metadata": {},
   "source": [
    "## Numpy (number crunching)\n",
    "\n"
   ]
  },
  {
   "cell_type": "markdown",
   "metadata": {},
   "source": [
    "Numpy is a numerical computation package that revolves around one important\n",
    "object: an `array`. It is convenion to import numpy as follows:\n",
    "\n"
   ]
  },
  {
   "cell_type": "code",
   "execution_count": null,
   "metadata": {},
   "outputs": [],
   "source": [
    "import numpy as np"
   ]
  },
  {
   "cell_type": "markdown",
   "metadata": {},
   "source": [
    "In English: &ldquo;import the `numpy` package and (for brevity) refer to it with the\n",
    "identifier `np`&rdquo;.\n",
    "\n",
    "We will refer to numpy specific objects with the `np` namespace hereafter, so\n",
    "for example we will use `np.array` (internally the type of this object is\n",
    "actually `np.ndarray`, but this syntax is hardly used unless we want to test the\n",
    "type of an object).\n",
    "\n",
    "Technically the `np.array` behaves similarly to a Python `list`, but\n",
    "it is definitely a `list` on steroids and specifically taylored to operate on numbers.\n",
    "\n",
    "Let&rsquo;s start by creating an array from a list:\n",
    "\n"
   ]
  },
  {
   "cell_type": "code",
   "execution_count": null,
   "metadata": {},
   "outputs": [],
   "source": [
    "x = np.array([0, 1, 2, 3])\n",
    "print(x)"
   ]
  },
  {
   "cell_type": "code",
   "execution_count": null,
   "metadata": {},
   "outputs": [],
   "source": [
    "x = np.array([[0, 1, 2], \n",
    "              [3, 4, 5], \n",
    "              [6, 7, 8]])\n",
    "print(x)"
   ]
  },
  {
   "cell_type": "markdown",
   "metadata": {},
   "source": [
    "We can use this array object similarly to lists, so for example\n",
    "\n"
   ]
  },
  {
   "cell_type": "code",
   "execution_count": null,
   "metadata": {},
   "outputs": [],
   "source": [
    "print(len(x)) # Query its length\n",
    "print(x[1:-1]) # Slice it"
   ]
  },
  {
   "cell_type": "markdown",
   "metadata": {},
   "source": [
    "etc&#x2026;\n",
    "\n",
    "Things get more interesting if we create multidimensional arrays, let&rsquo;s start by\n",
    "automatically creating a **2d** array (say 5 rows, 10 columns) filled with zeros.\n",
    "This can be done with\n",
    "\n"
   ]
  },
  {
   "cell_type": "code",
   "execution_count": null,
   "metadata": {},
   "outputs": [],
   "source": [
    "x = np.zeros((5, 10))\n",
    "print(x)"
   ]
  },
  {
   "cell_type": "markdown",
   "metadata": {},
   "source": [
    "as you can see, the input to the function is a tuple (or a list) with the number\n",
    "of elements in the array. The format for a 2d array is `(rows, columns)` so here\n",
    "we have an array (filled with zeros) of 5 rows and 10 columns. Imagine this as a\n",
    "list of lists, but with additional functionalities that we will see soon.\n",
    "\n",
    "Note that we are not limited to 2d arrays, for example a R,G,B image could be\n",
    "represented as a `(rows, columns, 3)` array where the last 3 dimensions each\n",
    "represents a channel of the image&#x2026; more on this later when we look at\n",
    "plotting.\n",
    "\n",
    "Now if we use the `len` function on the previously created array, we will just\n",
    "know the number of **rows**\n",
    "\n"
   ]
  },
  {
   "cell_type": "code",
   "execution_count": null,
   "metadata": {},
   "outputs": [],
   "source": [
    "print(len(x))"
   ]
  },
  {
   "cell_type": "markdown",
   "metadata": {},
   "source": [
    "Again, this is like taking the `len` of a &ldquo;list of lists&rdquo;, which would simply\n",
    "give us the number of lists (i.e. the number of rows in the array).\n",
    "\n",
    "To actualy know both the number of columns we can use the `shape` property of\n",
    "`np.array`:\n",
    "\n"
   ]
  },
  {
   "cell_type": "code",
   "execution_count": null,
   "metadata": {},
   "outputs": [],
   "source": [
    "rows, cols = x.shape\n",
    "print(rows, cols)   "
   ]
  },
  {
   "cell_type": "markdown",
   "metadata": {},
   "source": [
    "and to know only one or the other we could do\n",
    "\n"
   ]
  },
  {
   "cell_type": "code",
   "execution_count": null,
   "metadata": {},
   "outputs": [],
   "source": [
    "rows = x.shape[0]\n",
    "cols = x.shape[1]"
   ]
  },
  {
   "cell_type": "markdown",
   "metadata": {},
   "source": [
    "This can be interpreted as the rows being the &ldquo;height&rdquo; of the array and the\n",
    "columns the &ldquo;width&rdquo;. But note that the order is rows first and columns after.\n",
    "This has to do with how the elements of the array would ideally be stored in the\n",
    "computer&rsquo;s memory.\n",
    "\n",
    "Alternatively we can create a 1d array by passing a single number instead of a\n",
    "tuple. Let&rsquo;s say we want an array with 10 times `1.0`, we can use the `np.ones`\n",
    "function instead:\n",
    "\n"
   ]
  },
  {
   "cell_type": "code",
   "execution_count": null,
   "metadata": {},
   "outputs": [],
   "source": [
    "y = np.ones(10)\n",
    "y"
   ]
  },
  {
   "cell_type": "markdown",
   "metadata": {},
   "source": [
    "and this has exactly the same syntax as `np.zeros`.\n",
    "\n",
    "Another very frequently used function is `np.linspace(start, end, num)`. This\n",
    "gives us an array with `num` equally spaced elements between the number `start`\n",
    "and the number `end`, e.g.:\n",
    "\n"
   ]
  },
  {
   "cell_type": "code",
   "execution_count": null,
   "metadata": {},
   "outputs": [],
   "source": [
    "np.linspace(-1, 1, 9)"
   ]
  },
  {
   "cell_type": "markdown",
   "metadata": {},
   "source": [
    "and since `np.array` is iterable we can concisely write a for loop doing things\n",
    "(here quite pointless) with these numbers:\n",
    "\n"
   ]
  },
  {
   "cell_type": "code",
   "execution_count": null,
   "metadata": {},
   "outputs": [],
   "source": [
    "txt = ''\n",
    "for t in np.linspace(-1, 1, 9):\n",
    "    txt += str(t+10) + ' '\n",
    "print(txt)"
   ]
  },
  {
   "cell_type": "markdown",
   "metadata": {},
   "source": [
    "Arrays are a very convenient representation to store the vectors we have seen in\n",
    "Week 3, and allow us to easily do operations on those.\n",
    "\n"
   ]
  },
  {
   "cell_type": "markdown",
   "metadata": {},
   "source": [
    "#### Random number generation\n",
    "\n"
   ]
  },
  {
   "cell_type": "markdown",
   "metadata": {},
   "source": [
    "Numpy also has a powerful random number generation submodule `numpy.random`.\n",
    "Because we called Numpy `np` we can directly access the functionalities of this module with `np.random`.\n",
    "We can for example generate arrays with uniform random numbers within a range with the `np.random.uniform(min, max)` function:\n",
    "\n"
   ]
  },
  {
   "cell_type": "code",
   "execution_count": null,
   "metadata": {},
   "outputs": [],
   "source": [
    "np.random.uniform(-100, 100)"
   ]
  },
  {
   "cell_type": "markdown",
   "metadata": {},
   "source": [
    "Or we can generate arrays by specifying the shape similarly to the `np.zeros` function, e.g.\n",
    "\n"
   ]
  },
  {
   "cell_type": "code",
   "execution_count": null,
   "metadata": {},
   "outputs": [],
   "source": [
    "np.random.uniform(-10, 10, (5, 2))"
   ]
  },
  {
   "cell_type": "markdown",
   "metadata": {},
   "source": [
    "for a 2d array, or\n",
    "\n"
   ]
  },
  {
   "cell_type": "code",
   "execution_count": null,
   "metadata": {},
   "outputs": [],
   "source": [
    "np.random.uniform(-1, 1, 10)"
   ]
  },
  {
   "cell_type": "markdown",
   "metadata": {},
   "source": [
    "for a 1d array.\n",
    "\n",
    "If we want to always get the same random values, we can set a number as a **seed**\n",
    "to the random number generator. For example, running this code multiple times\n",
    "will always return the same tow random sequences:\n",
    "\n"
   ]
  },
  {
   "cell_type": "code",
   "execution_count": null,
   "metadata": {},
   "outputs": [],
   "source": [
    "np.random.seed(100)\n",
    "print(np.random.uniform(-1, 1, 3))\n",
    "print(np.random.uniform(-1, 1, 5))"
   ]
  },
  {
   "cell_type": "markdown",
   "metadata": {},
   "source": [
    "### Indexing and slicing arrays\n",
    "\n"
   ]
  },
  {
   "cell_type": "markdown",
   "metadata": {},
   "source": [
    "Numpy arrays are iterable objects and behave similarly to lists. And using the\n",
    "exact syntax we used to index and slice lists will result in the same behaviour.\n",
    "For instance the following will give us the first 3 rows of the array\n",
    "\n"
   ]
  },
  {
   "cell_type": "code",
   "execution_count": null,
   "metadata": {},
   "outputs": [],
   "source": [
    "x[:3]"
   ]
  },
  {
   "cell_type": "markdown",
   "metadata": {},
   "source": [
    "while this will give us the third row\n",
    "\n"
   ]
  },
  {
   "cell_type": "code",
   "execution_count": null,
   "metadata": {},
   "outputs": [],
   "source": [
    "x[2]"
   ]
  },
  {
   "cell_type": "markdown",
   "metadata": {},
   "source": [
    "Things start to differ from lists if we want to access a single element:\n",
    "\n"
   ]
  },
  {
   "cell_type": "code",
   "execution_count": null,
   "metadata": {},
   "outputs": [],
   "source": [
    "x[0,2]"
   ]
  },
  {
   "cell_type": "markdown",
   "metadata": {},
   "source": [
    "this could be done with the the same syntax that would work with the &ldquo;list of lists&rdquo;:\n",
    "\n"
   ]
  },
  {
   "cell_type": "code",
   "execution_count": null,
   "metadata": {},
   "outputs": [],
   "source": [
    "x[0][2]"
   ]
  },
  {
   "cell_type": "markdown",
   "metadata": {},
   "source": [
    "but the former is more concise and more frequently used. We then can also use\n",
    "the slicing syntax in a similar way, say to get the last three columns of the\n",
    "array we can do\n",
    "\n"
   ]
  },
  {
   "cell_type": "code",
   "execution_count": null,
   "metadata": {},
   "outputs": [],
   "source": [
    "x[:,-3:]"
   ]
  },
  {
   "cell_type": "markdown",
   "metadata": {},
   "source": [
    "where the `:` alone can be read as &ldquo;give me all the rows&rdquo;.\n",
    "Now, what would you do to get only the first three rows?\n",
    "Insert the code here:\n",
    "\n"
   ]
  },
  {
   "cell_type": "code",
   "execution_count": null,
   "metadata": {},
   "outputs": [],
   "source": []
  },
  {
   "cell_type": "markdown",
   "metadata": {},
   "source": [
    "You can do mathematical operations with your arrays, eg:"
   ]
  },
  {
   "cell_type": "code",
   "execution_count": null,
   "metadata": {},
   "outputs": [],
   "source": [
    "a = np.ones((5, 2))\n",
    "print(a)\n",
    "print(a*2)\n",
    "print(a*2 + 10)\n",
    "print(np.ones((3, 2)) + np.random.uniform(-10, 10, (3, 2)))"
   ]
  },
  {
   "attachments": {},
   "cell_type": "markdown",
   "metadata": {},
   "source": [
    "To practice slicing it is useful to actually look at an image, which we will represent as a numpy array.\n",
    "There are many ways to load an image in Python. We will use the [Pillow](https://pypi.org/project/Pillow/) library which can be accessed with the `PIL` module. If the code below does not work install Pillow in a similar way to how we already installed other packages."
   ]
  },
  {
   "attachments": {},
   "cell_type": "markdown",
   "metadata": {},
   "source": [
    "\n",
    "Now let's load the image and visualize it. We will use Matplotlib for this using `import matplotlib.pyplot as plt`. Do not worry about the details for now, just keep in mind that you can visualize a numpy array as an image using `plt.imshow(your_image)`."
   ]
  },
  {
   "cell_type": "code",
   "execution_count": null,
   "metadata": {},
   "outputs": [],
   "source": [
    "from PIL import Image\n",
    "import matplotlib.pyplot as plt\n",
    "img = np.array(Image.open('images/spock.jpg'))\n",
    "plt.imshow(img)"
   ]
  },
  {
   "attachments": {},
   "cell_type": "markdown",
   "metadata": {},
   "source": [
    "Now let's examine the shape of the image"
   ]
  },
  {
   "cell_type": "code",
   "execution_count": null,
   "metadata": {},
   "outputs": [],
   "source": [
    "img.shape"
   ]
  },
  {
   "attachments": {},
   "cell_type": "markdown",
   "metadata": {},
   "source": [
    "That is we have 688 rows (height), 500 columns (width) and 3 channels. Let's slice this and see what happens. Experiment with the code"
   ]
  },
  {
   "cell_type": "code",
   "execution_count": null,
   "metadata": {},
   "outputs": [],
   "source": [
    "plt.imshow(img[100:140, 30:240, :])"
   ]
  },
  {
   "attachments": {},
   "cell_type": "markdown",
   "metadata": {},
   "source": [
    "Now let's look at a single channel"
   ]
  },
  {
   "cell_type": "code",
   "execution_count": null,
   "metadata": {},
   "outputs": [],
   "source": [
    "plt.imshow(img[:, :, 0], 'gray')"
   ]
  },
  {
   "attachments": {},
   "cell_type": "markdown",
   "metadata": {},
   "source": [
    "Now let's flip the image on the horizontal axis"
   ]
  },
  {
   "cell_type": "code",
   "execution_count": null,
   "metadata": {},
   "outputs": [],
   "source": [
    "plt.imshow(img[:, ::-1, :])"
   ]
  },
  {
   "attachments": {},
   "cell_type": "markdown",
   "metadata": {},
   "source": [
    "Or the channels"
   ]
  },
  {
   "cell_type": "code",
   "execution_count": null,
   "metadata": {},
   "outputs": [],
   "source": [
    "plt.imshow(img[:, :, ::-1])"
   ]
  },
  {
   "cell_type": "markdown",
   "metadata": {},
   "source": [
    "### Adding elements, combining and &ldquo;transposing&rdquo; arrays\n",
    "\n"
   ]
  },
  {
   "cell_type": "markdown",
   "metadata": {},
   "source": [
    "One downside of `np.array` with respect to a `list` is that we cannot really use\n",
    "`append` to add elements dynamically. We can however use the\n",
    "`np.concatenate` function to concatenate multiple arrays, or even simple Python\n",
    "lists. For example, if we wanted to add a `1.0` to a 1d array of 3 zeros we\n",
    "could do:\n",
    "\n"
   ]
  },
  {
   "cell_type": "code",
   "execution_count": null,
   "metadata": {},
   "outputs": [],
   "source": [
    "y = np.zeros(3)\n",
    "print(y)\n",
    "y = np.concatenate([y, [1.0]])\n",
    "print(y)"
   ]
  },
  {
   "cell_type": "markdown",
   "metadata": {},
   "source": [
    "We can concatenate any number of arrays, e.g. let&rsquo;s make an array that looks\n",
    "like `[0.0, 0.0, 1.0, 1.0, 0.0, 0.0]`:\n",
    "\n"
   ]
  },
  {
   "cell_type": "code",
   "execution_count": null,
   "metadata": {},
   "outputs": [],
   "source": [
    "np.concatenate([np.zeros(2), np.ones(2), np.zeros(2)])"
   ]
  },
  {
   "cell_type": "markdown",
   "metadata": {},
   "source": [
    "Now let&rsquo;s say we want to concatenate 2d arrays or combine 1d arrays to create a\n",
    "2d array. Here we can use the `np.hstack` and `np.vstack` functions, which\n",
    "respectively concatenate arrays in the &ldquo;horizontal&rdquo; and &ldquo;vertical&rdquo; directions.\n",
    "Observe this code:\n",
    "\n"
   ]
  },
  {
   "cell_type": "code",
   "execution_count": null,
   "metadata": {},
   "outputs": [],
   "source": [
    "np.vstack([np.ones(3), np.ones((2, 3))])"
   ]
  },
  {
   "cell_type": "markdown",
   "metadata": {},
   "source": [
    "Note here that for NumPy, a 1d array is a &ldquo;row&rdquo; of elements (that can get a bit\n",
    "ambiguous in certain cases, but we will not cover it here).\n",
    "\n",
    "Similarly, we can stack arrays in the horizontal direction\n",
    "\n"
   ]
  },
  {
   "cell_type": "code",
   "execution_count": null,
   "metadata": {},
   "outputs": [],
   "source": [
    "A = np.hstack([np.ones((2, 1)), np.zeros((2, 2))])\n",
    "A"
   ]
  },
  {
   "cell_type": "markdown",
   "metadata": {},
   "source": [
    "Testing it on our image:"
   ]
  },
  {
   "cell_type": "code",
   "execution_count": null,
   "metadata": {},
   "outputs": [],
   "source": [
    "plt.imshow(np.hstack([img, img]))"
   ]
  },
  {
   "cell_type": "markdown",
   "metadata": {},
   "source": [
    "These functions will only work if the size of the arrays we want to combine is\n",
    "&ldquo;compatible&rdquo;, i.e. we can only stack horizontally if arrays have the same number\n",
    "of rows, and we can only stack vertically if arrays have the number of columns.\n",
    "\n",
    "Now what if I wanted to append a column to `A` with the values `[2, 3]`? Doing\n",
    "this will not work because, as we previously mentioned, a &ldquo;1d array&rdquo; (a list is\n",
    "equivalent to one), is considered as a row:\n",
    "\n"
   ]
  },
  {
   "cell_type": "code",
   "execution_count": null,
   "metadata": {},
   "outputs": [],
   "source": [
    "#np.hstack([A, [2, 3]])"
   ]
  },
  {
   "cell_type": "markdown",
   "metadata": {},
   "source": [
    "One can use this kind of syntax, and [others](https://stackoverflow.com/questions/5954603/transposing-a-1d-numpy-array), to make the above attempt work:\n",
    "\n"
   ]
  },
  {
   "cell_type": "code",
   "execution_count": null,
   "metadata": {},
   "outputs": [],
   "source": [
    "np.hstack([A, np.array([2, 3]).reshape(-1,1)])"
   ]
  },
  {
   "cell_type": "markdown",
   "metadata": {},
   "source": [
    "This `reshape` reshapes the array [2, 3] from a 1D array to a 2D column vector. The -1 here means \"automatically determine the number of rows based on the number of elements in the array,\" while 1 specifies that there should be one column. So, `np.array([2, 3]).reshape(-1, 1)` turns the array [2, 3] into a 2D array with two rows and one column\n",
    "\n"
   ]
  },
  {
   "attachments": {},
   "cell_type": "markdown",
   "metadata": {},
   "source": [
    "### Reshaping arrays\n",
    "In machine learning applications we will often encounter cases where we need to reshape a numpy array so it is compatible with the inputs of a given machine learning model.\n",
    "For example, we will see image-based models that are trained on batches of multiple RGB images with shape `(height, width, 3)`, which are stored as a single array with shape `(number_of_images, height, width, 3)`. If we want to use such a model with a single image, we need to reshape an array by adding a dummy dimension. This can be done with the `np.expand_dims` function or the `reshape` method of the array itself. As long as we add *one* dimension, the order of the data in the array will remain unchanged.\n",
    "So for example given an array:"
   ]
  },
  {
   "cell_type": "code",
   "execution_count": null,
   "metadata": {},
   "outputs": [],
   "source": [
    "img = np.zeros((600, 800, 3))\n",
    "print(img.shape)"
   ]
  },
  {
   "attachments": {},
   "cell_type": "markdown",
   "metadata": {},
   "source": [
    "We can equivalently do:"
   ]
  },
  {
   "cell_type": "code",
   "execution_count": null,
   "metadata": {},
   "outputs": [],
   "source": [
    "img2 = img.reshape((1, 600, 800, 3))\n",
    "print(img2.shape)"
   ]
  },
  {
   "attachments": {},
   "cell_type": "markdown",
   "metadata": {},
   "source": [
    "Or"
   ]
  },
  {
   "cell_type": "code",
   "execution_count": null,
   "metadata": {},
   "outputs": [],
   "source": [
    "img2 = np.expand_dims(img, 0)\n",
    "print(img2.shape)"
   ]
  },
  {
   "attachments": {},
   "cell_type": "markdown",
   "metadata": {},
   "source": [
    "In another instance we will see grayscale images that are loaded as arrays of shape `(height, width)`. In this case we will need to add two dummy dimension, one at the beginning and one at the end resulting in a shape of `(number_of_images, height, width, 1)`. This stands for \"one image of width, height with one channel\". Again since we add single dimensions we are effectively not modifying the number of elements in the array. So in this instance, given an image"
   ]
  },
  {
   "cell_type": "code",
   "execution_count": null,
   "metadata": {},
   "outputs": [],
   "source": [
    "img = np.zeros((600, 800))\n",
    "img.shape"
   ]
  },
  {
   "attachments": {},
   "cell_type": "markdown",
   "metadata": {},
   "source": [
    "We would do:"
   ]
  },
  {
   "cell_type": "code",
   "execution_count": null,
   "metadata": {},
   "outputs": [],
   "source": [
    "img2 = img.reshape((1, 600, 800, 1))\n",
    "img2.shape"
   ]
  },
  {
   "cell_type": "markdown",
   "metadata": {},
   "source": [
    "### Mathematical operations on arrays\n",
    "\n"
   ]
  },
  {
   "cell_type": "markdown",
   "metadata": {},
   "source": [
    "Ok, now to some more &ldquo;meaty&rdquo; things we can do with arrays. Differently from\n",
    "lists, we can do operations with arrays such as multiplication, addition etc..etc&#x2026;\n",
    "\n",
    "Multiplying/dividing/adding/subtracting/raising-to-a-power with a single number,\n",
    "applies the operation to all elements in an array. So now, finally, we can make\n",
    "an array all of 9&rsquo;s!\n",
    "\n"
   ]
  },
  {
   "cell_type": "code",
   "execution_count": null,
   "metadata": {},
   "outputs": [],
   "source": [
    "np.ones((5,3))*9"
   ]
  },
  {
   "cell_type": "markdown",
   "metadata": {},
   "source": [
    "As a small exercise, try creating the same array with addition.\n",
    "\n",
    "We can also apply other operations in &ldquo;batch&rdquo; form for example let&rsquo;s take the square root of\n",
    "a sequence of numbers:\n",
    "\n"
   ]
  },
  {
   "cell_type": "code",
   "execution_count": null,
   "metadata": {},
   "outputs": [],
   "source": [
    "np.sqrt(np.linspace(0, 7, 3))"
   ]
  },
  {
   "cell_type": "markdown",
   "metadata": {},
   "source": [
    "See [here](https://numpy.org/doc/stable/reference/routines.math.html) for a list of\n",
    "available operations.\n",
    "\n",
    "As another example we can very rapidly get the values of a\n",
    "cosine wave with an expression such as\n",
    "\n"
   ]
  },
  {
   "cell_type": "code",
   "execution_count": null,
   "metadata": {},
   "outputs": [],
   "source": [
    "np.cos(np.linspace(0, np.pi*2, 20))"
   ]
  },
  {
   "cell_type": "markdown",
   "metadata": {},
   "source": [
    "&#x2026;we will plot this one soon.\n",
    "\n",
    "As long as two arrays have the same dimension, we can also\n",
    "multiply/add/subtract/divide **between them**, e.g:\n",
    "\n"
   ]
  },
  {
   "cell_type": "code",
   "execution_count": null,
   "metadata": {},
   "outputs": [],
   "source": [
    "np.linspace(0, 1, 5) + np.linspace(-2, -1, 5)"
   ]
  },
  {
   "cell_type": "markdown",
   "metadata": {},
   "source": [
    "### More operations on arrays\n",
    "\n"
   ]
  },
  {
   "cell_type": "markdown",
   "metadata": {},
   "source": [
    "Numpy provides some useful functions to examine and manipulate arrays. The\n",
    "`np.max` and `np.min` functions give us the maximum and minimum value of an\n",
    "array (or even a list). For example\n",
    "\n"
   ]
  },
  {
   "cell_type": "code",
   "execution_count": null,
   "metadata": {},
   "outputs": [],
   "source": [
    "z = np.random.uniform(-10, 10, 10) # generate an array with 10 random values between -10 and 10\n",
    "print(z)\n",
    "print('Maximum is: ' + str(np.max(z)))"
   ]
  },
  {
   "cell_type": "markdown",
   "metadata": {},
   "source": [
    "This could be used for example to normalize the array\n",
    "\n"
   ]
  },
  {
   "cell_type": "code",
   "execution_count": null,
   "metadata": {},
   "outputs": [],
   "source": [
    "(z - np.min(z)) / (np.max(z) - np.min(z))"
   ]
  },
  {
   "cell_type": "markdown",
   "metadata": {},
   "source": [
    "Another couple of particularly useful functions ar `np.argmin` and `np.argmax`. These give us **the index** of the minimum and maximum value in an array (or a list).\n",
    "One example use of these functions is in a classification setting. Say our classifier gives us a series of probabilities for given classes. We can concisely find the maximum class (as an index) with:\n",
    "\n"
   ]
  },
  {
   "cell_type": "code",
   "execution_count": null,
   "metadata": {},
   "outputs": [],
   "source": [
    "p = [0.3, 0.5, 0.1, 0.1]\n",
    "print(p)\n",
    "print(\"Maximum is \" + str(np.argmax(p)))"
   ]
  },
  {
   "cell_type": "markdown",
   "metadata": {},
   "source": [
    "Note that here we used a simple list and not an array.\n",
    "\n",
    "One more useful function is `np.sum`. It  sums all the values in an array and returns the result.\n",
    "E.g.\n",
    "\n"
   ]
  },
  {
   "cell_type": "code",
   "execution_count": null,
   "metadata": {},
   "outputs": [],
   "source": [
    "z = np.linspace(0, 5, 4)\n",
    "print(z)\n",
    "print(np.sum(z))"
   ]
  },
  {
   "cell_type": "markdown",
   "metadata": {},
   "source": [
    "For multi-dimensional arrays it is possible to also sum along rows, or columns, etc.., by specifying the `axis` optional argument:\n",
    "\n"
   ]
  },
  {
   "cell_type": "code",
   "execution_count": null,
   "metadata": {},
   "outputs": [],
   "source": [
    "z = np.ones((3, 4))\n",
    "print(z)\n",
    "print(np.sum(z, axis=0)) # sum along columns\n",
    "print(np.sum(z, axis=1)) # sum along rows"
   ]
  },
  {
   "cell_type": "markdown",
   "metadata": {},
   "source": [
    "In this case the result is an array and not a number. The same &ldquo;axis&rdquo; trick also holds for `np.min` and `np.max` and many other functions.\n",
    "\n"
   ]
  },
  {
   "cell_type": "markdown",
   "metadata": {},
   "source": [
    "## Matplotlib (plotting)\n",
    "\n"
   ]
  },
  {
   "cell_type": "markdown",
   "metadata": {},
   "source": [
    "With some NumPy tools in place, let&rsquo;s dive into creating some images. One of the\n",
    "most widely used tools for this taks in Python is a package called [Matplotlib](https://matplotlib.org).\n",
    "This is a large and sometimes difficult to grasp (well) visualization framework,\n",
    "that is inspired to the plotting capabilities of Matlab. The typical way to\n",
    "import matplotlib is the following:\n",
    "\n"
   ]
  },
  {
   "cell_type": "code",
   "execution_count": null,
   "metadata": {},
   "outputs": [],
   "source": [
    "import matplotlib.pyplot as plt"
   ]
  },
  {
   "cell_type": "markdown",
   "metadata": {},
   "source": [
    "In English: &ldquo;import the `pyplot` module from the `matplotlib` package and refer to it\n",
    "with the identifier `plt`&rdquo;.\n",
    "\n",
    "As a basic example let&rsquo;s plot `100` samples from a sine wave:\n",
    "\n"
   ]
  },
  {
   "cell_type": "code",
   "execution_count": null,
   "metadata": {},
   "outputs": [],
   "source": [
    "x = np.linspace(0, np.pi*4, 100)\n",
    "y = np.sin(x)\n",
    "\n",
    "plt.figure(figsize=(10, 5))\n",
    "plt.plot(x, y)\n",
    "plt.show()"
   ]
  },
  {
   "cell_type": "markdown",
   "metadata": {},
   "source": [
    "Now let&rsquo;s walk through the code. The first two lines use the methods we have\n",
    "seen in the earlier section to generate an array of values and to then compute\n",
    "the value of the `sin` function for each of these values.\n",
    "\n",
    "In the rest of the code, first we create a new &ldquo;figure&rdquo; with the `plt.figure`\n",
    "function. Here we can see a very common Python construct we have not encountered\n",
    "before: a named optional argument. **In Python we can define functions with\n",
    "arguments that have a default value, and then set these arguments in an\n",
    "arbitrary order by explicitly naming them**. So here for example, we decide to\n",
    "specify the size of the image, which is sepecified with the argument `figsize`\n",
    "and a tuple `(width, height)`. This parameter is optional, so try to remove it\n",
    "and see what happens.\n",
    "\n",
    "From now on, all our plotting commands will end up in the current &ldquo;figure&rdquo;. The\n",
    "next line is the `plt.plot` function that takes a series of `x` coordinates and\n",
    "a corresponding series of `y` coordinates.\n",
    "\n",
    "Finally, the `plt.show()` function displays our result.\n",
    "\n"
   ]
  },
  {
   "cell_type": "markdown",
   "metadata": {},
   "source": [
    "### Combining multiple plots into one\n",
    "\n"
   ]
  },
  {
   "cell_type": "markdown",
   "metadata": {},
   "source": [
    "Now say we want to show a sine and a cosine wave in the same plot:\n",
    "\n"
   ]
  },
  {
   "cell_type": "code",
   "execution_count": null,
   "metadata": {},
   "outputs": [],
   "source": [
    "plt.figure(figsize=(10, 5))\n",
    "plt.title(\"Cosine and Sine\")\n",
    "plt.plot(x, np.cos(x), label='Cosine')\n",
    "plt.plot(x, np.sin(x), label='Sine')\n",
    "plt.legend()\n",
    "plt.savefig('myplot.pdf')\n",
    "plt.show()"
   ]
  },
  {
   "cell_type": "markdown",
   "metadata": {},
   "source": [
    "Here you can see that after specifying the &ldquo;figure&rdquo; the following `plt.plot`\n",
    "commands adds curves to the same figure. Anything we do between `plt.figure` and\n",
    "`plt.show` will be added to the given figure. So in this example, we have added a title with the\n",
    "`plt.title` function, and we have specified labels for our curves with the\n",
    "`label` optional argument. Finally we visualize the legend with `plt.legend()`.\n",
    "In this example we also save the figure as a pdf. This can be easily done with\n",
    "the `plt.savefig` function. Note that this function should be called as the last\n",
    "thing before `plt.show()`.\n",
    "\n",
    "In the example above, Matplotlib automatically sets colors for us. However, we\n",
    "can explitly set the colors, and many other parameters. See [the function&rsquo;s\n",
    "documentation](https://matplotlib.org/stable/api/_as_gen/matplotlib.pyplot.plot.html) for examples and more info.\n",
    "\n",
    "The important thing to grasp here is that Matplotlib works in a &ldquo;stateful&rdquo;\n",
    "manner. We crate a figure and then incrementally add things to it and change\n",
    "it&rsquo;s state (e.g. adding a title, a legend) and finally viusalize it when we\n",
    "finished our specification.\n",
    "\n"
   ]
  },
  {
   "cell_type": "markdown",
   "metadata": {},
   "source": [
    "### Subplots\n",
    "\n"
   ]
  },
  {
   "cell_type": "markdown",
   "metadata": {},
   "source": [
    "It is often useful to place multiple plots into the same figure. This can be\n",
    "easily done with Matplotlib. Say we want to draw the sine and cosine waves into\n",
    "two different plots. One method to do this could be:\n",
    "\n"
   ]
  },
  {
   "cell_type": "code",
   "execution_count": null,
   "metadata": {},
   "outputs": [],
   "source": [
    "plt.figure(figsize=(10, 5))\n",
    "ax = plt.subplot(1, 2, 1)\n",
    "plt.title(\"Cosine\")\n",
    "plt.plot(x, np.cos(x))\n",
    "ax = plt.subplot(1, 2, 2)\n",
    "plt.title(\"Sine\")\n",
    "plt.plot(x, np.sin(x))\n",
    "plt.show()"
   ]
  },
  {
   "cell_type": "markdown",
   "metadata": {},
   "source": [
    "The key here is the `plt.subplot(num_rows, num_cols, index)`, which tells\n",
    "Matplotlib that our current drawing commands will go into a &ldquo;subplot&rdquo; within a\n",
    "`num_rows * num_cols` grid and in the cell with a given `index`. The index\n",
    "starts from the top left cell and continues along each row. So say we had a 2x2\n",
    "grid, the index to draw into the first cell of the second row would be `3`.\n",
    "\n",
    "Here, you will notice that we store the result of the `plt.subplot` function.\n",
    "This gives us an `Axes` object, which refers to the current sub-plot and is\n",
    "useful to set its properties.\n",
    "\n"
   ]
  },
  {
   "cell_type": "markdown",
   "metadata": {},
   "source": [
    "### Loading and showing images\n",
    "\n"
   ]
  },
  {
   "cell_type": "code",
   "execution_count": null,
   "metadata": {},
   "outputs": [],
   "source": [
    "img = plt.imread('images/spock.jpg')\n",
    "plt.figure()\n",
    "plt.imshow(img)\n",
    "plt.axis('off')\n",
    "plt.show()"
   ]
  },
  {
   "cell_type": "markdown",
   "metadata": {},
   "source": [
    "The image is actually a 3d `np.array` with shape\n",
    "\n"
   ]
  },
  {
   "cell_type": "code",
   "execution_count": null,
   "metadata": {},
   "outputs": [],
   "source": [
    "img.shape"
   ]
  },
  {
   "cell_type": "markdown",
   "metadata": {},
   "source": [
    "with the difference that our image is stored as `uint8` (8 bit integers going from 0 to 255).\n",
    "This means that the array has a lower available precision than the floating point arrays we were seeing earlier.\n",
    "\n",
    "We can query the &ldquo;type&rdquo; of an array with the `dtype` property:\n",
    "\n"
   ]
  },
  {
   "cell_type": "code",
   "execution_count": null,
   "metadata": {},
   "outputs": [],
   "source": [
    "img.dtype"
   ]
  },
  {
   "cell_type": "markdown",
   "metadata": {},
   "source": [
    "This is a subtlety that we will have do deal with especially when working with images.\n",
    "\n",
    "We can still do slicing etc for example this will show a detail of only one channel of the image:\n",
    "\n"
   ]
  },
  {
   "cell_type": "code",
   "execution_count": null,
   "metadata": {},
   "outputs": [],
   "source": [
    "plt.figure()\n",
    "plt.imshow(img[:20, :20, 2], interpolation='nearest')\n",
    "plt.show()"
   ]
  },
  {
   "cell_type": "markdown",
   "metadata": {},
   "source": [
    "Note that we use an optional parameter `interpolation='nearest'`. This indicates\n",
    "that we do not want to filter the image when scaling it and it results in the\n",
    "pixels being shown as distinct squares. Try `bilinear` or `bicubic` for smoother interpolations.\n",
    "\n"
   ]
  }
 ],
 "metadata": {
  "kernelspec": {
   "display_name": "dmlap25",
   "language": "python",
   "name": "python3"
  },
  "language_info": {
   "codemirror_mode": {
    "name": "ipython",
    "version": 3
   },
   "file_extension": ".py",
   "mimetype": "text/x-python",
   "name": "python",
   "nbconvert_exporter": "python",
   "pygments_lexer": "ipython3",
   "version": "3.10.16"
  },
  "org": null
 },
 "nbformat": 4,
 "nbformat_minor": 1
}
