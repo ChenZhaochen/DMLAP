{
 "cells": [
  {
   "cell_type": "markdown",
   "metadata": {},
   "source": [
    "## Audio Classification\n",
    "\n",
    "In this notebook we are going to train an audio classifier on the [Speech Commands dataset](https://drive.usercontent.google.com/download?id=1J0rGy64nRSNdAjgfDXzPHs_YHkvAiP8-). It is a multi-class classification problem. After running the notebook as it is, you are invited to use the same notebook to train a model on your custom dataset. \n",
    "\n",
    "The network of this notebook is a 1-Dimensional CNN, similar to the networks we saw in week 5 for image classification. The specific architecture is modeled after the M5 network architecture described in [this paper](https://arxiv.org/pdf/1610.00087.pdf). You can read more about Speech Command Classification with torchaudio in [PyTorch Tutorial page](https://pytorch.org/tutorials/intermediate/speech_command_classification_with_torchaudio_tutorial.html) which is also the reference point for this notebook. This notebook follows the structure of [this reference notebook](https://github.com/terrybroad/CCI-AI-4-Media-23-24/blob/main/Week-6a-Audio-classification/01-train-audio-classifier.ipynb) from Terence Broad."
   ]
  },
  {
   "cell_type": "markdown",
   "metadata": {},
   "source": [
    "Possibly needed installs:"
   ]
  },
  {
   "cell_type": "code",
   "execution_count": null,
   "metadata": {},
   "outputs": [],
   "source": [
    "# Librosa is a python package for music and audio analysis that we will use in the other notebook.\n",
    "# !conda install conda-forge::librosa -y\n",
    "\n",
    "# I needed to downgrade numpy from 2.2 to 2.1 to make torchaudio work effectively.\n",
    "# First check the code below to see if it works for you.\n",
    "# If it doesn't, uncomment the next line and run it.\n",
    "# !conda install -c conda-forge numpy=2.1"
   ]
  },
  {
   "cell_type": "markdown",
   "metadata": {},
   "source": [
    "We will start with downloading the training dataset.\n",
    "\n",
    "You can use the `gdown` module to download the dataset from its google drive link (see below) or you can download the dataset manually from [this link](https://drive.usercontent.google.com/download?id=1J0rGy64nRSNdAjgfDXzPHs_YHkvAiP8-) and move it in the `datasets` folder of this directory."
   ]
  },
  {
   "cell_type": "code",
   "execution_count": null,
   "metadata": {},
   "outputs": [],
   "source": [
    "# If an error occurs, you might be missing the gdown package\n",
    "# Install it by running `!pip install gdown` on a seperate cell\n",
    "!gdown 1J0rGy64nRSNdAjgfDXzPHs_YHkvAiP8-"
   ]
  },
  {
   "cell_type": "code",
   "execution_count": null,
   "metadata": {},
   "outputs": [],
   "source": [
    "# create a path to move your dataset in\n",
    "import os\n",
    "PATH = './datasets'\n",
    "if not os.path.exists(PATH):\n",
    "    os.makedirs(PATH)"
   ]
  },
  {
   "cell_type": "code",
   "execution_count": null,
   "metadata": {},
   "outputs": [],
   "source": [
    "# Unzip the dataset and move it to the designated directory\n",
    "\n",
    "# *** for MAC and Linux OS ***\n",
    "!unzip speech-commands.zip            # unzip dataset\n",
    "!mv speech-commands ./datasets        # move the unzipped dataset in the designated directory\n",
    "!rm speech-commands.zip               # remove the zip file from this directory\n",
    "!rm -rf __MACOSX                      # remove all hidden unnecessary files starting with _MACOSX\n",
    "\n",
    "# *** for Windows OS ***\n",
    "# !tar -xf speech-commands.zip               # unzip dataset\n",
    "# !robocopy speech-commands ./datasets/ /E   # copy and paste unzipped dataset to the designated directory \n",
    "# !del speech-commands.zip                   # delete the zip file from this directory\n",
    "# !rmdir /s /q speech-commands               # delete the entire directory tree without confirmation"
   ]
  },
  {
   "cell_type": "markdown",
   "metadata": {},
   "source": [
    "#### Imports"
   ]
  },
  {
   "cell_type": "code",
   "execution_count": null,
   "metadata": {},
   "outputs": [],
   "source": [
    "from torch.utils.data import DataLoader\n",
    "import torch.nn.functional as F\n",
    "import torch.optim as optim\n",
    "import torch.nn as nn\n",
    "import torchaudio\n",
    "import torch\n",
    "\n",
    "import matplotlib.pyplot as plt\n",
    "import IPython.display as ipd\n",
    "from tqdm import tqdm\n",
    "import numpy as np\n",
    "import os\n",
    "\n",
    "from src.audio_dataloader import AudioFolder\n",
    "\n",
    "# Get cpu, gpu or mps device for training\n",
    "device = (\n",
    "    \"cuda\"\n",
    "    if torch.cuda.is_available()\n",
    "    else \"mps\"\n",
    "    if torch.backends.mps.is_available()\n",
    "    else \"cpu\"\n",
    ")\n",
    "print(f\"Using {device} device\")"
   ]
  },
  {
   "cell_type": "code",
   "execution_count": null,
   "metadata": {},
   "outputs": [],
   "source": [
    "# you can skip this step if you created your dataset folder manually\n",
    "# with your custom classes\n",
    "# dataset = torchaudio.datasets.SPEECHCOMMANDS('./datasets' , url = 'speech_commands_v0.02', folder_in_archive= 'SpeechCommands',  download = True)"
   ]
  },
  {
   "cell_type": "markdown",
   "metadata": {},
   "source": [
    "#### Hyperparameters"
   ]
  },
  {
   "cell_type": "code",
   "execution_count": null,
   "metadata": {},
   "outputs": [],
   "source": [
    "new_sample_rate = 8000\n",
    "batch_size = 256\n",
    "learn_rate = 1e-2\n",
    "weight_decay = 1e-4\n",
    "num_epochs = 2\n",
    "val_size = 0.3\n",
    "# Root directory for dataset\n",
    "dataroot = './datasets/speech-commands'\n",
    "# Path to new model\n",
    "save_path = 'models/model.pt'"
   ]
  },
  {
   "cell_type": "markdown",
   "metadata": {},
   "source": [
    "#### Metadata of a sample audio file\n",
    "\n",
    "Below you will notice that:\n",
    "- The audio is sampled at 16,000 samples per second (16 kHz). This is a common rate for speech processing.\n",
    "\n",
    "- The total number of frames is also 16,000. Since it's an audio clip sampled at 16 kHz, it will be 1-second long.\n",
    "\n",
    "- The audio is mono (single-channel).\n",
    "\n",
    "- Each sample is represented using 16 bits (2 bytes), which is standard for high-quality audio.\n",
    "\n",
    "- The audio uses PCM (Pulse Code Modulation) Signed encoding, a common uncompressed format where samples are stored as signed integers."
   ]
  },
  {
   "cell_type": "code",
   "execution_count": null,
   "metadata": {},
   "outputs": [
    {
     "name": "stdout",
     "output_type": "stream",
     "text": [
      "AudioMetaData(sample_rate=16000, num_frames=16000, num_channels=1, bits_per_sample=16, encoding=PCM_S)\n"
     ]
    }
   ],
   "source": [
    "# Select a sample audio file from the training dataset and look into its metadata\n",
    "sample_wav = dataroot + '/train/bed/0a7c2a8d_nohash_0.wav' # change to any sample you wish to view\n",
    "metadata = torchaudio.info(sample_wav)\n",
    "waveform, sample_rate = torchaudio.load(sample_wav)\n",
    "print(metadata)"
   ]
  },
  {
   "cell_type": "code",
   "execution_count": null,
   "metadata": {},
   "outputs": [
    {
     "data": {
      "text/plain": [
       "torch.Size([1, 16000])"
      ]
     },
     "execution_count": 17,
     "metadata": {},
     "output_type": "execute_result"
    }
   ],
   "source": [
    "waveform.shape # see (num_channels, num_samples)"
   ]
  },
  {
   "cell_type": "markdown",
   "metadata": {},
   "source": [
    "#### Listen to audio with its original sample rate"
   ]
  },
  {
   "cell_type": "code",
   "execution_count": 19,
   "metadata": {},
   "outputs": [
    {
     "data": {
      "text/html": [
       "\n",
       "                <audio  controls=\"controls\" >\n",
       "                    <source src=\"data:audio/wav;base64,UklGRiR9AABXQVZFZm10IBAAAAABAAEAgD4AAAB9AAACABAAZGF0YQB9AAD9/7b/nv/H/97/0f/A/8P/w/+5/9v/GwA5AOz/vP85AOAAiABh/0X/mQCHAVUAef4I/2sBFQLN//H9OP+AATIBzv4J/tH/mwECAf7+V/6Q/8UASgAg//f+8//qAOMAFADm/o7+vP/jACUAh/7E/q0AgwH9/1f+5v67AG8BWwBM/2v/LwBOAG7/vf4x/0cA3QDPAHoAPQAbAAMACgDi/6v/9v+EAM8AfQDe/4P/pf8NAF8AhACmALcAjgD9/2v/Rf91/7z/DQCLANYAmQAlAOX/1P/A/7n/7P9HAIEAWADs/5f/kP+v/9H/8/8vAH0AhAAlALz/g/9u/4n/tv/Y//b/GwBAACIA3v/R/woAbACLAGYAXwBmAFsANgAUAAMAGwBRAFgANgAKAAMABgDz/+X/7P/s/9v/2P/N/8r/yv/N/9T/zf/R/9v/8/8AAAMA+v/s//P//f8NABsAKAAsABcA8//Y/+//9v/6//P/5f/2/wAAAADz/+z/6f/e/+L/7P/6/wMACgARAAoAAAARACwANgAeABsANgAvAAMAw//H/wAAFwD2/97/6f8DAAAAw/+o/9H/AAD9/9H/zf/z/wAA2P/H/+z/RABbACIA9v8DAEQAOQD2/+X/JQBiACUAvP+r/9v/3v+8/6X/1P8NABQACgD6/+z/7P/2/wMANgA9ACwALAA5AEcAMwARAAoALAA5ACwAHgANABEACgDz/97/2//9/xsADQD6//3/8//e/+X/5f/s/+X/zf/Y/+X/7//2//P/8//6/wMA+v/s/+L/3v/z/wAAAwANABQAHgANANv/wP/R//P/BgAGAAMAFAAzAEAAMwAUACIARwBOADMABgD9/wMA9v/Y/8r/4v/z/wAAAwADAAMA9v/z//r/AwARABcAAwDs/97/2P/Y/+L/9v8GAB4AIgAUAA0AAAAAAAYAAADp/+z/AwAAAPP/7/8GACUAKAAKAPP/AAAXABQA7//p/woAJQAlAB4AIgAUAAAA5f/K/9H/6f/z//b/AwAGAPP/4v/l/+z/+v/z//b/AwAAAP3/AwD9//3/FwAoAEAASgA5AEAAPQAlACIAKAAlACgAFwAAAPb/9v/2/+z/7P/2/woADQDp/9H/zf/R/83/yv/R/+L/AwAAAPr/+v/6/wAAAwAKAB4ANgA9ADMALAAiABcAGwARABQAJQAXAPr/5f/Y/8r/0f/e//P/AAAAAP3/AAADAAMADQAKAAoAFAADAPr/6f/p/+X/1P/R/97/+v8DAAMA8//z/+z/2P/K/8r/4v/9/xQA/f/i/+z//f8DAAoA8//p//r/9v/b/9T/2P/p//r/8/8AAAYACgARAPP/2//e/+X/8//9/w0AFwANAAMA+v/6//r/7//v//r//f8AAP3/+v/2//b/AwARACUAMwAvACwACgD9/wAAAwADAAAAAAAAAA0AJQAeAAoAHgAoAB4ADQAAAAoACgAeACUALwAoAA0AFAAKAAoAJQAiABsAKAA5AD0APQA2ADMAIgARAAoAAwAAAAAAAAAKAAYA/f8AAP3/8//s//b/AAAAAP3/7P/s/+X/6f/z/+X/7P/z//r/8//e/+L/3v/K/7n/x//e/+n/9v8AAAYACgAGAAoADQANABsAFwADAOz/7/8GAAYAAAD9/wMAAADs/9v/3v/b/9v/5f/e/+X/6f/p/9v/2P/e/+//+v/z//3/+v8DAAAA7//6//r/CgAbABsAJQAeAAoAAAAAAPb/7P/2/wYAHgAiABEABgARAA0AEQAlACgAFAAKAAYADQAlADMANgA5ABcA/f8AABEAHgAeAB4AHgAKAPP/3v/A/7L/q/+2/9H/3v/s//r/AAAAAPr/9v8AAAoACgAAAO//2P/N/8r/2//6/wAAEQAiACUALwAeAAoADQAbAB4AMwA5ACUAFwAGAAAAAAAKABcAKAAlABQACgDs/+L/2P/U//P/AAAUACIAEQADAAMAAAD9//r/CgAUABQAFwAKAAMA/f/2//P/8//2//r/7//l/+L/2//b/+L//f8GAA0ADQD6//P/3v/i//P/6f/s/+X/4v/i/9j/3v/s/+//8//l/9v/6f/e/8r/yv/H/83/1P/p//3//f/2/+//8//v//b/AAADABQAGwAlABsACgAGAA0AHgAiACIAKAAsAC8AOQAvADMAOQBKAEoAMwA5ADkAMwAsADMAQAAvAB4AFAAeACUAJQAeABcAEQARAA0A+v/9/w0AGwAsAD0ALAAXAAMA9v/l/97/4v/p/+L/1P/b/9v/x//H/9j/4v/s//b/7P/v//b/5f/b/83/w//U/+//9v8GABQACgD9//r/+v/z//3/BgANAAMA9v/z/+X/3v/i/+//AAADAAMABgDv/9j/2//v//b//f8GAPr/9v/z/+n/7//z//r/AwAAAAYABgAKAB4AHgAUABEAFwAbAC8ALwAbAAoAAAAKAA0ADQARABsAFwADAP3/+v/6//r/7//2/wYACgADAPb/7//2/+z/7/8AABQAJQAlACgAFwADAPr/9v/z//P/8//z//r/9v/2//r/8//z/+X/7P/9//r/+v/6//b/8//v/+//3v/Y/97/4v/z/wAAEQAXABQAEQAUACIAJQAoACwAEQAKABQAAwAAAOn/6f/2/+//+v/z/+X/7P/9/x4AJQAKAAAA6f/i/+//7//9/wMAAwD9/+X/3v/e/+X/6f/2/wMA/f/6/wAA/f/v//r/+v8AAAoADQAeACwALAAlABcAAwD2//3/BgAAAAYAAwDv/+n/4v/s/+z/+v8DAAAAAADz/9H/wP/Y/+L/7P/2/wYAFwAGAAYABgANABsALABEAEAALAAzADkAKAAeADMARwBEADMALAAlACIAGwAGAAYAAAAGAA0AAwAKABEAEQAUAAoA8//2//3//f/6//P/9v/v/+//7P/6/xQABgANABcACgAiADMALwAoACIAFAAKAAoAAwDv/+n/9v/v/97/x//A/9H/5f8DAAoAAADl/97/5f/l//P/8/8AAAYAAwAGAO//2P/R/8P/zf/b/9v/x//D/83/vP+2/7L/uf+5/7b/yv/i/+n/9v8DABQAIgANAAYAFwAUABsAHgAGAPP/7P/l//P//f/2//P/7//p/+n/AAARABEAEQADAAYAFAAeACgAKAAsACgAKAAeABQAGwAXACIAJQAbABsAFAAUACIAGwAbACIAIgAlACUALAAlAB4AGwAbABEAAwAAAAYAFAAbABcAKAAvABsABgD9/wAACgANABQAGwAXAA0AAAD6/+X/6f/v/+z/AAAAAAMACgANABcABgD6//b/9v8AAAYAAwD6//P/8//v/+X/6f/e/8P/w//A/6//q/+r/6v/q/+8/9j/4v/Y/9v/7P/z/+//8/8KABEACgAUABsAFwAGAO//5f/v//P/8//z/+//8/8AAAAA8//9/wYAAAAAAAAAAAAAAAMAAAD9//3/8//2//P/+v8AAAAAAwAKAAYABgAXABsAJQAlAB4AGwAUABEAFwAeABEAEQAbACIAEQAKABcAEQD6//b//f8DAAAA/f/6/+//9v/6/wAABgARABEAEQARAAYABgD2//r/CgADAAMA+v/v/+//3v/p/+X/2P/p/wAACgADAAYA/f/2//3/AAD9//3/AADz/+X/6f/v//3/AAD9/woAFAARAAYABgADAAAAEQAlACwAIgAGAP3/AAADABEAGwAoAC8AIgAlACgAFAAKABEACgD6/+X/7P/9/wAAAAAAAP3//f8DAAMAAwD9//r/9v/p/+n/2//i/+L/4v/v/+//9v/z/+z/9v/9/wYAFwAiADYAMwANAAYAEQAKAAMABgAGAP3/8//l/83/zf/N/8P/wP/K/83/3v8AAAoAEQAKAAAA+v/s//P/+v8AAAoAGwAlABQAEQAUAAMA+v/9//r/DQAeABsAIgAXAAAABgADAPr//f8KABcAKAAiAAYAAAAAAP3//f8AAAoACgADAAAA/f8DABQAEQANABEAAAAAABEACgAAAPb/+v/z/+X/7P/2//r/7//p/+L/yv/H/8P/uf/D/8f/zf/Y/9v/1P/R/97/3v/z/w0AAwD9/wAA/f8RACgALAAoADMAMwAzACwALAA9ACwAFwAbABcAFwAGAPr//f/z/+//+v8KAAoA+v8AAA0ABgAAAPr/AAAGAP3/AAD9//P/7P/z//r/AAARABcAKAAiAAYADQAXACUAJQA2AEcALAAUABEAFAARABsAHgAGABEAFwAKAAYAAAAKABQAEQAbACUAFwAbAA0AAwAGAP3//f8GAAoAAADv/9H/tv/A/7b/tv+5/7n/zf/R/97/6f/v//b/7//2/+//6f/9/wAA+v/6//b/5f/R/9H/2P/N/8r/2P/U/9j/4v/p//b/9v/9//3/9v/9//3/DQAbAB4AJQAvABsA/f8AAAYA/f/6//b/8//s/+L/9v/6//r/AAD6//r/6f/p/97/3v/2/wAAAAAAABcALAA2AC8AFwAGAPb//f/6//r/CgAKAAYAEQAUAA0AFAAlACwALAAvAC8AMwAsABEADQAKAAAA9v/s/+z/7//2//3/AAADAAoABgAAABQAKAAsACgAHgAeABEAAwAAAOz/1P/R/+n/5f/R/8r/yv/U/9T/2//v/wAAAAAGAAoADQAXABsAFAANAAYAAwADAP3//f8AAAAA/f8AAAMA/f8AAAYAEQAXACUAKAAUAA0AGwAeABcAIgAbAAoABgDz/97/1P/K/9v/5f/U/9T/0f/K/8r/yv/Y/+L/8/8KABQAHgAXABQAKAAzAEAARABHAFUAbAB9AH0AZgBKAEcATgBbAGkAaQBRACUA/f/U/7b/of+Q/4b/if9//2T/Wv9k/1b/P/9Q/2T/fP+e/8P/5f/2//3/FwBHAFUARwA5AC8AQABVAFUARwAoAA0AAwD2//b/+v8AAAoADQAKAAYABgAGABsAIgAbABsAFwAoABsACgAbAB4AFwANAAMA/f/z/wMACgARABsAEQANAP3/7P/z/wYAEQAiADMAFAD2/+X/1P/U/97/7P/p/9T/zf+8/7b/zf/i//3/LABRAFsAWwBbAFsATgBHAFgAUQA9ABcA5f/l/+L/zf/U/9H/2P/b/+n/9v/e/9j/2P/i//P/9v8GABEAEQAKAAYABgDv/9j/2//Y/83/vP+y/7z/r/+v/7n/yv/l/+z/9v8AAPb//f8KAA0AEQAeADMARABKADkALAAlACIAKAAsAB4ADQADAAAA+v/v//P/9v/2/wAAAwD6//r/+v/6/wAAAAADAAMAAwAGAAAA/f8AAP3/+v/9/wYADQAUABQACgANAAYA/f8GAAYADQAXAAoA+v/2//b/9v/z/+//9v/s/9j/5f/2/wAABgADAAMA/f/9/wYACgAXABcAFwAbABQAIgAeABEAFAAeACIAGwAlACwAMwAsABEACgAAAPP/3v/l//P/6f/Y/9j/2//l/+z/4v/R/8r/0f/Y/+n/6f/Y/7z/q/+8/83/2//l/+n/5f/s/+n/4v/p/+///f/9/wAABgAKAAMA/f8DAAYACgAKABEAGwANAA0ADQAAAAAAAAD9/+n/1P/R/8r/1P/v/w0AFwAeAB4AKAAsACwAQAA9ADMAMwA5AEoARABAADYAJQA2AEcATgA2ACgAMwAoACIAJQAiAB4ADQAAAAoADQADAAAA+v/2/+z/7//2//r//f8AAAAAAAD9/97/3v/p/+//9v/v//P/9v8AAP3/+v/6/+//6f/9/wAA8//z/+///f/v/9H/1P/e//r/7//i/+n/9v/6/+X/6f8DABQAFwARAA0ABgAKABsAGwAeACIAFAARAAMA+v/6/wAAAwAAAAMA9v/s//3/CgANAAYADQADAPP/3v/i/+//7P/v//b/EQAeAB4AMwAlACIAIgAXAA0ABgAAAPr//f/2/+X/4v/N/9j/2P/e//b/9v8KAAAA8//6/+n/3v/D/7b/w//U/+X/4v/b/9v/7/8AAAAADQAoADkARwBOAEoALAAeACwAEQD9//b/8//9/wAAAwD6//b/+v/z//P/+v8AAP3/7//2//r/+v8AAAAAFAAXABcAHgAXABcAHgAoACUAIgAlAB4AEQADAO//5f/v//r//f/9/wAAAAADABQALAAoAB4AEQAGAP3/4v/i/9v/uf+8/8f/wP+8/9T/6f/v//3/AAAAAO//7//2//b//f/z/+//6f/b/+z/7P/e//P/+v/9/wYAFAAUAA0AEQANAB4ALwAiABsAKAAzADYAIgAlABcAAAAKABQAFAARAAoAAADz/+z/6f/s//b//f8DAAAAAAANAA0AAAADABEAFAAlADYAMwAXAAAA3v/H/83/3v/2//3/CgARAAAA7//z/wMAAwAAAP3/+v/z/9v/w//D/8r/vP/U//P/8//v/+X/6f/s//P/BgADAAMADQARABQALAAvABcACgADAAAAAwAKABsAIgAeABsAFAARAAoAAwAAAO//4v/p/+//8//2/wAA+v/2//P/7//9/wYAEQAeABEADQARAAYAFAAUABQAAwD2/wMAAwARACIAKAAeAAoA/f/9//3//f8GAPb/3v/i/+//+v/6/+z/2//U/+L/6f/z//3/AAADAO//8//p/+L/6f/l/+z/7P/6/wAAAAD9/wAAAAAGABsAIgAiAB4AFAAAAAAABgD9//3/AAAAAAAAAwAGAP3/6f/s/wAA+v/9/wYADQAKAP3//f/6//P/8/8GACIAJQAlACUAFwAbACwAIgAXABEAAAAAAAYAAAAKABEAFwAsAC8AIgAlACgAMwAlAAMAGwAvACwAEQADAAoA/f/2//b//f/2/+z//f8GAPb/+v8GABcAGwAKAAMA+v/s/+L/4v/e/8D/sv+2/8f/2//b/9v/3v/l//b/AAD2/+X/0f/K/9j/8/8AAAAA/f/z/97/5f/9//P/+v8DAP3/CgAKAAAAAAANABEAFAAoACIAFwANAAYADQANAA0AGwAbAAYAAAANAB4ACgD9/wAABgAKAP3/8//v/9T/x//U/9H/3v/v/+z/8//z/+n/5f/6//b/6f/e/+X/+v8GABcAHgAeABQABgAGAAMA/f/6/wYADQAKAP3/8//9//r/7//s//b/AwAKABQAKAA5ADYAMwA2ADYALAAlACwAGwARAAAA5f/s/97/2P/v//3/8//2/wAAAAANABcAEQARAAMA9v8KABcAFwAUAP3/5f/e/97/6f/6/wAA/f/9//3/7P/e/9v/2//z//b/4v/b/9T/1P/v/wYAHgAzAEAAPQAoAB4AFAAbACUAJQAbABEAAAD6/wAA8//l/+//6f/b/+L/7//z/+L/7P/6/wAAAADz/+n/3v/Y/+L/6f/s//P/AAD6/+//AwD9//r/AAADABcALAA2ACgAAwD9/wAACgAbAB4AKAAsACgAJQAXABsADQDs/+n/7/8AAAMAAwD6/+n/6f/e/+X/8//6/wAACgARAAoAGwAiAA0A+v/s/+n/4v/i/+L/4v/s/+X/2P/U/97/5f/p/+z//f8NAAYADQAXAAoABgAGAA0AJQAeABsAGwAbAC8ANgAvAB4AFAAUABQAEQAUAB4AKAA9AFgATgBAADkALwA9ACwAFAAGAAAAAAD9//r//f8DAP3/AAADAP3/8//v//b/6f/e/+X/3v/l/+z/8//2//b/6f/l/+L/4v/v/97/1P/R/7b/r/+y/7z/3v/i/8r/wP/A/83/2P/p//b/BgADAOz/7P/2//3/+v8AABcAFwANAAYABgAKABsAIgAUAAoAAAADAA0AHgAvACgADQANABcAJQAbAAAA/f/z/+z/3v/e/wMAGwAKAPr/DQAvADYAJQA2AEoAPQADAMf/0f8DAAAAw//N/zkAUQAAAOL/MwBpACIA1P/z/zYAIgDb/8r/BgAXAAMAAAANAEAALwDz/97/6f8RAA0A7P/2/yIAGwDs/+X/DQAvAAoA5f/6/xQADQD6/+L/2P/R/7b/mv+Q/5r/q/+r/6H/wP/p/8P/hv+U/8f/8//v//P/HgAzAB4AAwAGACwAQAAvADYAOQAbAAYADQAeACwANgAXAPr/8//i/+X//f8GABQAEQAAAAYALABEAEAALwAXABsAFwAbADYAOQARAOz/6f/9/x4AKAANAPr/8//z//b/AAADAAMA/f8AAAoA8/+5/57/uf8DAEAAQAD6/6j/nv/s/0cAgQBpALb/Ev8n/+//8QBJAcUAx/8M/1P/OQD0AAwBNgDV/iH++/6cAGEB9AD2/wH/vf5a/4sAcgEJAZr/h/7S/gAA0gDjAIgADQBy/z//DQATASEBLABJ/2f/wP+8/9H/OQCZACgAlP/e/4gASgBy/3j/UQCOAKv/Bf+e/04AGwDK/zkAtAAiADj/cv+EAO4AOQCN/6X/zf+e/6X/SgDWAEoAQv/0/qv/TgAvAPb/+v/9/7L/l/8eALcAnADs/5T/2/9HAHAAXwBpAFEA7//N/y8AzADZAFUA7P/s/ygAUQB3AH0APQDK/3X/uf9KAIgAUQD2/7n/r/+y/+z/LAAvAOX/hv+J/+n/RwBfAD0ACgDb/83/6f8bAC8ADQDY/6X/lP+v/9T/7//2/+//1P+v/6X/r//N/+X//f/9/9v/w/+5/9v/DQBEAFUAGwDi/9H/3v8KAEQATgAoAPr/5f/v/x4ARABHADYAEQDR/6X/sv/p/woABgDs/6//f/94/6X/CgBiAFUA8/+a/43/x/8UAHAAjgAzAK//ZP+r/1UA0gDIAFUAwP9F/zT/0f+qAAIBdwCQ/yD/TP/e/4gA4AC0AAMAVv9a/w0A7gA8AcEABgBy/1D/x/96APQA5wBEAJ7/eP+5/y8AfQBwABsApf9W/4b/AABKAEoADQDY/6X/jf+l/+n/QABYADkA9v+y/43/of/6/2YAgQAsAKH/TP9y/+X/WwCZAIEA+v9h/zH/jf8lAGkAWADv/3z/TP9n/+z/cACLAC8Atv98/6j/EQBzAKoAhAAbALn/q//z/1UAiABYAP3/vP+h/8D/FABiAGYAFAC8/5f/wP8DADkATgAeANv/mv+r//3/LABHACIA6f/Y/9v/+v8vAD0AGwD2/9T/yv/U//P/DQAbAA0A7//z/wAAFAAsAB4ADQANAAMAEQAoADkAOQAUAPP/5f/2/yIATgBKADkAIgDz/+X/BgBKAIsAegAzAOz/x//b/woANgBAABcAzf+Q/4n/w/8NACwAGwDY/4n/ZP94/8P/HgBAACgA8//H/9v/FABOAF8AQAD2/7L/qP/N/wYAKAAUANT/kP91/7L/AABAAFUAKADz/83/2P/6/xQAIgARAOL/sv+e/7b/+v8zADYAEQD6//b/BgANAB4ARAAzAAAA2//e/wMALAA9AC8ABgDe/9H/7P8bADYALwADANT/uf+8/+X/FAAXAP3/4v/A/8r/+v8iADMALwANAPr/8/8RAFUAbABRAAYAyv+8/9T/AAAXACwAFwD9//r//f9AAFgARwA2AA0A/f/2/woAJQAoABQA+v/l/+n/5f/v/w0AEQAUABEAAAAKACUAOQBEAEAALAAGAOz/9v8KAAYAAADv/9j/x//K/9j/6f/v/+z/2P/A/8r/6f/z//3/DQAKAPP/8/8DAAAA/f/9/+X/2//b/8f/uf/D/8r/yv/N/83/3v/v/xQAHgAGAPr/3v/b//3/HgAvACwAFADz/+X/8//6/wMABgAKAO//1P/s/wYAJQA2ADMALAAUABEAIgA9AEQARAA2AAoAAAAUABsADQADAAAA6f/U/+X/+v8DAAMA8//e/9v/zf/N/+//AAADAPb/4v/s//3/BgAXABEABgD9//3/EQAiAC8AIgAGAO//5f/p//b/AAD9//3//f8AAAMABgAUACUAFwD9/97/4v/6/wAACgAXABsA+v/i/+n/8/8RACUAPQAiAPb/5f/e//P//f8KAA0A+v/v/+//+v8RACUAMwAsABQAFAANAP3//f8GAAoAAwD6/+L/4v/s/+z/+v8GAP3/AAD9//P/9v8KABcABgADAOz/5f/l/+X/8//s//r/+v/v//r/FwBEAD0AJQADAOL/6f/v/woAJQAsAA0A2//R/+L/+v8iAEAALAADAOn/2//2/xEAFAADAPP/1P/H/+X/CgAsAC8ADQD9//r/8//6/wAAEQARAAAACgAbACgAFAAAAAMABgANAA0AFwAbAAYAAwAAAAAABgANAAoA9v/p/+L/6f/6/+//5f/p/+L/3v/e/9j/2P/i/+X/8//9/woAHgAiABEABgD2/+n//f8KAAMAAAADAA0ADQARACIACgDl/+L/6f/v/+L/7/8AAP3/AwAGAA0ABgD9/wMAAAAUABQACgAXABcADQAKABsAGwARABEAEQAbACIAHgAlACUACgAAAAMA+v/z/+n/6f/e/+//AwAAAPr/7//6/wAA9v/2//b//f8AAAAAAwD9//r/8//e/9j/5f/i/83/yv/H/8P/2//i/97/3v/H/8r/4v/9/woA/f8AAP3/AwAGAAMADQAKAAAA8//z/wMA+v/2//b//f8XABcABgAAAAAAEQAeACIALAAvACwAGwARABcAFAAAAP3/AwAAABcALAAoACwALwAsABsAIgAsADMAQABKAEQALwAXAPr/7P/p/+n/7//p/9j/x//D/8r/2P/s//P/7P/s/+n/2//e/+//AAAGABsAIgAeADMAOQAsABEA+v/s/+L/2P/N/9H/yv/H/9T/3v/v//3/AAADAAoAGwAsABsAEQANAAMA7//l/+X/6f/2/+L/3v/z/wAAHgAzADkAOQAbAAYAGwAiACgAIgAUAAoA9v/6//3/7//i/9v/2//b/+X/2P/K/9H/1P/i//r/AAADAAAA9v8DAAMABgARAAYAEQAbABsAEQAAAOn/5f/Y/7b/r/+5/8D/0f/z/wMADQAiAC8ARAAvABcALAAoABQAAwD2//3/8//i/+X/3v/s//3/AwARAB4APQBKAFUATgBVAHcAfQBsAFUAOQAlABcAFAAXABsAFAAUABcAAwD2/w0AFAAGAAYACgAAAO//8/8GABsAKAAzAD0ATgBVAE4ARwA9ACUABgADAPb/2//K/7z/pf+U/5f/l/+N/5T/of+v/8D/w/+8/6H/hv+G/4P/hv+U/4b/jf+U/4b/a/9d/13/bv98/4P/l/+r/6v/r//H/9T/3v/l/+n/4v/l//3/+v8AAAAABgAXAA0ALABOAGIAfQCBAIQAlQCcAKYAvgDMAMwAtwCwALAArQCqAKMAnwCOAIEAcABbAFEAVQBOAE4AVQBKADkAIgANABcAFwAUACIAFAAKAPr/6f/l/9T/w/+e/4b/f/+G/4n/hv+D/3j/fP+D/4P/jf+Q/57/lP+N/5f/jf+N/5r/mv+e/57/q/+8/8D/x//Y//P//f/v//r/DQAeAB4AKABEADYAMwBOAFEAZgBzAH0AlQCfAJkApgC3ALAAtwDSAOcA7gDWALsAsACZAI4AnwCmAKYAowCZAIQAdwBRACgAFwAUABsAFAADANv/r/94/1b/P/8d/xL/CP8F//T+1f6z/p/+jv52/nb+c/5o/l7+Rv5G/lf+c/6R/qz+y/7j/gH/J/9k/4n/nv/R/+z//f8XAC8ATgBzAJkAxQDnABABRgF5AZgBugHfAf4BNAJkAp0CzQL2AiIDYwOgA7gD6wMDBBcEKAQoBDIEMgQvBAYE1gOWA0sD+QKaAjECswFJAdYARwC2/xL/b/7T/UH9uPwE/F77y/ol+pb5Ivm1+Gf4I/gI+AX4+vcF+Cf4a/i8+Af5X/nQ+Vv65/qD+xz8p/wz/cn9bP77/n//EQCqADIBwAFIArkCMAOdAwkEfQT0BF0FsgULBmAGqwboBiIHXAeBB6MHtwfPB/EH+AfxB9kHsQd3BykHyQZuBhUGkAUPBYAE5AM6A4wC3AEFATMAYf99/ov9ofzA+8j60/n2+Cf4b/fT9jP2nfUj9cD0jfR59HL0fPSh9Nj0JvWk9TP2z/Zs9xL44vix+ZX6hvt4/Hr9ff5//2wAWgFTAkgDHgTSBIMFKQbaBnMHAgh9CNUIEglCCWcJfwmhCbkJvAnNCccJuQmlCXUJUwknCdIIcgguCNMHXwfeBk8GwwUuBZEE6wMsA10CigG0ANT/3/7M/bz8vfu++tP56Pj69wn3LPZj9bb0MfSw80fz9fK+8rvy3fIe833z9PN/9Bz1xvWP9mX3Sfg9+TL6J/sj/CL9Gv4n/x4AEAHzAcMClgNRBBYFwwVWBtQGWAfZBy4IhwjtCDsJdQmhCcAJ2AneCdEJ1AnNCa8JiQlMCQsJzgiHCB0IrQczB50GEgaNBeYEKwRmA4wCswHPAPb/Fv81/kv9Z/xy+3b6mfnA+On3Ifdt9rj1H/W59Fr0BfTL87DzqfPE8/vzP/Sy9Ej16PWg9lf3NPgb+RT6IPs7/GP9iv6y/8wA6QEHAxAEBQXbBYwGLwfCBzIIkQjHCOYI+gjmCKkIYQgQCLcHYgfaBkEGvQUgBYcE/ANwAwADkwImAtUBogGKAYABeQGDAYcBrAHVAQsCYAKoAtcC5QIAAwcD+QLlArUCewIcAr0BZQHuAFsA1P84/4f+z/0O/Uj8efvB+vz5N/mC+M73Nfet9jP24fWd9W31YPV09Zr11/Uz9qb2P/ff94L4Y/k9+if7Uvxw/Yr+nv+qAMQB6AL8A+oE1AWWBkAHzAcrCHkIrAiwCIAINQjnB4EHCgeMBgQGhgX+BG8E5wNVA9sCeAISAsQBYQH7ALQAegBsAFsATgBYAFUAUQBYAH0AwQAFATwBawGlAeIBMQJgAnUClwK5Ar8CqwKQAnsCWQIjAs4BVAG0AP3/Qv92/pb9w/zb+9L66/ki+XH4xPc197v2UfYl9gr2JfZm9pz2Cfd99wH4tfht+T36J/sm/B/99f3B/p7/cwBDARkC0AJjA/gDjgQWBZcFEgZqBokGpwa8BrgGvAayBpYGXAYOBsAFVwXZBGIE0wMpA3gC4gFrAeMATgDU/3z/J/8F/wX/Ev80/1P/if/b/y8AiwDxAFQBswEBAi0CZAKaArICvwK8Aq4CewIxAuYBlAEkAaMAHgCD/9z+Q/6x/Qf9cfz3+3X7Bfu6+oT6Nvru+bv5hfl3+Wr5d/mx+df58vk2+oT64/pr+w78q/xV/QL+qf5T/wAAowA4Ac4BUwLbAlwD0AM8BI4E4AQuBVoFgwWKBW4FUAUqBQIFxARbBOcDagPeAkICrwEnAZkACgCh/0X/+/69/pH+iv6K/qL+zv7q/if/f//R/xcAdwDIAPgAMgFaAW8BgAGpAcQBrAGHAVABEwHPAI4ATgAUANT/f/8u/9n+iv45/uD9j/02/df8bvwj/N/7g/su++D6rfp6+lv6Ofos+kr6X/qt+gX7a/v9+3j8+fyj/Vv+Af/D/44AUAEcAuUClgMvBL4ERgW2BRUGXAaTBrIGvwbNBqQGZwYtBt8FgwUMBXYE3QMsA3UC3AFJAaYAFAB4/9z+dv7x/YH9S/0H/dD8mvyh/ND87Pwi/Vz9tP0Q/mj+0v4u/5D/AABwAOMAYQHmAVMCkALQAgMDMwNjA4wD1gPkA8kDqgNSA/kCvAJTAroBJwF9AN7/O/+H/gL+bf28/Bn8g/sa+8X6gfps+mL6ffqw+u36P/uD+9H7N/yn/BT9kv0h/of+9P5h/7n/EQBfALAA9AAuAVQBaAFJATgBOAEkAScBIQEMAfEA2QC7AJUAegB6AHAAaQBVACgAFwAKAO//wP+o/57/bv9a/1b/Yf9a/1D/Vv9Q/1D/hv/H/xQAfQDdAEMBtgEqAowC7wJfA9ADNgSVBPEEUAWNBbYF4gXlBdgFrAVkBScF6gSmBEAEwgMsA3EC3AFJAZkA/f9r/8H+E/6B/e/8TPzY+4D7P/sJ+8j6i/pO+kD6Tvps+pX6sPrS+g/7Yfu5+xL8T/yu/CX9kv0J/n3+6v5Q/8f/IgBzANYAJwF2AboB8AEmAioCFQImAjECJgISAukBswFaAQkBvgBpAB4Azf94/zH/4/6p/mz+Gv7n/Zz9Zv1V/SL9FP0K/Rj9Zv2S/ef9bP7q/m7/7/+BACEBugFPAuECXAPaA0cElQTtBDgFZAWDBZcFfwVTBTgFAgXEBGwE6wOFAzADpAIjAsQBQwHBADkAw/9Q//D+mP4r/tr9gf0Y/df8svyJ/GP8Qfwj/Bz8BPzs+/P7H/xd/Hv8mvzl/Ef9p/0T/or+9/5u/8r/HgB3AMUAEAFaAZsB1QEcAlMCggKTAoICZAI7AiAC3wGeAWEBHQHMAFsAAwCa/yf/vf5X/vz9nP1B/eH8mvxI/Pf7x/uK+3L7cvth+3L7gPuo+/f7O/y4/Ev9tP0e/sH+df89ACcB3wGrAowDRwTqBIMFKQauBhsHcwfFBwYIOQhXCEMIOQgXCMwHaQf8BnQG1AVTBcsEEARZA7wCGQJ8AcgAMwCh/xb/gP7x/XT93vxg/Pr7l/sx++r6pvpU+iH6FPoh+jL6evq++vH6J/ta+6X7EvyW/AD9bf3n/Tz+jv7m/lP/zf8eAGkAmQDMAAwBKwFGAU0BOAEhAfgAzACfAGIAJQD6/7z/cv8u//T+1f6p/nP+Yv5X/k3+Nf4k/ij+KP4r/jn+Sv5s/pX+xP4F/1b/r//2/1EAqgDxAFQBtgEcApMC6AI3A6cDDQR6BOAEJwV/BdQF/QUEBhUGEgYBBtsFmwVdBQgFpgQQBF8DuQIjApEB9ABiAMD/I/+Y/hr+kv0H/X/8+vul+2v7P/sg+/j69Pr0+tz6yPrW+uD67foT+zz7aPue+/37Uvxu/KH89vxB/Zb9+P1i/sT+J/+D/9H/LABzAKYA5wA8AYABngHEAfoBIAItAkwCZAJWAjcCMQJMAlMCQgI7AiMC6QHYAccBhwFhAUMB9ACwAIgATgD9/6v/df9M/yD/Af/S/o7+Xv4y/iT+Nf5G/mz+ff6R/rD+sP7V/gX/Sf+l/+z/NgCOAOcARgGsAf4BTwKuAg4DXwOjA7QDtAPMA78DvwOuA18D9gJxAvoBmwE4AcEATgD9/6X/J/+b/ij+0/2L/Xr9WP0i/RT9Cv0K/fb87/wK/Q79G/0w/Uv9Zv2F/aD9xf3r/Rr+VP6V/uP+J/91/57/zf8sAHAAsADxACQBRgFQAWUBfAGUAZ4BrAG6AcABwAGsAYoBVAEhAfEAyAC7AJ8AegBYAEQADQDA/5f/ZP84/x3/9/7j/sj+qf6A/lf+Tf5N/kD+Rv5o/lf+Yv6E/pj+wf7f/gz/O/9W/3//0f8iAHAAuwD4ABoBMgF8AZ4BpQGvAcsBCwJIAnsChgJqAkUCKgI0AjcCKgIcAvoB6QH6AfoB3AHAAaIBgAF2AWgBPAEQAd0AowBzAD0A3v91/yf/9P7I/pX+ef5l/kD+Gv4J/vz9Cf4Q/hf+Nf45/lf+bP59/oD+kf7B/tn+CP8u/13/jf+Q/6H/tv/H/+//DQAXABQA/f/6//r/9v/z/8D/mv+o/6//mv+D/4n/if9//3z/cv9h/1D/P/9T/3z/l/+h/57/lP+N/5r/uf/Y//3/EQARAB4APQBVAHcAnwCwAN0ALgFoAYoBrAHVAf4BKgJPAmACagKCApMCjAJ7Am4CYAJCAhwC/gHYAaIBdgE1AeAAmQBVACgA+v/A/43/Wv8j//7+/v4B/+3+0v6z/pv+ff5s/nb+iv6f/qL+pv6p/pv+h/6O/qb+y/70/g//D/8I//7+CP8W/xb/NP9d/3j/cv9u/3X/Xf9T/0X/Hf8B//T+5v7c/t/+/v4F/wj/D/8n/z//Qv9a/2v/cv+D/6H/qP/D//b/AAAAAPb/7P/v//P/AwAAAOz/2/+8/57/nv+l/8D/7P/2//P/AwADAA0AQACBALcA4wAQATwBYQGlAQgCZAKXArUC2wLlAuwC9gLsAuwCzQKuAokCYAJWAiMC5gHOAZgBPwETAfEAzAC0AHcAKADv/8r/f/9F/y7/Gf/7/sv+m/59/n3+aP5e/lT+KP4r/i/+E/4C/g3+If5D/lv+c/6R/m/+c/6f/sT+9/4g/z//Wv9h/3z/lP+Q/7L/1P/b/9T/6f/z/9H/vP/i//P/3v/Y/+z/6f/D/6v/fP9r/3L/ZP9u/0z/Hf8P/yf/Kv8Z/yf/Qv9u/4n/mv+8/+L/8//v/wYAIgBRAJUAtwDSAPsA/wD/AAkBLgFQAVQBbwFyAYMBeQFyAXkBaAGAAWgBPwEnAQkB+wDnAMgAyADMAKYAlQCSAIsAcABOAE4ARAAlAA0A8//l/97/0f/U/8r/q/+U/43/jf+Q/6X/nv+J/4b/a/9r/27/g/+r/57/pf+2/9H/4v/R/9j/3v/s//3/EQAoABQAEQAiADkAWABiAIgAgQBRAFEAVQBYAGkAbABsAGYARAAlAAMAAAAXACgALwAeAA0A+v/Y/8D/0f/e/9v/4v/K/8P/zf/H/8D/wP/N/9T/1P/v/+L/2//e/7z/pf+J/3z/Yf9C/zv/P/8//zj/Wv98/4b/fP94/6X/zf/b//3/HgA5AFUARAA9ACwA/f/9/wMAAAAbABQABgARABEAFAAAANv/3v/2//P/x/+r/6//q/+v/7b/vP+8/7b/sv+y/8D/0f/U/+//AwARADYASgBiAGYASgBHAFEAVQBzALAAzADFAMEAvgDBALQAjgB3AHMAZgBVADkAEQAAAPP/7P8AAAMA/f8DAP3/AAAXAB4AMwBHADYAJQAoACgAFwARAP3/5f/i/+X/3v/D/7z/uf+l/4n/hv+D/4n/mv9//3L/fP9u/1b/Vv9a/1r/ZP+D/5T/mv+o/7n/w/+8/8P/pf+N/6X/pf+8/9v/1P+8/6H/qP/H/9T/0f/H/9v/2//v/wYAAwAKAAYAEQAoADkAQABAAEcASgBEAEQAUQBwAIsAiACEAH0AXwBRAFsAZgB6AI4AhABwAGYAZgBbAE4AWABfAFUALAAeACIACgAKAAoAAwDv/97/2P/Y/+X/9v8AABcAKAANAPr/+v/9/xEAJQAsACIAJQAsABcABgADAAMAAAD9/w0AIgA2AE4ANgANAPr/5f/s/+n/6f/2//P/8//i/+X/6f/i/+L/9v8DAO//+v/2/9H/uf+e/5f/q//D/9H/5f/z/+//9v/v/+//+v/v//b/+v8AAAAA+v/6/+z/2P/b/9v/wP+8/7z/x//v//r/AAARAAYACgAGAAAAFwAeAB4ANgBRAE4AQAAiAPr/7P/s/+z/+v8eADMAHgAAAOX/w/+5/9j//f8UAB4AJQAeABQADQAXACwAIgAUAAMABgAbACgAFAD9/9v/zf/e//P/AwADABcAIgAlACgAOQBRAFgAVQBEADMAHgANABQAKABEAEoAOQAXAPr/9v/9//r/AwAKAA0AGwAeACgALAAeAB4ADQD9/+//7P/2/9v/x//N/+n/3v/Y/+X/5f/2//3/EQARAP3//f/v/+z/4v/b/9H/wP/U/+L//f8UAAYAAAAAAPb/7//s/+//8//z/wMA9v/R/97/6f/e/+n/+v8DAAMA9v/2/+//2P/b/9v/yv/N/83/3v/Y/8f/zf/H/9H/0f/R/+n/7//z//r/7//Y/8D/1P/i//b/8//i//b/9v/9/wMAEQAKAAMAAwDv/woAFAAoAEoAJQAlAE4AIgAAADYAIgAKAFgAdwA5AAYAEQAoAB4A2P/2/0QA/f/K/97/DQAKACwAUQDp/x4AXwA5ANj/nv/2/yIA+v+o/2v/1P9KAD0AowBOAOn/pgDU/9T/cAD6/+X/nv9mAE4A7P9A/pUEZgOc9un/3QfCA6j7P/sWATECnQNK/qMASPwMAXcKdQV+A2D89/4IBRUGlP9D+kL7lPvj/v76Vvib9//2qfq2++f68Psx+3P6j/0B/wX/TgDuACQB+gELAhEDxQNWAn8CiAMzA78D4QNOAxsD8wF1An0EMQV6BK0EJQQJBFYGxgYSBtIEuwPaA4UDCwK8/3f92/th+8H6kvn9+Av4jvdW+JD4UvnF+pT72/ud/DP9rf3c/uL/iACBAPEAjQHLAU8CqAJPArICGwPbAnQDHwMxAp4BywEgAkgCRQKzAXwBuwDZADgBxQCfAPr/eP+N/9H/f/+O/pX+IP+y/27/5v5y/wz/Kv91/43/l/8g/3L/nv+5/9n+Yf/Y/2H/w/8F/27/4v8KAHcAdwAzALcA3wEWAWsBpQEFARMBiAAJAQwBxQBsAEAANgC5/zkAFACG/1D/OP/q/ub+/v6V/jX+z/0T/pH+Zf5U/r3+W/6s/kz/tv9OACgA/f8iAGwAOQCqAGwA7/+2/6//hACOABsA0f8bABEA1gCsATwBtACVANkASQGsAZgBmAEhAd0AOAGAARoBEwFGASEBfAGlAfAB4gFDAWEBHALmAU0BzwBiAA0A7/8GANj/Mf9K/i/+5/2B/Q79jPzN/Mb8Vvwq/D78O/xn/M38+fxO/cz9ff70/pv+8P65/9H/kP/6/yUA6f/i/8P/GwAXAAAABgBzADMA/f93AFgA+ACtAHMAvgCLAKoAuwAMAcUAbAC3AGsBMQIEAgsCwwJqA8sEBAZ0BlkGpAYuCN8IBQn6CMsIogg1CBAIQAe5BTwEMwP3AV8A2f7s/Nb6OvnY9yj3pvYO9fHzAvOZ8vzyHvNb84DzGfTR9KD15PXT9mD4Ffks+qb6P/vO+x/8dPzi+/37MPy8/IX9Pf1L/Rv90fuQ/Nr9L/7j/sH+Fv+EAOECbATuA7AA8AUxFM8dhyErHu8ceSJCKusyYjZAL1UnxCXMJF4hdRdLCkcAwPht9WLzcOfs15rNSMr8zZDQx8+WzWbKdcym1rjf1uTA6b3w2fpLBmQNFBIEFTQYnSONLRIuPStOKEMl4yWqIN0ZXhPxBGb9NPgz7mvlB9xT1LPTj9H+z7vRIc/u0b3agOFN6DvtlPD79nv8qgCbBbAIeAmfCxMMPQsaDOYMvA3REHwUzRimJIgryS6NMbYwVjilP3pBskBMOE8uAilbIboW3gk5+sXvi+hS36nW8sqdv/u8zb6Zw7vHWsg7zJ7TFN2c6Kjx7PisAboLThVaGwccJxvvG8YcWB1aG1oU4gyPB0wCn/6z95HwzO4j7UvuZfDL8FvzWPaG+On7mv9eBF8LQA9AD7EO3wyXDFUO9wx0CrUGtgHi/yr8E/cc8aHqZudR5K/iBt0l2RnX4NUe2VjZeN9z5JnrfPQB/EcLvxjrLolDkkzrUxFXhmC2at9qhWWMWW9J2DvHLdoYbv8m5sfTtcl9vOWsAJ8IkhSRi5jioQet/LTGwtrVAOeh+JkHqRZIJ8I2K0LkRP9BFz7AO/E2uS2tIT8TUwVr+Hfrd9w40PjKZcvizL/N/9Es2TviHe3X+RgGYxGxHC0mgStkLfUuPS/ZLOEnoyClFyAMqQEF+NnsFuLk2DjTLc3dx2/EFcKFwtzEZ8nW0pnZzeKS74H2cwuDHk85BFJiV7VhKGnNdv9/Xnw2cOVgQ1DbPygsDw2C7s/VGsQEt2ikO5JUhoOAdYfxkZGchKqXupzS2upt/csPHiGrNdxJYFY8WNpSq0vrRP89qTDQHwwMgvjC59HXb8govfy7lrvxvA6/ysWl08jhQfKyAi0Rtx0JLOc2tTztPjY+qDxvN+8uciXEF6MHjPnV7MXg2NMZyU/CX7xZu9q7s72xwxbIlNOx3NnkgPOk/NYLThUQHm4xhD7oVnRhtWFXY1Riimo0aPtbM0hrNMkgug/d+bHcBMbrtKus1qYzm1OWXpVRnN2tE71izmPghfUhD6YhfS81O+FE+U6sVH5TPEnDOOIpNxymC8X2tOC+zrS/YLdVsQKrnak0rEPAItGu3+DytgGzGn0s3ztjSIhMH0/fVKdSGERRN0AkBBijC2n23OgG1mHFhcJ5uRi0WLH6ry27o8MCz1rXfuDS7D35CgcVCqwTYhoSI0wq/SqTNXc2kkVfT6tLzkaZPfdCLkKfN1EoERnRCT//E/Sk3+TKSr2LvDe//LvTuDW5F7zgx7bXOOVb89YADxTpIrEnMiw9L2wzDTZfM6YoghgzChD+rfKa40rWLM74x67Gk8YfxkXN2NqC6un3dAOeFCYnlDSGPEpCS0RgR4NGnz6rMe8f5hPrBpH3G+dD1p/Lt8T3wVfB+r1Sv5fF587e24nj2+1Z+cMFGRAFE68U/xLiF0YXvxWtEn4KTg5rEAMSvh05JS4pxSu0KB4vEzBjK0ErUiPrGcIRlgPg8zzlK9oG2qPVTs6pyxLFq8bazf/VweRg7pL5RAfWC/QSWRgzHVclpSZbJa8bRA6ABBP7kvIP6Uni3dyy197UfNOz1tXasORd8VP7axDqHWYn3Ss3LlZAGUfnRZ471SzsIgwbaBDr/S3qPdn300zNCcRZvyW8cMOXzBjVAd/h4z/wQ/43BvYNWA48Ew8X0RfoFOsKTQRA+rj5vvMt8cD4KvyvFJkgOyIhJdcnxziYQvZDzz7qN9QtxyaqGewC+fEd5Wrf+9YMyCO+ybh5uirFes4+2Iniy+w2/ZQIKRGHGmkhuikCLTUpACBaFK0L4ASz+1TvvONg2yXVe9Hb0MPQTdYD4LTrFvgdAdAVbCiQMds4YTs/QotFKT2WNVYqWhuoFHECM+7j3RPPS85Ay4nFLcZxxsrM59kS4tXs3/TK++EG9AiFCrsKOgrOD2QNagoFAX336vPF66Dr6+fE8z8BOROWJ+0l9SvBM5JI8FimVwZQqkScOiQwDyIRBzruYt2Y0gDK/rn7rgWrTKzKt/PBFMtZ2EPohP4lDiAX1iC+KJkyiDbmNOsrgh8XFhQLc/7z7QHiJNrP0rfOdMpVyjrOetnd55z2JAEFEBIm0i9nOJY2oDkNRf5CBD0AK6gX3g17A6X0gOFszxnJ3crbybXG3MTTyoTZMuiO75b1KPrlAgkMcQ2/DSgLUQu7DtAKLQJY+t3yk/FV7gvq+uXb7Zv72hhoLKEquzKyOORPFVlUUIhIATwJN+AvnRiw95/aesuKyK3AE7bYrymt6LQbv77HC9Q342r8JxQZH30l1yd+Lqo2bDfTMtYktxYHCqb6buoc20LUHNFZzQLIuMP1xg7REePO9IwDmxC2HoQ3SERDSUJHe0RPS79ExjmlJlYR7AK09mbnk9SdxjG+YcERwzXEz8uZ0fHgY+6r9c/9VQCaCQwQyw8RDgsK3gm8CeMEv/yZ8sLrBe1664nqf+p56TfxVgJGJX45fTq5P2lMK1+6XwFVrEYbOq8xViZ1CRbiisiKulC2aK9ep7imQqjGtBPESM1l2rrv2w3WKKg0hTmmOjY6FTx1OEItPB5RD80CC/GZ3K/Mw8Kuv5O+X8AkxHzMOtwe7woA0g/gHTwwTUa/UtVYMU5qRx9EYTt6L+MWJQM48MfeR86NvrayTrH6tou8u8d4zcvaxuo6+dILqxHIFh4aCxxQG4kU3Q5xCVAFr/sq9LjqhuJ046viuuUB5v3mUOzt81gZB0FOTORMT0uhWXRhg1jZTBI8gy0AJCQPEeeQwhWtGqvzrC2p/Kkvqh619Meu2F3pj/kCF3w0GkKLRXo+oDlaOHoz1CoWF9QCVPOP4CjPZr84tlq2h7kcwtDKGdSq5BH5vw3aIHQy4EURVqVcNFkrTRxDOTqhLakaWwTg71Hdb8vyu2Wy1a71tC2+e8mS1V7hkfNkAp0Rzh4rJfop7icOI5gaXw7/A/n8UPQM7DzhW9pA1lPUF9ZW24zj/+7+9/ICkwkEDVw9nli7XldUoUouX81Z3UynNogcyQqjA7bwDs3ir/qg6qfgqkyvcbfav33WW+wk/pQItBIRKxJAeUb7QYU2Ty5UJYwYOget7/nfUdl60ibGjrnZtem6S8bK1N7jOvWhCcseoS38NT1BPUiKUZFRx0bWNsgh3xc3BgPy493/zm7JFcKRvR+7t7wRx87ayu2H/gsKARQqH6YhHyMmIPobahjSD2cGqPRX6fHg3tvA12bRe9QY1SHdluOZ6+H1tgG7Eu0esiIkNzdZcGIYXr9Pv1I1WEFIFjSkGBb/ovAQ5QrOyLVPpbyln66as2e+WcmF3OH1pwrXGE0e5ikXOlRC00F9N78qCiDUEJr/Qepi1trKksccxkHDLcIoxLTOb9oV6rL8vQ8oJYszAz7+QktEj0GuPHc2pysNHYMIVfZA5EDWvst0w9jBncLvyeDSONv854L1+gVOFWocmSDyH5McSBhiDykG0ft68tjp0+Ce19PRD9At0evVA90a6Nv0r/8XCJQQkBhEJGwwZEpTZBVkMVkrSfRFQ0L0MK4ciwQw8qrkQtQGvD6phqQmrb+7asbj0gbhI/VVCr8Y5SMGLGQ4r0ORQis3TCYVGCUOTgDa7sPbGczZxJLDhMSXxVfMWtc/5YHyf/+pD1ci1TQ0QMlEFEHZPlM4FS5YJL4SOQhm+V/rbt/7zu3IrMQIySHSqNs953bwE/slBBsOQRXVGkkbfRq4FWIL5gFg9b7ve+dA4bHcF9lq2HzXmdl73G/oBPWpBGEMUBM4G2of4i2LQTBaNF3RUflH8kAhN/8g0Qxi+pftruNj1e6/TqoxpOWsNb3xywrcDe+3ADkSMxytIecocDKIPfg9IjKgIPINOP9e8BzfPtE/yK/F2cSSwz7Gbs0H3FDsXfz/CsIZQyywOpNEA0UkQts8czfVMGMg+A5A+ivw+eYM2rXRU8mbzMfQGNgx4jrrgPcqAqgNmBNyF7gYCxhlFtQN3QdU/vz1Ze/L6PTkI99O3F3b1uAe5O3oTfD6924GrQ64GLUfxSSCNSlIiVXbUXBICkGQOJknfxCJ/ALsnOR82yLOBrwNriSv0Lfaxr3Xsuq2/2EQ1xx8IrAl8ykXMKYzMy8sJAITEgJD8CngAtMPyQzFL8Tvxv/KbNJG3sTsBPziCQMZ0SnNNYc+ID/lPBE6CzGVKC8atAv5/KDu7eFz1sfPWc3C0e/UY9zv41rtOfozA8oM1xEoFi8ZMBjjE5cMWATe/Fb1Qe6O6Gvit+F04C3jQORI5ujui/Oz/l4EPQ6TGHsfvSzbOIVItUvqSY5FO0DBN84iCQ+S+Yrs2+I51pnKjrw9uJu6FsFTzJzZ3+yiAQUTLh6lIrskzyiVLOostSc5HXQRfwII8TDfbtBvyNLHwcsP0O/UVttD5VLyw//dDlsdkiufN2U7DTrgM/4sQiaIHawXjA2DAT/0f+YL373X+tfY2sPfnuYi6zfxm/SX+HT9dwOeCQQNrg1WCQIFAv5X983xxetm60zpKumc6MznCOlm6+Pv5PUa+1UDMQzvER4ZzSPKODZF7UUjQxRBrUE6NgcjDQ/f/jX0Xeob3PzKob6puSe+o8OVyw3Z3+no/DkLXxXCHE4kyyyfM280bS6lJTIahgyL+nLpXduj0hrPuczmzBjOl9QI3zfqcfVPAtcRLiIuMGg3Ijq7Ntcxbyz7JMkcPxBYBOj41O2C4+7Z+tNJ077WBNyT49XpG/JZ+f3/LAfTCrsOig+iD68MYgf4AGP5qfP+7B3pdeYI5pLnhumu6tTttO/I86f88AG/DSISDBeCHBsgSTQuP1pDCT74Ntk3wC1lHl8L4fxs87rsGONk1OfHp7/aw9HJXNEX3XTqaf2WCnASRxbiF5QeMiXFKEkm4B0sFQcKhfwR7uvglNqV2Qrc4N1R3Wndk9+v5Y/uvvqlCd4Y8CWSK10tPCxhKXUpqCbZJK0dAhNoCOr6LvCf5BnfRNwk3rjffuBy4mPj/OqX8V77GwP0CP0NsQ7sDcYKkAazAYH9jfjU9M3t7ej05C7iPuNs5NnoK+zL70D2dPyzAUIMGhPiGwIijjBnQ55DWj//Nlw5eTeaKikcQAv2/wP2cuwt2wrKGsHJwtHJ6suH04HdtOss+j4C9AhjDoUY6yNAKGAmoiERHDkW4AuN/0n0kusW6QXl2N6v1yTTIdYj28riW+zV9/EECBBZGLsdwCLaJ/QsLC/ALbUqcyQ+HNQQZgMP+FLuaOmH5Wrf5du+2WPceuA45Tvte/U//5wHCQxCDRIN0QwrDKUI8gOa/+j5C/XM7kfowuMw4KbhIuNr5ejqP/B59yT+3QM2C1sSFRjYGwgfViqYO2BAaDvIM0IxQzBnI3oWNAl8/x37BvM35pbVNczwzD/QUtEU1eTcieYE8Zv3Qf3DAg8MbhiiHqsfth6MHCUZOhFQCO4AUfoa98Px7On74SncOtwK3Rjg3uaH77f6dgSjCzARtBXQHFAldSqOLDMrGSZIIL4W0w5FCUUCtP0V9eLt8uey4jLhid//4Onltuzh8YP0AfW297b7O/8UA+cDmASJAlT+JfoH9cvzcvTQ9T71A/J97/LuAPKN9I73Ufod/1UD0gQNB9UI6gsFDPgSAyGnLq8xKi3pLZswtjAWKTcgOxhbEsgLSf/U7Z/d8dax1avUz9K60lDXUty04Gzka+mc8yACRhD3F8UZ3BroHLMe1h14G70XFhOTDdMDs/f/65nk/uHv3wvffuAf4/nmzeqf79L3IAL5DRgZoCAdJWAn6Sa1Jwgm2iPFIOkXgxCfBGL6GPK66HzlD+Iw4Ibe3Nrk2YLbT9/i5pnut/ZU/sMC5QUKB5gIUgrtC2UL6wqEB9UBBPxt9SjzmPB88CPxZPGF8ovy4vRj9QT5mf3ZBNsJWw9+HE0pwDEOLpYu1jK6N501UiusIpUZOxQcCkP68ehw3LbX6tKFzdjI1MkvzivTndjo3GHlq/ENAK0LdxLCGVEhayb8J3IlnCENHdEXTxH2BpT7zfHa6uLlQ+Fo3tbdEt9A4WLkdenL8IT6DQSfCz4RxRUrGlAe0yAqIp4i9CFOIHMZAxJIClIDrP4198/ya+1U6BDlFODV3mHeXODd5C/oBux58Lj1s/utAFUDewZXCDMKVAvsCZAJmQfyBukFowMZAjv/Nv2z+9z60Pk6+eX4PPu2+9/+kQjPEu8bTBteHsgkfCk6K5Am+SNMIlYfrRmJDZr/WfXX7obpzeIp3OLXM9Xx0jnScNIo1vjdyubd7lL13vxFBkwNGhPFFpkZ7xwhHo4d5RjSEtQNrAgiA9T8xfb28WTtDOlu5ivll+aU6ffs5vDz9C/6yv+3BHEJOg4gFKMZNR68H3AdCBsKGRwYrBN1DTYHjQEL/OL0Iu7C58bj9OFo4Zngo+At41Xnk+oc7pLyq/jt/o4EkAkdDFgO3w/JEaQRvRA5D1cM3QeaAhL/ufuV+kr69Ppb+vD7HgTnC9kPwQ+JFKod7yMQJf4hZR6dHIQa4RUnDFkCEf3c97bw2ufK4nfg894N3cPb+du93ijkh+jq61jvlvUf/PsAzwSqB9cK0A1kEMAQhw8KDtANTQzVCEkF+gEGAA3+1/xk+3P60/n5+M735/aJ+Cf7/P3A/xoBeALCA3UFFAfBCMYKrwzwDEMLTQjRBYAEdANWArAA2f4H/XD62fYW9MnyxfIT8w3zMvPF8kvy3fJY8yD0UvWL9hv5FPqw+nL73vyH/sf/ywHjBJUHQgk1DNUMSQyoDMcTsRxUHuwbUBuRHuwfUhwxF+YTLhOfE+YPlgan/Wr5V/d68+Lt+erK6Q3onuUZ4iLgTeE15eboPurF6zLvUfOg9mb5q/xGAWcG7Am7CvYJnQqlDCUOVQ7eDcYNTA12C3kIngVABOQDdwNIAuMALv/9/D/7tflr+C34X/nc+jX7Sfur/IT+Fv+U/0cAGQLyA/4EUwUXBEsD+QJIAmYAm/4D/bP7o/r2+Az3UvU39SL2CvZW9Sn1FfX69D71QPbm9zr57fqn/Jr8w/yL/Sr/4gFeBAEG9gWFBqIMARTkFZkVlBeZHHEfdx3kGcUWDRZGF48Vjg9kCcMFkwLT/a/4OvUN8xXxEO8H6ybmruNV5Gvl+uW453/q++yx7p7wwvJI9dH4rvxT/9kAQgIXBOIFHgd9CO8JjgtZDXcO0w4eD6kPpRDDEFoQ/g++Dm4NtAv2CW8IkwYkBQ0EKwE9/cj6APlo99r17PTH9MD0V/Tx8oXyi/PY9Fj28PdB+dD5G/pO+iX6jvqQ/C/+wf4B/zz+Qf3g/X3+kf76/+MAKAAyAe0B3/7i/3YEqgPoAqgFXwM2ABQDJQS5AvEE3wUYA3QDXQU9A5sBjANRBJgE0QWABLkCXwMDBOsDvgQdBXMEuwPGAvEA2/9RAKoAJAGYATgB2/+b/vX9WP2n/b3+lP/R/0z/jv7T/YH92v2H/ub+P//s/+L/f/+y/woAzf9n/3//TP+6/gn+af0f/eH8uPxu/Kz7D/su+6/7HPxB/LL8Qf3d/Zv+8P5F/xcAEwGlAe0BCALpARkCsgIRAykDxQPtBLIFlAUZBYcE1gOBA0QDNwLuAMP/E/5I/OD6/Pl0+fb4xvi1+CP4m/fS90/4tfiF+Xr6D/vb+9f8gf2O/hcA0QGxA1cFdAZzB28IMQl0CjEMUw3QDbwNhgwQC3QKJgrlCRUKygloCL8GDwVfAyoCogFJAbQA8/9z/qf8V/tR+tf5//lD+gb6WfmX+OP3s/f394b4Ovmn+Y/5Ovns+M34r/js+Mb5uvrx+hv6Vfki+Yz5Yvod++z7A/38/dz+qP9mAK8BnQMgBawFAQZuBtoGUQdRBxgHKQf8BmcGeQViBIUDKQPGAp4BegCo/6b+o/3G/Cb82PuX+1P72fo9+hT6IfrQ+Xv5sflf+jj79/tW/LL8u/3q/igACALkA5QFiAcPCQAKYgu9DFYNvA39DXsNeQxlCxEKrAhwB3sGrAWEBBgDeQEbAPT+z/1H/Qf9nfwf/Mr7lPsk+6n6Hvp++SL5DvnR+I34ofiy+HH4/vew9+33ifgO+Yz55Plp+iv7x/tq/D39Sv4g/xsAzADqAFcB+gGTAiUDzANDBE0ENgT/A/8DbAS+BAwFRgVTBS4F+wSwBCEEoAMiA50CmwElAMj+tP3y/E/8lPuf+tD5Qfnz+Mr4ifh1+O/4tfko+n36E/sO/Hf9Bf85AEYBVgI3AyUEDAXlBfYGGggSCXgJRQncCIcIbAiOCKwIjghGCPgHXweMBsoFBQV9BDIE7gM9A0ICVAFKAFD/Gv7J/Lb7t/r1+TD5QvhQ94H2Hvbv9eH18vUv9pL2EPds98f3cfhV+Wz6U/v6+4L8B/2x/Vf+1f5d/+n/UQDnAHIBugE3Au8CzAOABDUFxwUpBtAGaQecB04H/Aa/BkUGdQUXBJoCUAFEAGT/W/5f/av8CPyb+037z/pw+lT6cPqY+r76IPtX+0b7aPvm+5r8gf2E/jj/6f+EAAIBwAHKAusDCAVFBm0HVAgSCdsJiArrCl8LfQtHC/kKSwqhCQsJWwhYB08GUwXaA4ICWgFRAJT/lf6c/Zr8kfuV+sL5avk3+Qf5r/g0+Lb3UPdD92/3zvcj+GT4tfji+K/4YPiJ+CL57vnP+qj7NPya/Pb8Kf2t/Zv+nv+IAEYB9wGdAgcDcAPkA5EESQXHBQEG2wWoBZcFawU7BRMFyAR6BA0EUgOQAs4B0gAAADT/PP5+/dD8N/y2+zz72fpp+hD69fny+S/6kvrj+ob7Wfwf/db9h/5d/5kABAI3A3YEdQVnBiUHiAcCCF4I8AhnCWsJGQllCJwHvAbsBQgFNgSZA94C6QGwAJf/t/4C/oj9/fyT/Df8wPtC+8j6Zfpb+mz6Q/rr+Yj5M/n2+O/4Ffk9+bX5Svqm+gz7jftW/D39Hv73/qj/KABfAHoAnwDMACcBgAG2Ac4BwAHOAdEB1QEqAngCuQIKAywDMAMfAzMDSANEA0EDTgNfA1IDSAMiA+EChgISAoMB0gA9ALb/Hf/j/rr+E/5c/RT9A/3o/Af9hf05/tz+ZP/K/zYAtABQASMC+QK0AyUEWAR2BGIEbAR9BGIEcwRlBOQDHwNPApQB+ABbAMf/TP/L/hD+cP2y/NX7ivto+037Bfut+nD6G/rM+Yz5gfm7+RD6Ufpl+nD6n/oC+3z7GfzQ/IH9W/4I/2v/3v9OAPQAugFgAt4CNwNqA4gDoAOPA50DuAPnAzYEQAQUBOQDvwOFA0QDAwPlAvkC8gL9AsMCXQI0AioCKgIgAlYCqALsAvkC7ALeAuUCIgMwAzcDSANZAyUDmgI0AtgBeQFQATwB+ABwAMf//v5G/uf9mf1B/RH94fx7/P37gPsr+wz7Avvn+tz6yPpl+jn67vmk+ZL5j/mn+Y/5bflw+V/5Y/m4+UP6+Ppy+9v7NPxS/Lz8XP0r/rr+NP/H/x4AlQATAZ4BTALeAnQD4QMlBKIEAgVkBdgFEgZnBrUG4QYYB3MHuwfMB6oHdwcsB+EGvAZ/BhgGmwUkBa0EGgSBAyID9gLGApACXQIPApQBLgH7ALcAaQBAAPP/kP8I/4T+Gv7W/aD9LP3U/Hj8AfyX+y77pvpA+gr6uPmP+Yj5e/l3+WP5Qfk6+X751/lH+q368fog+yT7QvuA+/37ofxB/Qn+hP7L/kL/1P9iAO4AigEVAq4CLAN0A8kDNgTEBAwFJAVJBV0FcgVuBWEFLgXtBMsEbAT8A9ADjwNqAzMD2wKXAk8CKgILAjECMQIjAjcCDwLfAawBhwFeASEB7gC7AJ8AgQA5AOz/jf80/6n+EP6I/RT9k/z9+437JPvZ+ov6evqS+pL6uvrL+i77kfuv+9v7Dvw0/Ej8SPxB/EH8SPxd/Dv8GfxI/IL81/xc/e79ff4B/6X/MwCmAHYBRQLhAlIDdAOZA9YDFARvBL4ECAVdBZsFzgXKBb0FwAWsBawFfwU1BfEEhwQaBMUDbQMYA+gCiQLiAWgBIQHdAKMAcAA9ABEA7P/A/6//2P/H/5r/hv9J/yP/9/7f/sv+kf5R/kD+Q/4r/jz+KP4C/vj96/3W/db97v3x/Rr+Nf4o/vH9u/2q/Wn9Vf2W/af9nP2S/YX9i/2P/Zz9tP3F/dP9Gv6R/tn+O/+e/wMAiwAQAaUBGQJ/AvICDgMwA2oDTgNBAxQDvAJqAhIC2AGKASsBBQEQAf8A+AACAecArQBwADkAHgAiAAYA/f/l/8r/qP91/4b/sv/H/9T/7P/6//b/9v8AABQA6f+2/6//df9F/1r/hv/K/woAGwA2ADMAFAAzAFgAjgC0AJ8AcABmAFsAFADz/+//1P+Q/1P/TP8//wz/5v7O/n3+Bv71/UP+Tf4o/kr+ov6p/pj+wf7f/gz/cv/9/xcA7//Y/8D/0f8AAPb/g/+D/+L/5f/2/0AANgAeAPQAJwHIAHkBPgKaAr8DxQOjAOECNgvfCBL8TPxCCccIDPs890n/dgHc+tP24vjR+2/7dPm1+fP7XP0v/o3/l/+b/tH/rgJIA14BgQB8AQoDiAOhAscBlAE7AmMDuwNTAvsALQIrBH4DKwHnAHUCGwMVArcABgAsANkAnwBJ/8j+Vv84/4r+ff5z/rH94P0q/yf/p/06/ab+eP9v/mb9JP4S/6b+Mv6R/jn+LP24/cH+Rv5t/RP+Z/+y/0z/8P5T/30ACQFsANv/LwBoAcsBWACU/4EAowDi/1sAMgEeAEL/zwCeASUAtv/EAYYCpgDz/9UBpAJUAfQAjQGsAScB+AD0AM8AnAA5APP/TgCKAa0AVP6Y/k0BYQEX/u79zADRAQMA3P5OADECqwJrAbAAxwGuAnUCTwJ4AuYB2AFfA9MDcQK6AYkCIgOkAgQCrAGeARwCDwKqAEX/Xf8GAEz/lv2y/BH9kv0l/Qv8b/uz+1n8VvyD+xr7lPs+/B/8zvsZ/Kf8M/16/Wb9Ov06/c/9ef5U/uv9KP7L/h3/6v7L/tz+D//7/tX+Xf8iACgALv+e/2UBYQF9AOAAJgJuAmQCuAOLBJkDdQKjA1oF6gS/A8wDnwSmBOQDMAO5AnsCqwKXAsABwQCtAAIBcADO/rT98f12/mj+oP1+/Sv+Ev+y/3X/bv9RAHkB0QFyAZsBGQJ/AuwC7wKhApoC1ALQAmQCBAIgAr0B2QAzAKX/U/8q/8v+Cf4w/fn8GP3X/DT8s/ul+7n7wPuN+037efue+1D76vrP+hP7Yfui+3L7P/uD+6X7rPul+xz8lvww/QL+b/6z/jT/JQC+AOAALgHfAWcCwwI6A4gDzAPkA7sDuwP1AxQELwQ5BAME5AMNBC8EVAQ5BOcD5wMvBJUEQAS0A/gDdgReBJ0DAAMYA0QDQQPNAgECNwLhAtAC7QEnAQUBtAB3AAAAMf/B/s7+DP9X/iX9w/wD/fL8N/xr+1f7wPvw+7n7gPtv+4b7s/u9+6X7cvuU+7n7r/uN+037aPvi+0j8Jvzz+yb8gvy//Mn87PxL/ar9/P38/Rr+t/5n/7b/Z/94/yUA4wBoAaUB4gGaAjcDVQMsAwADbQMGBJEEnwTZBC4FMQUTBR0FjQVuBXkFBAZuBg4GjQXpBRIGrAUdBX8FuQUkBa0E7QT+BDYEiAP2At4CoQLwAScBgQBHAAAAFv8N/nr9AP1W/Hz7wfo9+uH56PkN+pb57Pgz+UP6ffrd+fL5Hfv9+877ovst/Nv8Ov1L/Tb9cP3n/R7+Hv78/c/95P3u/fz9/P27/Xf9S/1L/Qr9zfwA/Vj9XP0D/RH9dP2t/Rr+9/7D/xsAbABoAXsCvwL9AtYD/gShBZsFfAXpBckG3gZ/Bn8G0AYDB8MGNwbpBdQFzgXDBbkFJwXcBDEFHQVsBOcDFwQeBMwDuwPrA7gDPQPhAtQCHALdADYAFwCo/4f+X/2J/Nj7CftO+tr5kvmI+YX5EfkY+XT5kvmx+e75QPqE+gn7pfsq/M38j/0o/nP+t/4I/1P/f/+l/8P/2P/H/3z/Rf8g//T+n/4N/tb90/1E/Zb8ePy4/IL8I/w7/Gr8v/xY/fX9Zf6f/mH/cwDxACcB9wEwA+EDJQSVBBkFRgUgBQIF5gTxBP4ErQTdAwADqAJ4AggCYQEnARMB8QDPALcAvgCcANIAOAGDAZgBrwEBAngC0AKoAmcCkAL5AjMDtQJWAjcC9wGHAeoAsAB3AIgAowBfAAAACgAvANH/Vv9k/+X/w/9M/+P+iv48/r79WP0b/b/8H/yA+yT7xfol+tf5KPps+k76JfpK+qn65/r++iT7V/tk+3L7ufsw/Ez8Evwj/IX8yfzy/Gb9If7I/kn/yv8DAEoA5wCNAdgB8AE+Ar8C/QLUAvkCRAN0A4UDgQPWAxQELwRUBE0EWARvBJUEqQSVBGwEFwSdA1IDLAPlAmACFQLiAccBhwEFAcwAtACSAH0AXwBKAEcATgDIAFcBqQHcAVMCFAOuA+4D/wNKBNUEfwWsBSAFdgQUBOcDOgPcAaMAGwDi/9/+Y/1I/KL7cvsn+yz6Ovne+OX44vhT+LD3n/f69zv4KvjS99L3RfjG+Cb5cPkl+jH7TPzD/Pb8i/1X/jH/qP8UAKoAUAEPAnUCkwLGAhEDQQNEAx8DvwJgAmQCmgKMAi0C5gH3AQQCBALiAbMB8AF4AvIC5QKJAlMCmgLsAugCkwIgAkUCRQIjAqIB1gDBALsA0gCcAD0AAwAiAJkAZgAAAAoAtwAnARoB5wD0AIMB8wE3AukBywEZApcCqwJMAioCNAIqAggCrwFNAScBBQH0AHMAuf84//D+ov4h/nf9xvxg/AH8nvtJ+/T65/r4+vT60vq0+ur6Hfsn+037efuD+4b7wPtB/KT8w/zl/EH9tP0G/l7+3P6J/x4AhADPAPgAJwFrAcQB/gFgArwC0AIHAx8D+QK/AowCmgKXAoICkAKoArICZAI+AkwCDwLtAeYB3wHzAcQBtgHHAZQBRgH4APEAIQEkAecA3QDMAF8AKAAiAA0AJQAsACgA5f9//2v/jf+a/5f/x//6/xcAZgC+ANkA1gATAVQBRgEQAfQA+wD0AM8AlQBpACgABgDs/6j/Vv/c/rD+pv5N/vX93f3x/db9kv0z/f383vyk/GP8Dvzi++z7CPwI/N/7x/v6+0X8nfzs/B/9hf3n/Ub+sP7q/hn/f//v/1gAwQDnAB0BcgG9ASoCNAJIAp0CzQL5AhgDEQPoAtcC5QKyAjsCBALiAc4BqQFvAVcBMgEyAfgAsACOAFEAWABsAHcAXwBHAIEAlQB3AIgAzACtAIEAhACOAJIAfQCIALQA2QC+AK0ArQCIAC8AMwCOAJkAcwBsAJUAzADFAIsAgQBKAB4AHgA5AEQAEQAXAA0Atv9F/yP/P/9T/zv/Mf8q/wH/IP8j/wz/7f7f/hL/J/8M/9n+yP7O/t/+2f6s/pH+iv52/mX+VP5D/lv+ef6O/r3+Hf9y/6//0f/p/0AAlQDFANIA6gAQAUkBWgEaATIBVAFlAWgBOAEuATUBRgEWAbAAdwBHAEcAXwA2AAYA/f/l/9H/tv+e/3//fP+5/7n/r/+l/5r/r/+G/0z/a/+a/6H/nv+v/7z/q//H/wAAGwARADMAdwCZAJIAiwCVAKYAtwDFAMgArQDIAPEA7gD0AOcAwQCqAKoAtADSAPsACQECAdIAgQBKAEAAIgDv/9v/2//H/5T/bv9Q/0z/Vv9h/3z/Yf8n/yf/U/+X/4P/ZP9W/1D/Z/9a/3L/sv/U/9j/0f/6/yUAAwDs//P/HgAlABEAFwARABEAEQAbACwALwAXAOn/jf+J/5D/df+G/5T/nv94/2v/U/8//z//Gf8F/+r+CP8//zH/NP80/1D/eP9k/3L/nv/H/7L/hv+J/6j/3v/e/+n/EQANAC8AaQCOAKoAwQDZABMBJAHqAN0A/wDxAPgAEwETARMBHQEnAR0BCQEJARYBHQEMAf8A8QDnAPsA5wC3AJwAXwAvAAMA7//z/7n/a/80/zH/Lv80/1b/U/9F/0n/U/9n/2H/Rf91/8P/zf+2/6//wP/U/9H/AAAXANv/w//N/6//f/9//5f/pf+D/3L/ZP9T/2v/a/+D/5r/hv+D/3z/cv9h/1P/OP84/0z/df+l/7z/yv/N/+z/+v8eADYARABRACgAIgAoABsABgAeACwAIgAlAA0AGwAzAEQAdwCIALAAzAC7ALcApgCVAK0A1gDZAMUA1gDdALcAkgCBAI4AtwCtAJ8ArQCVAJIAjgBsAD0ANgBHAB4A8//K/9T/AAAAAPb/zf+8//P/HgANANj/yv/2/wAA7P/s/+X/yv+8/7n/vP/H/97/CgAeAP3/+v8KAB4AOQAzAAAAvP+v/6j/nv+G/4b/jf+D/3z/Lv84/5f/wP/U/7z/r/+8/7z/uf/R/8D/vP+8/5f/kP+U/6//0f/p//P/5f/H/7b/vP+5/7z/4v/v/+L/x/+2/7L/of+G/5r/tv+v/83//f/9/wYABgDv/xQAJQAiAEQAUQBVAGwAYgBzAI4AowDPAK0AfQBwAEoALwARABsARAA5ADMAOQBAAEcAbACOAFsAIgDs/97/BgAKAAMAFwA2AEQANgAUAP3/BgAbAAoA7//s//P/AwAAAAAAAwDz//r/LABiADYAGwA9AEAAXwBYAGYAegBiAEQAEQAvACwA/f8UAPP/1P/U/83/yv+U/4n/q//A/9j/wP+X/4n/jf+l/4n/fP+a/5r/nv+U/6H/sv+y/57/if+v/5r/bv+U/8f/1P/z/zMANgAsACIAKAAzACgAJQDv/8r/of+h/8r/8/8NABEAFwD6/9H/vP/H/83/6f8DAAYAEQA9AFEAMwAUABEACgD6/wAA5f/l/+L/yv/D/7n/yv/z/wMAOQBbAFsAaQCOAKoAiwCZAJUAiwCIAGYAcwBfACwAEQAiAB4ABgA5AEAAFAAGABQALwBiAIQAkgCOAHcAhABfAEAATgBHAEAAHgD9//3/7//R/7L/mv+h/6X/uf/U/97/wP9//57/vP/K/+n/4v8bACgA/f/s/+X/1P/H/6//pf+o/3//df91/5T/wP/A/7L/r/+y/5f/eP+Q/6X/1P8NABcAEQADABEABgD2/+X/uf+y/57/r//v/97/yv/b/wAADQADABsAAwDv/woAAAAGABEA+v/i/+n/AAD9/ygAOQA5AGYAfQCSAGkAPQA5ACIAFAARABQAHgA5AE4ARAAsACUAMwBEAE4AUQAvAA0A8//v/w0AOQBsAIQAqgDBALAAmQCZAHoARAA9AC8ADQADAAAA3v+v/4P/ZP9W/13/a/+N/7L/nv/D/wAAHgBRAHMAlQCIAFgARwBVAD0ADQAKACIAFADK/7n/sv+G/3//fP+N/6X/x//Y/8D/l/+N/6j/mv+2/9j/5f/2/+//zf/H//P/AADz/8r/vP+r/6//0f/b/w0ALABRAFEAQABYAD0AWwBzAEQALwAsAB4ADQDY/6j/l/+h/5r/if/A/8P/x//R/97/7//6/0AAegCjAIsATgAzACUAHgAbABEABgDv/8P/r/+5/8r/2//l/+X/AAAUAAYA6f/i/wAAIgAzAEoASgAGAMf/sv/A/9T/8/8KABQAAADl//3/DQAKAP3/AAAXAFsAjgCIAJUAcwBbADYA8/8DAPb/2//N/9H/1P/R/9j/5f/Y/7n/zf/b/+L/wP/D/+//7/8KAA0ABgAKABcALwD9//b/9v/H/9T/6f/e/8r/wP+N/3X/f/+X/9H/2P/s/w0AFwA5AGYAWwBOAEcANgBwAHMAcABzAFEALwAbACgAHgAlAE4AkgCOAHcAUQAvACwAGwAsACgALAD2//P/+v/e/+n/4v/9/wAAx/+r/6j/tv+y/8r/7P/Y/+//4v/K/7z/w//U/9v/6f/N/9T/4v/i/woABgDp/+L/w/+y/6H/wP/l/8D/qP+y/8P/of+J/7n/uf+2/9H/AAAsAC8ALAAbABcAHgAvAGwAjgBsAIEAtACjAJUAbABHADYAAAD2/xcAAwD9/wAAzf+8/9j/+v/6//P/GwAvADMAIgD2//b//f8UAFUAiACfAHoAPQAvADMAFAD9//3/DQAXAAoACgDe/9j/3v/i/wYAAwAoADkAKAAlACUAOQA2ABcABgAAAPb/AADe/8f/qP+X/7L/qP+2/8D/yv/z//r/7P/N/7b/qP+N/4n/cv+Q/8r/yv/Y/8r/l/+N/5T/nv+e/6//6f/p/+L/6f/z/xEAAwAoABsA9v8AAPP/AAD2/xEAHgAiAEoAMwAKAAYAHgA9AEAAOQAsADYAIgDl/wYAKABHAGYAWAB6AHcAXwBVAE4ATgA5ACgAFwA2AFUAZgCIAIgAUQBAADYAAADb/9j/6f/9/xQALwA2ABEABgAGAAMA+v/2//r/x/98/1b/Yf94/4n/pf+l/5r/uf/K/+///f/p/yIARAA5ACgACgAAAPP/AAADAO//AADi/9T/7//s/+X/0f/l/+L/4v/p/9v/+v/b/6v/mv+J/57/vP/z/xEAIgA5AE4AUQBpAGwARwBOAEQAQAAzABcAAwDp//r/7P/i/+z/4v/9/w0AGwAUAMr/l/+D/27/df+Q/7z/zf/N/8r/w//U/6//r//U/+n/CgAbAEQASgAoACgAFwDU/6j/pf/b/xsATgB6AFgALAA2ADYANgA9AEQANgAzAEAAMwA2ABsAEQA9ADYALwAbACgAbACIAIEAhACfALsApgBYAEAAYgBRADkAQAA9ACwAHgAzAB4A8//e/6//uf+2/7n/2P/l//r/7//b/7z/vP/N/7b/2//9/wMACgD6/97/yv/A/7n/sv+Q/3j/f/+N/43/jf+U/43/kP+y/+n/2//H/8D/pf+a/8r/+v/2//r/7//p/w0AKAA9AEcALAARAOz/+v8NAOz/8//v/+//0f+y/9v/5f8NAC8ALAAsAAoAJQAvACgAWABVAFEARABAADYAEQARACIAKAAiADYALAARAEQAXwA2ACIAZgB9AGIAYgBYAEcAHgDs/9T/yv/i/woADQADANj/w//e//P/BgAzAGIAQAADANj/tv+v/8P/vP+o/9H/3v/i/+//CgAsACUAPQBOADYABgDp/+L/0f/K/7z/r/+y/83/q/+e/8r/uf/H/8r/6f/e/9j/AAARAC8AAwAAAP3/AAAXACwAJQAAAP3/8//2//b/5f/s/x4AOQAeAOn/yv/z/wYAGwAXAA0AEQAGABQAPQBHADkARwA2AC8ALwAUAAAA4v/Y/8f/uf/v/yIAGwAKAAoADQAGABEAJQAXABEAFAARABsAGwAUAB4AGwD9/9T/r/+2/9j/3v/p/9v/x//H/83/8//e/8D/1P+5/6X/zf/z/wMA/f/v/wYAFwAiAC8AOQBAACwABgDz/wMAKAA2ADYAIgADAP3/AwAiAEQARABYAGIAUQBRAEAANgA5AEAAXwBmAFgANgBHAEcALAAUAPb/7//Y//b/AwD6/woAAwADAP3/4v/R/7b/lP+N/5D/nv+o/7b/uf+2/8D/sv+8/7L/pf+2/7b/yv/e/+z/7//l//r/LwBVAGwAiwCOAGkAWAA9ABEA+v/b/+z/AwD6/+z/2P/H/83/w/+r/7b/x//D/+L/+v8DAPb/3v/v/+L/8/8AAO//2P+y/8P/8/8NAAYAAAADANv/uf+8/9H/7P/6/wYABgAGAO//+v8XAAAAHgAzACIAFwANACUAFAAKABQAAwAAAPr/BgAiAEAAWABsAHAAZgBbAFEAWABpAH0AYgAeABQA9v/l/+n/pf+J/27/a/9//43/pf+y/83/5f/6/+z/9v8vAD0AKAAbABQAAwD6/woAFwARAAMACgARAAMAFAAbABQAAwANABcADQARACUATgBKAEQAIgAUACwALAA9AD0AQABHACIA8//s/+//AwA9AFgAMwAKAAAAFAAiAAoAAAD6/97/qP+J/3//g/94/1r/cv9r/z//OP8x/yf/Yf+h/7n/wP+r/8P/+v8bAEoAQABHAD0AFwAsACUAJQAbABsAFwDz//P/KABHAFUAegCLAHcARABAAGIAcACIAJkAiwBwAGwAWwBYAEQAGwARAAoAFwAXAA0AHgAzADYAGwD2//P/AwD9/+z/5f/K/8P/3v8KAC8AQAAiAAAA+v/b/9j/9v/9/wYAEQAAAMr/vP+5/6//tv/A//P/BgDv/97/uf+5/7L/l//D/8f/pf+Q/43/hv91/7b/6f/v//3/EQAvAC8AIgAlAB4AFAAAAP3/3v/D/7n/vP/U/+L/7/8AABQA/f/9/x4AMwBAAE4ASgBRAHAAYgA5ABQAIgAlAA0ABgD9/+z/7/8UADMAHgADAPb/6f/6/wMA3v/K/7z/r//K/+X/AADp/6v/qP/D/+X/CgAUAB4ALwBHAFgAWABbAEoASgBHAFgAYgAlAAoAFAAGAPP/+v8KAOz/3v/s/+X/4v/2/wYA+v/6/wYAHgAUAAAAJQA5AC8AHgAzAEAAEQAUAB4AFAARABQACgAAAP3/0f+o/57/uf/p/wYABgANAAMA9v8GAAoAHgAUAAAA9v/l/+L/8//9/+X/7P8AAAAA6f/U/+z/AwADAAAA6f/i/+//6f8DAAYA+v8GAAMAAAAKAAoALABEADkAJQAKABEAFADp/8P/3v/2/+L/2//v/+//7//U/8D/wP/A/8r/0f/H/57/nv+h/4b/f/9y/2T/Xf9d/3j/l/+8/+X/x//R//b/8/8bADYARwAsAAoAEQAlADMAJQBKACgA8//e/9j/BgAsADYAPQBpAHcAZgBsAGIASgAoABEAJQBHAFsAXwBYACgADQAAAOL/0f/D/8P/vP+l/6X/yv/9/yUALwAsACUA/f/6/yUALwBAAFgANgARABsAKAAvADMABgADAAoAGwAiABEAHgAeADYANgBAAFsARABYAFsAPQAXAAoAGwAiABsAKAAUAMf/5f8KABsAJQD9/wYAFAAzAE4ASgBKADkALwAzACwABgAAAO//2P/K/7L/kP+G/43/cv+l/9v/5f/i/8D/wP/Y/+L/4v/e/+//CgDp/83/1P/A/6X/mv+e/5T/l/+Q/3j/f/+a/6j/wP/s/xsAQABfAGYAYgB3AHoAYgB3AIgAcABwAGwAaQBwADkAFwAKANv/wP/Y/wAANgBRACwAGwAKAAoABgAXAC8AOQA5AAoA+v/U/7n/q/+l/6j/jf+U/7L/w//N/9H/wP/Y/+//2//e/wMAFAAAAA0AHgAiABEABgANAB4ANgAbACUAFwAGAPP/2P8AAAYA/f/z//P/CgAXADMAVQA2AAoAGwAlAPb/4v/l/97/0f+o/6j/mv+X/8D/2P/l/9j/yv/A/8r/8/8NACgALwAiABEABgADAPr//f/s/97/2//A/7b/pf+h/7n/yv/K/9H/7/8DABQACgAGACUAFwAKABsALAAzAEQAGwAGABEAAwANAAAA+v/z/9H/sv/H/+//FwA2AEcAPQAUACgAUQCBAJIApgC+AJUAcABpAH0AcwB3AJUAkgB6AFUAUQBOACUADQADAPr/5f+8/6H/of+8/9H/1P/e/9H/1P/s/+n/7P8AAPP/3v/R/9T/6f/p//r/BgAKAAMA/f/6//b/DQAAANT/sv+J/3z/l/+h/7b/of94/3j/df+G/6//1P/H/8f/2P/Y/7z/lP+U/57/pf+8/7L/nv+v/43/eP+G/7L/+v8XAAoA/f8GAAMABgAKACgATgA9ACwALAAbAB4APQBmAGYASgBwAIgAaQBHAE4AcACEAHMAUQANAOn/DQAeABEAFwAsABEABgAbADMAPQBKAFgAYgBzAFgASgBYAGIAWwBbAEoARwBbAE4ANgAUAAAA5f+h/6v/x/+y/7z/wP+2/8f/1P/Y/+//CgAKACUARAA2AEAATgBEAEcALAAUAA0A/f/e/8D/2P/p//3/GwAlABcAHgBEAEoAKAAGABEAHgAUAAAA7//l/9j/sv+a/7L/w/+8/7L/sv+v/8f/+v8DAAYABgDi/8r/w//N/83/x//p/+X/wP+v/7L/tv+X/6j/0f/Y//3//f/2/woACgARACIAIgAXACUAIgAKAAAA6f/Y//P/AAD9/xEAFAAGAAMA8/8GAA0AFwAeAAYAAAAGAAYA+v/9//b/7/8DAOn/0f/v/+X/8//2/+n/8//U/9T/5f8DABcAEQARAAYA+v8AAB4AMwBHAGIAWwBKADkAHgANAAMAEQA2AGIAYgAvABQAFAADAPb/CgAXADkAMwANAA0AAAAGABEAEQANAPb/8//9/+//2P/e//P//f8GAAAA9v8AAOz/3v/z/wMAEQARADYARwA2AC8AIgARAO//2//l/9v/zf/i//P/8//9//3/JQA9ABsAGwAlADMAOQA2AEcARAAiABQAAAD6/+z/vP+2/7L/r//N/8r/wP+5/6//sv/H//r/DQD6/+z/7P/p/97/2P/U/8r/zf/U/9T/2//U/9H/wP+y/8P/2P/s/+X/4v/z//b/4v/H/9H/4v/N/8D/yv+5/5f/qP/H/8P/q//D/+//+v/v/woAFwAUABQAGwAeABsAOQA2ACwAHgARAC8AOQBRAGIAaQBYACgAEQAeACUAMwBOAFsATgBRAIQAmQCVAIsAZgBAACgALwAXAAoAOQBEACwAIgAXAAoA8/8NACIAGwAlADkANgAGAPr/+v/v/+X/2P/e/9H/mv+G/4n/ZP91/6v/x//N/9H/zf/N/9T/4v/i/+z//f8UACIA/f/e/8D/uf/s/wMAAAANAA0A6f/e/+L/7P8DAAAAAAAGAP3/9v/9//3/AADs/+L/7//z/+z/yv/H/7z/w//i/+n/9v8NABsARwBsAE4AOQBYAHAAbACEAIEAWAAvAAAABgD2/9j/yv/A//P/BgAAABcADQAGAAMA/f8DAAAA/f8NACIAKABVAFsASgAvAAYACgAGAAYACgAGAAMABgARAAoA8//e/+z/3v+v/6//x//e/+X/2//p//b//f/9/+z/9v/9//r/CgAAAOz/3v/H/9j/2P/p//r/AwAlACIAMwAsACIALwAUAO//2P/e/97/2P/z/wYAEQAsADMAIgADAAMAIgAlAEAAZgBzAGYARwA9ADkANgBAAEcALAAGAAMA5f/e//P/AADz//b//f/Y/8f/w//l/xsAKAAiAB4A/f/Y/83/wP/K/97/7//9/+z/2P/e/8D/qP+v/7n/tv+y/6//qP+2/6//tv+8/7b/1P/i/9v/7/8AAAMACgAXABQAAwADAAYAAAAGAAMABgAbAAYA+v8DAAMAAwDz/+n/5f/v/wMABgANAPP/7P/z/wAAKAAeAA0AFwAbABcADQAiACwAMwBOAEcAPQAKAAAACgAAACIAHgANABEAFAADAO//1P/U/wMAHgBKAFgAOQANAPP/+v8AAA0AGwAXAAoA8//s//b/DQAiADkAWwBHADkARAAoAP3/6f/v//3/CgARACIARAA9ACIAAwDp/+z/7//v/wYAAADl/+L/0f+y/6H/tv/A/5r/l/+U/4b/nv+h/5f/l/+h/7n/yv/U/9v/4v/2/+//7P8AAP3/FwAzAD0ANgAeADkARAA5AEoAVQA9ABQAAADi/9v/7P/z/wAABgAGAA0ABgD6/wAA8//z//b/+v8bABcADQAXABcAFAAlAC8AJQANAA0AFwDz//P/+v8KABcAGwAbAPb//f8NACwAMwAUAAoA+v/v/+z/7P/6//3/BgARAAMABgANAAMAAwDz/9v/4v/i/+z/AwANAB4AIgAoAFEAVQAzACwAFAAKACIAGwANABQADQDz/97/yv/i/xcAMwAzAA0AFAAUAAYA/f/2/w0A+v/9//3/+v8AABQALAAeABcAAwD2//P/5f/6/wMAAAANAA0AAADb/8P/w//K/8r/1P/U/8P/w//Y/9T/uf+8/+L/3v/e/w0APQAlAAAA7//H/6//r/+8/+L/3v/R/+X/6f/v//b/AAADAPb/4v/l//b/9v/2/+//AAADAPP/AwAKAAYAKABVAGYAWwBbAFsAcwCEAGwAWwBAADMAKAARAAYA9v/9//3/0f/D/83/6f/9//P/6f/e/97/2//i/+X/4v/6/wMA7P/e//b/AAD6/xQAFwANAAoAAwD6/woAJQBOAFEAOQBEAB4AFAAiACwAMwAvADkAHgADAAMABgANABEACgAAAPr/5f/A/7b/q/+2/8D/vP/K/+X//f8KAA0A/f8KAAAAEQAbAA0AHgAXAP3/7P/U/83/3v/b/9H/2P/U/9j/w/+l/5f/q//K/8r/4v/Y/9T/2//N/+L/8//i/8f/x//Y/9v/5f/v/woAFAAGAO//2P/s//3/FABOAEcAQABHADkAPQBEAFEAUQBEAEcASgBOADYAHgAGAAAAEQAoAD0ALwA2AEcAQABfAGkAWAAzAA0ABgARACUAJQAlAB4ACgAAAOz/5f/z/+//8//s/+L/3v/U/9T/zf/U/83/4v/z/+L/3v/p//r/AwAAAPr/6f/K/6H/hv+J/43/mv+e/7n/3v/N/9T/4v/i//3/+v/2//P/8/8XABsAFAAlACUAFwAGAPb/5f/e/+X/8//2/+n/0f/K/9j/4v8AADMALwAeACUAGwAXACwANgA2ADkASgBRAEQAHgAeADMARwBVAE4AOQAbABsAIgBAAFsAWwBmAEoAOQA9AD0AQAA5AD0ALwANAOn/8//s/83/x//D/83/0f/D/6//vP/A/8P/1P/l/wAAAwAAAO//5f/l/9v/5f/i/83/tv+e/6v/wP/R/+n/1P/K/8r/sv+l/6j/3v/9/xEAOQAoABcAHgAUABEA/f/s/9T/0f8AAB4AFwAGAB4AAwDe/wAAOQBVAE4AXwBRAEQAUQBOADYAJQAoABsAFwAbACgALAAUABEAFwAeAB4ALAAvAB4AHgADAOn/8//6//3/FAAsADYAFwD6//P/6f8AAAAA9v/e/8f/sv+D/3z/a/9u/5f/lP+N/3//g/+a/8D/2P/K/8f/r/+o/7L/x//p//3/CgD6/+z/7//6/wAA/f8KABcAGwAoADMASgBOAEQAOQAzAD0ARwBbAEQAMwBEADMANgAoACIALAAXABEAFAAXAB4AGwAsAC8AMwBEAEQAPQAvABcAAADs/+X/6f/z/+//5f/U/8r/7//s/+X/AwADAAAAFAAzAEAAQAA9ADkATgBAAC8AJQAAAO//6f/6//P/4v/z//b/7P/l/+//+v8GAAMAEQAlAA0ABgADAO//8//l/97/2//i/+//3v/e/9v/2P/U/83/3v/H/7z/tv+v/9j/5f/p//3/8//z/wAA9v8DABEAAwAAAP3/AwAUABsAFAAGAAMABgAGAO//yv/R/+z/7//6/wYA/f8NACUAMwBHAGYAaQAsABQAFwANABQAGwAlACUAFAAGABQAIgANAAAADQAbABQA9v/2//3/AwAXACIALAARAP3/8//s/wAAAAADAPb//f8AAOL/7//l//P/CgAGAAYAEQAbABQAHgARAAMA9v/z/+L/yv/N/6v/q//D/83/2//H/6//sv+r/57/qP+2/8f/2P/s//3/7//s/+z/2P/D/7z/w/+5/6//x//U/9H/2//Y/83/1P/9/yIAOQA5AEQARAAiACgAQABRAGwAXwBEACwAEQAUABcAFwAsAC8AIgAiABcADQARADMAWABwAGIAOQAvADkAPQBEAFsAQAA2AEAAPQBKACgACgAAABQARwBbAGwAWwA9ABcA6f/2//3/6f8AAAoA+v/i/9j/yv+v/6j/qP+y/7L/of+N/3X/df+Q/7b/w//D/w==\" type=\"audio/wav\" />\n",
       "                    Your browser does not support the audio element.\n",
       "                </audio>\n",
       "              "
      ],
      "text/plain": [
       "<IPython.lib.display.Audio object>"
      ]
     },
     "execution_count": 19,
     "metadata": {},
     "output_type": "execute_result"
    }
   ],
   "source": [
    "ipd.Audio(waveform.numpy(), rate=sample_rate)"
   ]
  },
  {
   "cell_type": "markdown",
   "metadata": {},
   "source": [
    "#### Listen to audio after transformations are applied\n",
    "\n",
    "Compare the sound of the file before and after downsampling it."
   ]
  },
  {
   "cell_type": "code",
   "execution_count": 13,
   "metadata": {},
   "outputs": [
    {
     "data": {
      "text/html": [
       "\n",
       "                <audio  controls=\"controls\" >\n",
       "                    <source src=\"data:audio/wav;base64,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\" type=\"audio/wav\" />\n",
       "                    Your browser does not support the audio element.\n",
       "                </audio>\n",
       "              "
      ],
      "text/plain": [
       "<IPython.lib.display.Audio object>"
      ]
     },
     "execution_count": 13,
     "metadata": {},
     "output_type": "execute_result"
    }
   ],
   "source": [
    "transform = torchaudio.transforms.Resample(orig_freq=sample_rate, new_freq=new_sample_rate)\n",
    "\n",
    "transformed = transform(waveform)\n",
    "ipd.Audio(transformed.numpy(), rate=new_sample_rate)"
   ]
  },
  {
   "cell_type": "code",
   "execution_count": null,
   "metadata": {},
   "outputs": [
    {
     "data": {
      "text/plain": [
       "torch.Size([1, 8000])"
      ]
     },
     "execution_count": 21,
     "metadata": {},
     "output_type": "execute_result"
    }
   ],
   "source": [
    "transformed.shape # see (num_channels, num_samples)"
   ]
  },
  {
   "cell_type": "markdown",
   "metadata": {},
   "source": [
    "#### Dataset"
   ]
  },
  {
   "cell_type": "code",
   "execution_count": 14,
   "metadata": {},
   "outputs": [
    {
     "name": "stdout",
     "output_type": "stream",
     "text": [
      "94824 35 ['backward', 'bed', 'bird', 'cat', 'dog', 'down', 'eight', 'five', 'follow', 'forward', 'four', 'go', 'happy', 'house', 'learn', 'left', 'marvin', 'nine', 'no', 'off', 'on', 'one', 'right', 'seven', 'sheila', 'six', 'stop', 'three', 'tree', 'two', 'up', 'visual', 'wow', 'yes', 'zero']\n",
      "11005 35 ['backward', 'bed', 'bird', 'cat', 'dog', 'down', 'eight', 'five', 'follow', 'forward', 'four', 'go', 'happy', 'house', 'learn', 'left', 'marvin', 'nine', 'no', 'off', 'on', 'one', 'right', 'seven', 'sheila', 'six', 'stop', 'three', 'tree', 'two', 'up', 'visual', 'wow', 'yes', 'zero']\n"
     ]
    }
   ],
   "source": [
    "dataset = AudioFolder(dataroot, transform=transform)\n",
    "\n",
    "train_dataset = AudioFolder(dataroot + '/train', transform=transform)\n",
    "val_dataset = AudioFolder(dataroot + '/test', transform=transform)\n",
    "\n",
    "print(len(train_dataset), len(train_dataset.classes), train_dataset.classes)\n",
    "print(len(val_dataset), len(val_dataset.classes), val_dataset.classes)"
   ]
  },
  {
   "cell_type": "code",
   "execution_count": null,
   "metadata": {},
   "outputs": [],
   "source": [
    "# code cell from PyTorch Tutorial\n",
    "# https://pytorch.org/tutorials/intermediate/speech_command_classification_with_torchaudio_tutorial.html\n",
    "# to make all tensors in a batch of the same length\n",
    "\n",
    "def pad_sequence(batch):\n",
    "    # Make all tensor in a batch the same length by padding with zeros\n",
    "    # Specifically, pad shorter tensors with zeros to match the length of the longest one.\n",
    "    # The max length is dynamically determined in each batch based on the longest waveform in that batch.\n",
    "    batch = [item.t() for item in batch]\n",
    "    batch = torch.nn.utils.rnn.pad_sequence(batch, batch_first=True, padding_value=0.)\n",
    "    return batch.permute(0, 2, 1) # the final shape is (batch_size, num_channels, max_length), standard format for audio processing\n",
    "\n",
    "\n",
    "def collate_fn(batch):\n",
    "\n",
    "    # A data tuple has the form:\n",
    "    # waveform, sample_rate, label, speaker_id, utterance_number\n",
    "    tensors, targets = [], []\n",
    "\n",
    "    # Gather in lists, and encode labels as indices\n",
    "    for waveform, label in batch:\n",
    "        tensors += [torch.Tensor(waveform)]\n",
    "        targets += [label]\n",
    "\n",
    "    # Group the list of tensors into a batched tensor\n",
    "    tensors = pad_sequence(tensors)\n",
    "    targets = np.stack(targets)\n",
    "    targets = torch.Tensor(targets)\n",
    "    targets = targets.to(torch.long)\n",
    "\n",
    "    return tensors, targets"
   ]
  },
  {
   "cell_type": "code",
   "execution_count": null,
   "metadata": {},
   "outputs": [],
   "source": [
    "# Dataloaders\n",
    "train_loader = DataLoader(train_dataset, batch_size=batch_size, collate_fn=collate_fn, shuffle=True)\n",
    "val_loader = DataLoader(val_dataset, batch_size=batch_size, collate_fn=collate_fn, shuffle=False)"
   ]
  },
  {
   "cell_type": "markdown",
   "metadata": {},
   "source": [
    "##### Plot a sample"
   ]
  },
  {
   "cell_type": "code",
   "execution_count": 27,
   "metadata": {},
   "outputs": [
    {
     "name": "stdout",
     "output_type": "stream",
     "text": [
      "Data batch shape: torch.Size([256, 1, 8000])\n",
      "Shape of waveform: torch.Size([8000])\n",
      "Class of waveform: 'cat'\n"
     ]
    },
    {
     "data": {
      "text/plain": [
       "[<matplotlib.lines.Line2D at 0x16a20ab60>]"
      ]
     },
     "execution_count": 27,
     "metadata": {},
     "output_type": "execute_result"
    },
    {
     "data": {
      "image/png": "[encoded data removed]",
      "text/plain": [
       "<Figure size 640x480 with 1 Axes>"
      ]
     },
     "metadata": {},
     "output_type": "display_data"
    }
   ],
   "source": [
    "data_batch, label_batch = next(iter(train_loader))\n",
    "sample_waveform = data_batch[0].squeeze()\n",
    "print(f'Data batch shape: {data_batch.shape}') # (batch_size, num_channels, max_length)\n",
    "print(f\"Shape of waveform: {sample_waveform.size()}\")\n",
    "sample_class = int(label_batch[0].item())\n",
    "print(f'Class of waveform: \\'{train_dataset.classes[sample_class]}\\'')\n",
    "plt.plot(sample_waveform.t().numpy())"
   ]
  },
  {
   "cell_type": "markdown",
   "metadata": {},
   "source": [
    "#### Model Architecture\n",
    "\n",
    "1-Dimensional Convolutional Neural Network to process raw audio data."
   ]
  },
  {
   "cell_type": "code",
   "execution_count": 33,
   "metadata": {},
   "outputs": [],
   "source": [
    "class M5(nn.Module):\n",
    "    def __init__(self, n_input=1, n_output=35, stride=16, n_channel=32):\n",
    "        super().__init__()\n",
    "        self.conv1 = nn.Conv1d(n_input, n_channel, kernel_size=80, stride=stride)\n",
    "        self.bn1 = nn.BatchNorm1d(n_channel)\n",
    "        self.pool1 = nn.MaxPool1d(4)\n",
    "        self.conv2 = nn.Conv1d(n_channel, n_channel, kernel_size=3)\n",
    "        self.bn2 = nn.BatchNorm1d(n_channel)\n",
    "        self.pool2 = nn.MaxPool1d(4)\n",
    "        self.conv3 = nn.Conv1d(n_channel, 2 * n_channel, kernel_size=3)\n",
    "        self.bn3 = nn.BatchNorm1d(2 * n_channel)\n",
    "        self.pool3 = nn.MaxPool1d(4)\n",
    "        self.conv4 = nn.Conv1d(2 * n_channel, 2 * n_channel, kernel_size=3)\n",
    "        self.bn4 = nn.BatchNorm1d(2 * n_channel)\n",
    "        self.pool4 = nn.MaxPool1d(4)\n",
    "        self.fc1 = nn.Linear(2 * n_channel, n_output)\n",
    "\n",
    "    def forward(self, x):\n",
    "        x = self.conv1(x)\n",
    "        x = F.relu(self.bn1(x))\n",
    "        x = self.pool1(x)\n",
    "        x = self.conv2(x)\n",
    "        x = F.relu(self.bn2(x))\n",
    "        x = self.pool2(x)\n",
    "        x = self.conv3(x)\n",
    "        x = F.relu(self.bn3(x))\n",
    "        x = self.pool3(x)\n",
    "        x = self.conv4(x)\n",
    "        x = F.relu(self.bn4(x))\n",
    "        x = self.pool4(x)\n",
    "        x = F.avg_pool1d(x, x.shape[-1])\n",
    "        x = x.permute(0, 2, 1)\n",
    "        x = self.fc1(x)\n",
    "        return F.log_softmax(x, dim=2)"
   ]
  },
  {
   "cell_type": "code",
   "execution_count": 34,
   "metadata": {},
   "outputs": [
    {
     "name": "stdout",
     "output_type": "stream",
     "text": [
      "M5(\n",
      "  (conv1): Conv1d(1, 32, kernel_size=(80,), stride=(16,))\n",
      "  (bn1): BatchNorm1d(32, eps=1e-05, momentum=0.1, affine=True, track_running_stats=True)\n",
      "  (pool1): MaxPool1d(kernel_size=4, stride=4, padding=0, dilation=1, ceil_mode=False)\n",
      "  (conv2): Conv1d(32, 32, kernel_size=(3,), stride=(1,))\n",
      "  (bn2): BatchNorm1d(32, eps=1e-05, momentum=0.1, affine=True, track_running_stats=True)\n",
      "  (pool2): MaxPool1d(kernel_size=4, stride=4, padding=0, dilation=1, ceil_mode=False)\n",
      "  (conv3): Conv1d(32, 64, kernel_size=(3,), stride=(1,))\n",
      "  (bn3): BatchNorm1d(64, eps=1e-05, momentum=0.1, affine=True, track_running_stats=True)\n",
      "  (pool3): MaxPool1d(kernel_size=4, stride=4, padding=0, dilation=1, ceil_mode=False)\n",
      "  (conv4): Conv1d(64, 64, kernel_size=(3,), stride=(1,))\n",
      "  (bn4): BatchNorm1d(64, eps=1e-05, momentum=0.1, affine=True, track_running_stats=True)\n",
      "  (pool4): MaxPool1d(kernel_size=4, stride=4, padding=0, dilation=1, ceil_mode=False)\n",
      "  (fc1): Linear(in_features=64, out_features=35, bias=True)\n",
      ")\n",
      "Number of parameters: 26915\n"
     ]
    }
   ],
   "source": [
    "model = M5(n_input=1, n_output=len(train_dataset.classes))\n",
    "model.to(device)\n",
    "print(model)\n",
    "\n",
    "# the number of parameters to be learnt\n",
    "def count_parameters(model):\n",
    "    return sum(p.numel() for p in model.parameters() if p.requires_grad)\n",
    "n = count_parameters(model)\n",
    "print(\"Number of parameters: %s\" % n)\n",
    "\n",
    "# optimiser\n",
    "optimizer = optim.Adam(model.parameters(), lr=learn_rate, weight_decay=weight_decay)\n",
    "# loss function\n",
    "criterion = nn.CrossEntropyLoss()"
   ]
  },
  {
   "cell_type": "markdown",
   "metadata": {},
   "source": [
    "#### Train Function"
   ]
  },
  {
   "cell_type": "code",
   "execution_count": 35,
   "metadata": {},
   "outputs": [],
   "source": [
    "def train(model, epoch, log_interval, losses):\n",
    "    # put model is training mode\n",
    "    model.train()\n",
    "    model.to(device)\n",
    "    train_loss = 0.0\n",
    "    for batch_idx, (data, target) in enumerate(train_loader):\n",
    "\n",
    "        # move data into the designated device\n",
    "        data = data.to(device)\n",
    "        target = target.to(device)\n",
    "\n",
    "        # forward pass through the model\n",
    "        output = model(data)\n",
    "\n",
    "        # evaluate based on the difference between predicted output and original target\n",
    "        loss = criterion(output.squeeze(), target)\n",
    "        # backpropagate loss\n",
    "        optimizer.zero_grad()\n",
    "        loss.backward()\n",
    "        optimizer.step()\n",
    "\n",
    "        # to be used for cumulative loss\n",
    "        train_loss += loss.item()\n",
    "        \n",
    "        # update the graphic bar that shows the progress of training per batch\n",
    "        pbar.update(pbar_update)\n",
    "\n",
    "        # print training stats\n",
    "        if batch_idx % log_interval == 0:\n",
    "            print(f\"Train Epoch: {epoch} [{batch_idx * len(data)}/{len(train_loader.dataset)} ({100. * batch_idx / len(train_loader):.0f}%)]\\tLoss: {loss.item():.6f}\")\n",
    "    \n",
    "    # get cumulative loss for each batch\n",
    "    train_loss = train_loss / len(train_loader)\n",
    "    losses.append(train_loss)\n"
   ]
  },
  {
   "cell_type": "markdown",
   "metadata": {},
   "source": [
    "#### Validation Function"
   ]
  },
  {
   "cell_type": "code",
   "execution_count": 36,
   "metadata": {},
   "outputs": [],
   "source": [
    "# evaluation functions\n",
    "def number_of_correct(pred, target):\n",
    "    # count number of correct predictions\n",
    "    return pred.squeeze().eq(target).sum().item()\n",
    "\n",
    "def get_likely_index(tensor):\n",
    "    # find most likely label index for each element in the batch\n",
    "    return tensor.argmax(dim=-1)\n",
    "\n",
    "# validation function\n",
    "def val(model, epoch, losses):\n",
    "    # put model in evaluation mode\n",
    "    model.eval()\n",
    "    model.to(device)\n",
    "    val_loss = 0.0\n",
    "    with torch.no_grad():\n",
    "        correct = 0\n",
    "        for data, target in val_loader:\n",
    "            \n",
    "            # move data into the designated device\n",
    "            data = data.to(device)\n",
    "            target = target.to(device)\n",
    "            \n",
    "            # forward pass through the model\n",
    "            output = model(data)\n",
    "\n",
    "            # evaluate based on the difference between predicted output and original target\n",
    "            loss = criterion(output.squeeze(), target)\n",
    "\n",
    "            # to be used for cumulative loss\n",
    "            val_loss += loss.item()\n",
    "\n",
    "            # use evaluation functions defined above\n",
    "            pred = get_likely_index(output)\n",
    "            correct += number_of_correct(pred, target)\n",
    "            \n",
    "            # update the graphic bar that shows the progress of training per batch\n",
    "            pbar.update(pbar_update)\n",
    "\n",
    "        val_loss = val_loss / len(train_loader)\n",
    "        losses.append(val_loss)\n",
    "\n",
    "    print(f\"\\nValidation Epoch: {epoch}\\tAccuracy: {correct}/{len(val_loader.dataset)} ({100. * correct / len(val_loader.dataset):.0f}%)\\n\")"
   ]
  },
  {
   "cell_type": "markdown",
   "metadata": {},
   "source": [
    "#### Training Loop"
   ]
  },
  {
   "cell_type": "code",
   "execution_count": 37,
   "metadata": {},
   "outputs": [
    {
     "name": "stderr",
     "output_type": "stream",
     "text": [
      "  0%|          | 0.0024154589371980675/2 [00:07<1:44:15, 3131.63s/it]"
     ]
    },
    {
     "name": "stdout",
     "output_type": "stream",
     "text": [
      "Train Epoch: 1 [0/94824 (0%)]\tLoss: 3.726570\n"
     ]
    },
    {
     "name": "stderr",
     "output_type": "stream",
     "text": [
      "  3%|▎         | 0.05314009661835746/2 [00:12<02:45, 85.11s/it]      "
     ]
    },
    {
     "name": "stdout",
     "output_type": "stream",
     "text": [
      "Train Epoch: 1 [5120/94824 (5%)]\tLoss: 3.092683\n"
     ]
    },
    {
     "name": "stderr",
     "output_type": "stream",
     "text": [
      "  5%|▌         | 0.10144927536231875/2 [00:16<02:37, 83.03s/it] "
     ]
    },
    {
     "name": "stdout",
     "output_type": "stream",
     "text": [
      "Train Epoch: 1 [10240/94824 (11%)]\tLoss: 2.648009\n"
     ]
    },
    {
     "name": "stderr",
     "output_type": "stream",
     "text": [
      "  7%|▋         | 0.1497584541062802/2 [00:20<02:23, 77.30s/it] "
     ]
    },
    {
     "name": "stdout",
     "output_type": "stream",
     "text": [
      "Train Epoch: 1 [15360/94824 (16%)]\tLoss: 2.282869\n"
     ]
    },
    {
     "name": "stderr",
     "output_type": "stream",
     "text": [
      " 10%|▉         | 0.19565217391304368/2 [00:24<02:32, 84.45s/it]"
     ]
    },
    {
     "name": "stdout",
     "output_type": "stream",
     "text": [
      "Train Epoch: 1 [20480/94824 (22%)]\tLoss: 2.153264\n"
     ]
    },
    {
     "name": "stderr",
     "output_type": "stream",
     "text": [
      " 12%|█▏        | 0.24637681159420333/2 [00:28<02:18, 78.92s/it]"
     ]
    },
    {
     "name": "stdout",
     "output_type": "stream",
     "text": [
      "Train Epoch: 1 [25600/94824 (27%)]\tLoss: 2.009328\n"
     ]
    },
    {
     "name": "stderr",
     "output_type": "stream",
     "text": [
      " 15%|█▍        | 0.2946859903381649/2 [00:32<02:10, 76.51s/it] "
     ]
    },
    {
     "name": "stdout",
     "output_type": "stream",
     "text": [
      "Train Epoch: 1 [30720/94824 (32%)]\tLoss: 1.845268\n"
     ]
    },
    {
     "name": "stderr",
     "output_type": "stream",
     "text": [
      " 17%|█▋        | 0.34299516908212646/2 [00:35<02:06, 76.35s/it]"
     ]
    },
    {
     "name": "stdout",
     "output_type": "stream",
     "text": [
      "Train Epoch: 1 [35840/94824 (38%)]\tLoss: 1.668246\n"
     ]
    },
    {
     "name": "stderr",
     "output_type": "stream",
     "text": [
      " 20%|█▉        | 0.39130434782608803/2 [00:39<02:07, 79.18s/it]"
     ]
    },
    {
     "name": "stdout",
     "output_type": "stream",
     "text": [
      "Train Epoch: 1 [40960/94824 (43%)]\tLoss: 1.447876\n"
     ]
    },
    {
     "name": "stderr",
     "output_type": "stream",
     "text": [
      " 22%|██▏       | 0.4396135265700496/2 [00:43<02:01, 78.02s/it] "
     ]
    },
    {
     "name": "stdout",
     "output_type": "stream",
     "text": [
      "Train Epoch: 1 [46080/94824 (49%)]\tLoss: 1.537735\n"
     ]
    },
    {
     "name": "stderr",
     "output_type": "stream",
     "text": [
      " 24%|██▍       | 0.4855072463768131/2 [00:47<01:58, 78.08s/it] "
     ]
    },
    {
     "name": "stdout",
     "output_type": "stream",
     "text": [
      "Train Epoch: 1 [51200/94824 (54%)]\tLoss: 1.291737\n"
     ]
    },
    {
     "name": "stderr",
     "output_type": "stream",
     "text": [
      " 27%|██▋       | 0.5362318840579727/2 [00:51<01:54, 78.20s/it] "
     ]
    },
    {
     "name": "stdout",
     "output_type": "stream",
     "text": [
      "Train Epoch: 1 [56320/94824 (59%)]\tLoss: 1.446006\n"
     ]
    },
    {
     "name": "stderr",
     "output_type": "stream",
     "text": [
      " 29%|██▉       | 0.5845410628019343/2 [00:55<01:52, 79.66s/it]"
     ]
    },
    {
     "name": "stdout",
     "output_type": "stream",
     "text": [
      "Train Epoch: 1 [61440/94824 (65%)]\tLoss: 1.114852\n"
     ]
    },
    {
     "name": "stderr",
     "output_type": "stream",
     "text": [
      " 32%|███▏      | 0.6328502415458959/2 [00:59<01:49, 80.41s/it]"
     ]
    },
    {
     "name": "stdout",
     "output_type": "stream",
     "text": [
      "Train Epoch: 1 [66560/94824 (70%)]\tLoss: 1.350366\n"
     ]
    },
    {
     "name": "stderr",
     "output_type": "stream",
     "text": [
      " 34%|███▍      | 0.6787439613526594/2 [01:02<01:50, 83.45s/it]"
     ]
    },
    {
     "name": "stdout",
     "output_type": "stream",
     "text": [
      "Train Epoch: 1 [71680/94824 (75%)]\tLoss: 1.150255\n"
     ]
    },
    {
     "name": "stderr",
     "output_type": "stream",
     "text": [
      " 36%|███▋      | 0.7270531400966209/2 [01:07<01:50, 86.81s/it]"
     ]
    },
    {
     "name": "stdout",
     "output_type": "stream",
     "text": [
      "Train Epoch: 1 [76800/94824 (81%)]\tLoss: 1.269595\n"
     ]
    },
    {
     "name": "stderr",
     "output_type": "stream",
     "text": [
      " 39%|███▉      | 0.7777777777777806/2 [01:11<01:39, 81.30s/it]"
     ]
    },
    {
     "name": "stdout",
     "output_type": "stream",
     "text": [
      "Train Epoch: 1 [81920/94824 (86%)]\tLoss: 1.009149\n"
     ]
    },
    {
     "name": "stderr",
     "output_type": "stream",
     "text": [
      " 41%|████▏     | 0.8260869565217421/2 [01:15<01:36, 82.28s/it]"
     ]
    },
    {
     "name": "stdout",
     "output_type": "stream",
     "text": [
      "Train Epoch: 1 [87040/94824 (92%)]\tLoss: 0.937076\n"
     ]
    },
    {
     "name": "stderr",
     "output_type": "stream",
     "text": [
      " 44%|████▎     | 0.8743961352657037/2 [01:19<01:31, 80.99s/it]"
     ]
    },
    {
     "name": "stdout",
     "output_type": "stream",
     "text": [
      "Train Epoch: 1 [92160/94824 (97%)]\tLoss: 1.189189\n"
     ]
    },
    {
     "name": "stderr",
     "output_type": "stream",
     "text": [
      " 50%|█████     | 1.0000000000000038/2 [01:33<03:18, 198.81s/it]"
     ]
    },
    {
     "name": "stdout",
     "output_type": "stream",
     "text": [
      "\n",
      "Validation Epoch: 1\tAccuracy: 7111/11005 (65%)\n",
      "\n"
     ]
    },
    {
     "name": "stderr",
     "output_type": "stream",
     "text": [
      " 50%|█████     | 1.0024154589372019/2 [01:33<02:51, 171.71s/it]"
     ]
    },
    {
     "name": "stdout",
     "output_type": "stream",
     "text": [
      "Train Epoch: 2 [0/94824 (0%)]\tLoss: 0.938602\n"
     ]
    },
    {
     "name": "stderr",
     "output_type": "stream",
     "text": [
      " 53%|█████▎    | 1.0507246376811634/2 [01:37<01:17, 81.21s/it] "
     ]
    },
    {
     "name": "stdout",
     "output_type": "stream",
     "text": [
      "Train Epoch: 2 [5120/94824 (5%)]\tLoss: 0.987079\n"
     ]
    },
    {
     "name": "stderr",
     "output_type": "stream",
     "text": [
      " 55%|█████▌    | 1.101449275362323/2 [01:41<01:14, 82.77s/it] "
     ]
    },
    {
     "name": "stdout",
     "output_type": "stream",
     "text": [
      "Train Epoch: 2 [10240/94824 (11%)]\tLoss: 1.030398\n"
     ]
    },
    {
     "name": "stderr",
     "output_type": "stream",
     "text": [
      " 57%|█████▋    | 1.1497584541062846/2 [01:45<01:11, 83.68s/it]"
     ]
    },
    {
     "name": "stdout",
     "output_type": "stream",
     "text": [
      "Train Epoch: 2 [15360/94824 (16%)]\tLoss: 0.994489\n"
     ]
    },
    {
     "name": "stderr",
     "output_type": "stream",
     "text": [
      " 60%|█████▉    | 1.1980676328502462/2 [01:49<01:08, 84.87s/it]"
     ]
    },
    {
     "name": "stdout",
     "output_type": "stream",
     "text": [
      "Train Epoch: 2 [20480/94824 (22%)]\tLoss: 1.049114\n"
     ]
    },
    {
     "name": "stderr",
     "output_type": "stream",
     "text": [
      " 62%|██████▏   | 1.2439613526570097/2 [01:53<01:07, 89.57s/it]"
     ]
    },
    {
     "name": "stdout",
     "output_type": "stream",
     "text": [
      "Train Epoch: 2 [25600/94824 (27%)]\tLoss: 1.001571\n"
     ]
    },
    {
     "name": "stderr",
     "output_type": "stream",
     "text": [
      " 65%|██████▍   | 1.2922705314009713/2 [01:58<01:07, 95.04s/it]"
     ]
    },
    {
     "name": "stdout",
     "output_type": "stream",
     "text": [
      "Train Epoch: 2 [30720/94824 (32%)]\tLoss: 0.926291\n"
     ]
    },
    {
     "name": "stderr",
     "output_type": "stream",
     "text": [
      " 67%|██████▋   | 1.3405797101449328/2 [02:02<01:01, 93.01s/it] "
     ]
    },
    {
     "name": "stdout",
     "output_type": "stream",
     "text": [
      "Train Epoch: 2 [35840/94824 (38%)]\tLoss: 1.009166\n"
     ]
    },
    {
     "name": "stderr",
     "output_type": "stream",
     "text": [
      " 69%|██████▉   | 1.3888888888888944/2 [02:07<00:53, 87.20s/it]"
     ]
    },
    {
     "name": "stdout",
     "output_type": "stream",
     "text": [
      "Train Epoch: 2 [40960/94824 (43%)]\tLoss: 1.021859\n"
     ]
    },
    {
     "name": "stderr",
     "output_type": "stream",
     "text": [
      " 72%|███████▏  | 1.437198067632856/2 [02:11<00:54, 96.72s/it]  "
     ]
    },
    {
     "name": "stdout",
     "output_type": "stream",
     "text": [
      "Train Epoch: 2 [46080/94824 (49%)]\tLoss: 0.995782\n"
     ]
    },
    {
     "name": "stderr",
     "output_type": "stream",
     "text": [
      " 74%|███████▍  | 1.4879227053140156/2 [02:16<00:44, 87.07s/it] "
     ]
    },
    {
     "name": "stdout",
     "output_type": "stream",
     "text": [
      "Train Epoch: 2 [51200/94824 (54%)]\tLoss: 0.863811\n"
     ]
    },
    {
     "name": "stderr",
     "output_type": "stream",
     "text": [
      " 77%|███████▋  | 1.533816425120779/2 [02:20<00:39, 85.41s/it] "
     ]
    },
    {
     "name": "stdout",
     "output_type": "stream",
     "text": [
      "Train Epoch: 2 [56320/94824 (59%)]\tLoss: 0.967744\n"
     ]
    },
    {
     "name": "stderr",
     "output_type": "stream",
     "text": [
      " 79%|███████▉  | 1.5821256038647407/2 [02:24<00:36, 87.55s/it]"
     ]
    },
    {
     "name": "stdout",
     "output_type": "stream",
     "text": [
      "Train Epoch: 2 [61440/94824 (65%)]\tLoss: 0.899881\n"
     ]
    },
    {
     "name": "stderr",
     "output_type": "stream",
     "text": [
      " 82%|████████▏ | 1.6304347826087022/2 [02:28<00:32, 87.17s/it]"
     ]
    },
    {
     "name": "stdout",
     "output_type": "stream",
     "text": [
      "Train Epoch: 2 [66560/94824 (70%)]\tLoss: 0.745294\n"
     ]
    },
    {
     "name": "stderr",
     "output_type": "stream",
     "text": [
      " 84%|████████▍ | 1.6787439613526638/2 [02:33<00:28, 87.67s/it]"
     ]
    },
    {
     "name": "stdout",
     "output_type": "stream",
     "text": [
      "Train Epoch: 2 [71680/94824 (75%)]\tLoss: 0.791577\n"
     ]
    },
    {
     "name": "stderr",
     "output_type": "stream",
     "text": [
      " 86%|████████▋ | 1.7270531400966254/2 [02:37<00:23, 85.83s/it]"
     ]
    },
    {
     "name": "stdout",
     "output_type": "stream",
     "text": [
      "Train Epoch: 2 [76800/94824 (81%)]\tLoss: 0.887895\n"
     ]
    },
    {
     "name": "stderr",
     "output_type": "stream",
     "text": [
      " 89%|████████▉ | 1.775362318840587/2 [02:41<00:19, 88.93s/it] "
     ]
    },
    {
     "name": "stdout",
     "output_type": "stream",
     "text": [
      "Train Epoch: 2 [81920/94824 (86%)]\tLoss: 0.807333\n"
     ]
    },
    {
     "name": "stderr",
     "output_type": "stream",
     "text": [
      " 91%|█████████ | 1.8236714975845485/2 [02:45<00:15, 88.25s/it]"
     ]
    },
    {
     "name": "stdout",
     "output_type": "stream",
     "text": [
      "Train Epoch: 2 [87040/94824 (92%)]\tLoss: 0.853953\n"
     ]
    },
    {
     "name": "stderr",
     "output_type": "stream",
     "text": [
      " 94%|█████████▎| 1.87198067632851/2 [02:50<00:10, 85.60s/it]  "
     ]
    },
    {
     "name": "stdout",
     "output_type": "stream",
     "text": [
      "Train Epoch: 2 [92160/94824 (97%)]\tLoss: 0.732406\n"
     ]
    },
    {
     "name": "stderr",
     "output_type": "stream",
     "text": [
      "100%|█████████▉| 1.9975845410628101/2 [02:59<00:00, 78.02s/it]/opt/homebrew/Caskroom/miniforge/base/envs/dmlap25my/lib/python3.10/site-packages/tqdm/std.py:636: TqdmWarning: clamping frac to range [0, 1]\n",
      "  full_bar = Bar(frac,\n",
      "100%|██████████| 2.000000000000008/2 [03:00<00:00, 90.01s/it] "
     ]
    },
    {
     "name": "stdout",
     "output_type": "stream",
     "text": [
      "\n",
      "Validation Epoch: 2\tAccuracy: 8076/11005 (73%)\n",
      "\n"
     ]
    },
    {
     "name": "stderr",
     "output_type": "stream",
     "text": [
      "\n"
     ]
    }
   ],
   "source": [
    "log_interval = 20\n",
    "pbar_update = 1 / (len(train_loader) + len(val_loader))\n",
    "train_losses = []\n",
    "val_losses = []\n",
    "best_loss = 10000\n",
    "\n",
    "# while tracking the graphic bar of progress\n",
    "with tqdm(total=num_epochs) as pbar:\n",
    "    # call the train and val functions for each epoch of training\n",
    "    for epoch in range(1, num_epochs+1):\n",
    "        train(model, epoch, log_interval, train_losses)\n",
    "        val(model, epoch, val_losses)\n",
    "        # save the model if the last val_loss added is better than the previous one\n",
    "        # similar to early stopping\n",
    "        if val_losses[-1] < best_loss:\n",
    "            best_loss = val_losses[-1]\n",
    "            torch.save(model.cpu().state_dict(), save_path)"
   ]
  },
  {
   "cell_type": "markdown",
   "metadata": {},
   "source": [
    "#### Plot Losses"
   ]
  },
  {
   "cell_type": "code",
   "execution_count": 38,
   "metadata": {},
   "outputs": [
    {
     "data": {
      "image/png": "[encoded data removed]",
      "text/plain": [
       "<Figure size 1000x500 with 1 Axes>"
      ]
     },
     "metadata": {},
     "output_type": "display_data"
    }
   ],
   "source": [
    "plt.figure(figsize=(10,5))\n",
    "plt.title(\"Train n' Validation Loss\")\n",
    "plt.plot(train_losses, label=\"train\")\n",
    "plt.plot(val_losses, label=\"val\")\n",
    "plt.xlabel(\"epochs\")\n",
    "plt.ylabel(\"cumulative loss\")\n",
    "plt.legend()\n",
    "plt.show()"
   ]
  },
  {
   "cell_type": "markdown",
   "metadata": {},
   "source": [
    "#### Inference\n",
    "\n",
    "Test the performance of the model with unseen data from the test subfolder of speech commands.\n",
    "\n",
    "Use the sound files from the `sounds` folder."
   ]
  },
  {
   "cell_type": "code",
   "execution_count": 39,
   "metadata": {},
   "outputs": [
    {
     "data": {
      "text/plain": [
       "M5(\n",
       "  (conv1): Conv1d(1, 32, kernel_size=(80,), stride=(16,))\n",
       "  (bn1): BatchNorm1d(32, eps=1e-05, momentum=0.1, affine=True, track_running_stats=True)\n",
       "  (pool1): MaxPool1d(kernel_size=4, stride=4, padding=0, dilation=1, ceil_mode=False)\n",
       "  (conv2): Conv1d(32, 32, kernel_size=(3,), stride=(1,))\n",
       "  (bn2): BatchNorm1d(32, eps=1e-05, momentum=0.1, affine=True, track_running_stats=True)\n",
       "  (pool2): MaxPool1d(kernel_size=4, stride=4, padding=0, dilation=1, ceil_mode=False)\n",
       "  (conv3): Conv1d(32, 64, kernel_size=(3,), stride=(1,))\n",
       "  (bn3): BatchNorm1d(64, eps=1e-05, momentum=0.1, affine=True, track_running_stats=True)\n",
       "  (pool3): MaxPool1d(kernel_size=4, stride=4, padding=0, dilation=1, ceil_mode=False)\n",
       "  (conv4): Conv1d(64, 64, kernel_size=(3,), stride=(1,))\n",
       "  (bn4): BatchNorm1d(64, eps=1e-05, momentum=0.1, affine=True, track_running_stats=True)\n",
       "  (pool4): MaxPool1d(kernel_size=4, stride=4, padding=0, dilation=1, ceil_mode=False)\n",
       "  (fc1): Linear(in_features=64, out_features=35, bias=True)\n",
       ")"
      ]
     },
     "execution_count": 39,
     "metadata": {},
     "output_type": "execute_result"
    }
   ],
   "source": [
    "# Load the saved model\n",
    "state_dict = torch.load('./models/model.pt') # add the path to your saved model, if different\n",
    "\n",
    "# Instantiate the model and put it in evaluation mode\n",
    "model = M5(n_input=1, n_output=len(train_dataset.classes))\n",
    "model.load_state_dict(state_dict)\n",
    "model.eval()"
   ]
  },
  {
   "cell_type": "code",
   "execution_count": 40,
   "metadata": {},
   "outputs": [
    {
     "name": "stdout",
     "output_type": "stream",
     "text": [
      "100352\n"
     ]
    }
   ],
   "source": [
    "# Load audio file from your custom path\n",
    "test_wav = './sounds/test.wav'\n",
    "\n",
    "# Check if the file exists\n",
    "if not os.path.exists(test_wav):\n",
    "    print(\"Error: Audio file does not exist.\")\n",
    "else:\n",
    "    # Load the audio file\n",
    "    waveform, sample_rate = torchaudio.load(test_wav)\n",
    "    # Check if the duration of the audio is too short\n",
    "    min_duration = 1.0  # minimum duration in seconds\n",
    "    print(waveform.size(1))\n",
    "    if waveform.size(1) / sample_rate < min_duration:\n",
    "        print(\"Error: Audio duration is too short.\")\n",
    "    else:\n",
    "        # proceed with inference\n",
    "        transform = torchaudio.transforms.Resample(orig_freq=sample_rate, new_freq=new_sample_rate)\n",
    "        transformed = transform(waveform)\n",
    "        # print(transformed.shape)\n",
    "        input_data = transformed.unsqueeze(0)  # add batch dimension\n",
    "        # print(input_data.shape)"
   ]
  },
  {
   "cell_type": "code",
   "execution_count": null,
   "metadata": {},
   "outputs": [
    {
     "name": "stdout",
     "output_type": "stream",
     "text": [
      "Predicted label: yes\n"
     ]
    }
   ],
   "source": [
    "# Perform inference\n",
    "with torch.no_grad():\n",
    "    output = model(input_data)\n",
    "\n",
    "# Get the predicted label\n",
    "pred = output.argmax(dim=-1)\n",
    "pred_label = train_dataset.classes[pred.item()]\n",
    "\n",
    "print(\"Predicted label:\", pred_label)"
   ]
  },
  {
   "cell_type": "code",
   "execution_count": 42,
   "metadata": {},
   "outputs": [
    {
     "data": {
      "text/html": [
       "\n",
       "                <audio  controls=\"controls\" >\n",
       "                    <source src=\"data:audio/wav;base64,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\" type=\"audio/wav\" />\n",
       "                    Your browser does not support the audio element.\n",
       "                </audio>\n",
       "              "
      ],
      "text/plain": [
       "<IPython.lib.display.Audio object>"
      ]
     },
     "execution_count": 42,
     "metadata": {},
     "output_type": "execute_result"
    }
   ],
   "source": [
    "# Is it what the model predicted?\n",
    "ipd.Audio(transformed.numpy(), rate=new_sample_rate)"
   ]
  }
 ],
 "metadata": {
  "kernelspec": {
   "display_name": "dmlap25my",
   "language": "python",
   "name": "python3"
  },
  "language_info": {
   "codemirror_mode": {
    "name": "ipython",
    "version": 3
   },
   "file_extension": ".py",
   "mimetype": "text/x-python",
   "name": "python",
   "nbconvert_exporter": "python",
   "pygments_lexer": "ipython3",
   "version": "3.10.16"
  }
 },
 "nbformat": 4,
 "nbformat_minor": 2
}
