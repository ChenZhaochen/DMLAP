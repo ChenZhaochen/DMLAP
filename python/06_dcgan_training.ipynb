{
  "cells": [
    {
      "attachments": {},
      "cell_type": "markdown",
      "metadata": {},
      "source": [
        "Training DCGAN on the Celeb Dataset\n",
        "=====\n",
        "\n"
      ]
    },
    {
      "attachments": {},
      "cell_type": "markdown",
      "metadata": {},
      "source": [
        "[https://keras.io/examples/generative/dcgan_overriding_train_step/](https://keras.io/examples/generative/dcgan_overriding_train_step/)\n",
        "\n",
        "To run notebook you will need to install [gdown](https://pypi.org/project/gdown/), a library to download large files from Google Drive."
      ]
    },
    {
      "cell_type": "code",
      "execution_count": 56,
      "metadata": {},
      "outputs": [
        {
          "name": "stdout",
          "output_type": "stream",
          "text": [
            "^C\n",
            "\u001b[31mERROR: Operation cancelled by user\u001b[0m\u001b[31m\n",
            "\u001b[0m\n",
            "\u001b[1m[\u001b[0m\u001b[34;49mnotice\u001b[0m\u001b[1;39;49m]\u001b[0m\u001b[39;49m A new release of pip is available: \u001b[0m\u001b[31;49m23.0\u001b[0m\u001b[39;49m -> \u001b[0m\u001b[32;49m23.0.1\u001b[0m\n",
            "\u001b[1m[\u001b[0m\u001b[34;49mnotice\u001b[0m\u001b[1;39;49m]\u001b[0m\u001b[39;49m To update, run: \u001b[0m\u001b[32;49mpip install --upgrade pip\u001b[0m\n"
          ]
        }
      ],
      "source": [
        "!pip install gdown"
      ]
    },
    {
      "attachments": {},
      "cell_type": "markdown",
      "metadata": {},
      "source": [
        "Now let's import the necessary modules"
      ]
    },
    {
      "cell_type": "code",
      "execution_count": 146,
      "metadata": {},
      "outputs": [],
      "source": [
        "import tensorflow as tf\n",
        "from tensorflow import keras\n",
        "from tensorflow.keras import layers\n",
        "\n",
        "import numpy as np\n",
        "import matplotlib.pyplot as plt\n",
        "import os, sys\n",
        "import gdown\n",
        "from zipfile import ZipFile"
      ]
    },
    {
      "cell_type": "markdown",
      "metadata": {},
      "source": [
        "## Prepare Celeb data\n",
        "\n"
      ]
    },
    {
      "cell_type": "markdown",
      "metadata": {},
      "source": [
        "In this example we will use the Celeb dataset. We will resize images to a size of `64x64`.\n",
        "First download the dataset (only need to do this once, then it will throw an error but don&rsquo;t worry):\n",
        "\n"
      ]
    },
    {
      "cell_type": "code",
      "execution_count": null,
      "metadata": {},
      "outputs": [
        {
          "name": "stdout",
          "output_type": "stream",
          "text": [
            "Celeb directory exists\n"
          ]
        }
      ],
      "source": [
        "if not os.path.isdir(\"datasets/celeba_gan\"):\n",
        "    os.makedirs(\"datasets/celeba_gan\", exist_ok=False)\n",
        "\n",
        "    url = \"https://drive.google.com/uc?id=1O7m1010EJjLE5QxLZiM9Fpjs7Oj6e684\"\n",
        "    output = \"datasets/celeba_gan/data.zip\"\n",
        "    gdown.download(url, output, quiet=False)\n",
        "\n",
        "    with ZipFile(\"celeba_gan/data.zip\", \"r\") as zipobj:\n",
        "        zipobj.extractall(\"datasets/celeba_gan\")\n",
        "else:\n",
        "    print(\"Celeb directory exists\")"
      ]
    },
    {
      "attachments": {},
      "cell_type": "markdown",
      "metadata": {},
      "source": [
        "Check if the unzipping worked. \n",
        "And then convert this to a Tensorflow dataset. Because we expect to be training on our laptops, we will reduce the size of the training set. This is not ideal for GANs, but it will still produce reasonable results. Here we also scale the inputs to the `[-1, 1]` range and make sure the dataset is subdivided into batches of the desired size\n",
        "\n"
      ]
    },
    {
      "cell_type": "code",
      "execution_count": 147,
      "metadata": {},
      "outputs": [
        {
          "name": "stdout",
          "output_type": "stream",
          "text": [
            "Found 202599 files belonging to 1 classes.\n"
          ]
        }
      ],
      "source": [
        "dataset_path = \"datasets/celeba_gan\" # Change this for your custom dataset\n",
        "image_size = 64 # images are square\n",
        "image_channels = 3 # 3 RGB 1 Grayscale\n",
        "image_shape = (image_size, image_size, image_channels)\n",
        "dataset_size = 200\n",
        "batch_size = 32\n",
        "\n",
        "dataset = keras.utils.image_dataset_from_directory(\n",
        "    dataset_path, label_mode=None, image_size=(image_size, image_size), batch_size=None)\n",
        "\n",
        "# Note. comment the following line if you will use your own dataset\n",
        "dataset = dataset.take(dataset_size) \n",
        "dataset = dataset.map(lambda x: x / 127.5 - 1.0)\n",
        "dataset = dataset.batch(batch_size) # We create batch here since \"take\" would unbatch it.."
      ]
    },
    {
      "attachments": {},
      "cell_type": "markdown",
      "metadata": {},
      "source": [
        "Now let&rsquo;s see one random instance from the dataset:"
      ]
    },
    {
      "cell_type": "code",
      "execution_count": 148,
      "metadata": {},
      "outputs": [
        {
          "data": {
            "image/png": "[encoded data removed]",
            "text/plain": [
              "<Figure size 640x480 with 1 Axes>"
            ]
          },
          "metadata": {},
          "output_type": "display_data"
        }
      ],
      "source": [
        "for x in dataset:\n",
        "    plt.axis(\"off\")\n",
        "    plt.imshow((x.numpy() * 127.5 + 127.5).astype(\"int32\")[0])\n",
        "    break"
      ]
    },
    {
      "cell_type": "markdown",
      "metadata": {},
      "source": [
        "## Create generator\n",
        "\n"
      ]
    },
    {
      "cell_type": "markdown",
      "metadata": {},
      "source": [
        "At this staget we need to construct our generator. There are many implementations out there, this is one that works reasonably well for our use case and it is adapted from [here](https://github.com/Kaustubh1Verma/Art-using-GANs/blob/ff41eeb5099d2aa3976ed1f051596d14015548d5/DCGAN/DCGAN.py).\n",
        "For GAN models it is [recommended](https://machinelearningmastery.com/how-to-code-generative-adversarial-network-hacks/) to initialize the layers with normally distributed (Gaussian) values and standard deviation of 0.02. The following function is built to enable training on different image sizes, but we recommend sticking with the `64x64` image size:\n",
        "\n"
      ]
    },
    {
      "cell_type": "code",
      "execution_count": 153,
      "metadata": {},
      "outputs": [
        {
          "name": "stdout",
          "output_type": "stream",
          "text": [
            "Model: \"sequential_283\"\n",
            "____________________________________________________________________________________________________\n",
            " Layer (type)                                Output Shape                            Param #        \n",
            "====================================================================================================\n",
            " dense_55 (Dense)                            (None, 512)                             51712          \n",
            "                                                                                                    \n",
            " reshape_31 (Reshape)                        (None, 2, 2, 128)                       0              \n",
            "                                                                                                    \n",
            " batch_normalization_205 (BatchNormalization  (None, 2, 2, 128)                      512            \n",
            " )                                                                                                  \n",
            "                                                                                                    \n",
            " sequential_278 (Sequential)                 (None, 4, 4, 1024)                      2102272        \n",
            "|¯¯¯¯¯¯¯¯¯¯¯¯¯¯¯¯¯¯¯¯¯¯¯¯¯¯¯¯¯¯¯¯¯¯¯¯¯¯¯¯¯¯¯¯¯¯¯¯¯¯¯¯¯¯¯¯¯¯¯¯¯¯¯¯¯¯¯¯¯¯¯¯¯¯¯¯¯¯¯¯¯¯¯¯¯¯¯¯¯¯¯¯¯¯¯¯¯¯|\n",
            "| up_sampling2d_134 (UpSampling2D)          (None, 4, 4, 128)                       0              |\n",
            "|                                                                                                  |\n",
            "| conv2d_263 (Conv2D)                       (None, 4, 4, 1024)                      2098176        |\n",
            "|                                                                                                  |\n",
            "| activation_133 (Activation)               (None, 4, 4, 1024)                      0              |\n",
            "|                                                                                                  |\n",
            "| batch_normalization_206 (BatchNormalization  (None, 4, 4, 1024)                   4096           |\n",
            "| )                                                                                                |\n",
            "¯¯¯¯¯¯¯¯¯¯¯¯¯¯¯¯¯¯¯¯¯¯¯¯¯¯¯¯¯¯¯¯¯¯¯¯¯¯¯¯¯¯¯¯¯¯¯¯¯¯¯¯¯¯¯¯¯¯¯¯¯¯¯¯¯¯¯¯¯¯¯¯¯¯¯¯¯¯¯¯¯¯¯¯¯¯¯¯¯¯¯¯¯¯¯¯¯¯¯¯\n",
            " sequential_279 (Sequential)                 (None, 8, 8, 512)                       8391168        \n",
            "|¯¯¯¯¯¯¯¯¯¯¯¯¯¯¯¯¯¯¯¯¯¯¯¯¯¯¯¯¯¯¯¯¯¯¯¯¯¯¯¯¯¯¯¯¯¯¯¯¯¯¯¯¯¯¯¯¯¯¯¯¯¯¯¯¯¯¯¯¯¯¯¯¯¯¯¯¯¯¯¯¯¯¯¯¯¯¯¯¯¯¯¯¯¯¯¯¯¯|\n",
            "| up_sampling2d_135 (UpSampling2D)          (None, 8, 8, 1024)                      0              |\n",
            "|                                                                                                  |\n",
            "| conv2d_264 (Conv2D)                       (None, 8, 8, 512)                       8389120        |\n",
            "|                                                                                                  |\n",
            "| activation_134 (Activation)               (None, 8, 8, 512)                       0              |\n",
            "|                                                                                                  |\n",
            "| batch_normalization_207 (BatchNormalization  (None, 8, 8, 512)                    2048           |\n",
            "| )                                                                                                |\n",
            "¯¯¯¯¯¯¯¯¯¯¯¯¯¯¯¯¯¯¯¯¯¯¯¯¯¯¯¯¯¯¯¯¯¯¯¯¯¯¯¯¯¯¯¯¯¯¯¯¯¯¯¯¯¯¯¯¯¯¯¯¯¯¯¯¯¯¯¯¯¯¯¯¯¯¯¯¯¯¯¯¯¯¯¯¯¯¯¯¯¯¯¯¯¯¯¯¯¯¯¯\n",
            " sequential_280 (Sequential)                 (None, 16, 16, 128)                     1049216        \n",
            "|¯¯¯¯¯¯¯¯¯¯¯¯¯¯¯¯¯¯¯¯¯¯¯¯¯¯¯¯¯¯¯¯¯¯¯¯¯¯¯¯¯¯¯¯¯¯¯¯¯¯¯¯¯¯¯¯¯¯¯¯¯¯¯¯¯¯¯¯¯¯¯¯¯¯¯¯¯¯¯¯¯¯¯¯¯¯¯¯¯¯¯¯¯¯¯¯¯¯|\n",
            "| up_sampling2d_136 (UpSampling2D)          (None, 16, 16, 512)                     0              |\n",
            "|                                                                                                  |\n",
            "| conv2d_265 (Conv2D)                       (None, 16, 16, 128)                     1048704        |\n",
            "|                                                                                                  |\n",
            "| activation_135 (Activation)               (None, 16, 16, 128)                     0              |\n",
            "|                                                                                                  |\n",
            "| batch_normalization_208 (BatchNormalization  (None, 16, 16, 128)                  512            |\n",
            "| )                                                                                                |\n",
            "¯¯¯¯¯¯¯¯¯¯¯¯¯¯¯¯¯¯¯¯¯¯¯¯¯¯¯¯¯¯¯¯¯¯¯¯¯¯¯¯¯¯¯¯¯¯¯¯¯¯¯¯¯¯¯¯¯¯¯¯¯¯¯¯¯¯¯¯¯¯¯¯¯¯¯¯¯¯¯¯¯¯¯¯¯¯¯¯¯¯¯¯¯¯¯¯¯¯¯¯\n",
            " sequential_281 (Sequential)                 (None, 32, 32, 64)                      131392         \n",
            "|¯¯¯¯¯¯¯¯¯¯¯¯¯¯¯¯¯¯¯¯¯¯¯¯¯¯¯¯¯¯¯¯¯¯¯¯¯¯¯¯¯¯¯¯¯¯¯¯¯¯¯¯¯¯¯¯¯¯¯¯¯¯¯¯¯¯¯¯¯¯¯¯¯¯¯¯¯¯¯¯¯¯¯¯¯¯¯¯¯¯¯¯¯¯¯¯¯¯|\n",
            "| up_sampling2d_137 (UpSampling2D)          (None, 32, 32, 128)                     0              |\n",
            "|                                                                                                  |\n",
            "| conv2d_266 (Conv2D)                       (None, 32, 32, 64)                      131136         |\n",
            "|                                                                                                  |\n",
            "| activation_136 (Activation)               (None, 32, 32, 64)                      0              |\n",
            "|                                                                                                  |\n",
            "| batch_normalization_209 (BatchNormalization  (None, 32, 32, 64)                   256            |\n",
            "| )                                                                                                |\n",
            "¯¯¯¯¯¯¯¯¯¯¯¯¯¯¯¯¯¯¯¯¯¯¯¯¯¯¯¯¯¯¯¯¯¯¯¯¯¯¯¯¯¯¯¯¯¯¯¯¯¯¯¯¯¯¯¯¯¯¯¯¯¯¯¯¯¯¯¯¯¯¯¯¯¯¯¯¯¯¯¯¯¯¯¯¯¯¯¯¯¯¯¯¯¯¯¯¯¯¯¯\n",
            " sequential_282 (Sequential)                 (None, 64, 64, 32)                      32928          \n",
            "|¯¯¯¯¯¯¯¯¯¯¯¯¯¯¯¯¯¯¯¯¯¯¯¯¯¯¯¯¯¯¯¯¯¯¯¯¯¯¯¯¯¯¯¯¯¯¯¯¯¯¯¯¯¯¯¯¯¯¯¯¯¯¯¯¯¯¯¯¯¯¯¯¯¯¯¯¯¯¯¯¯¯¯¯¯¯¯¯¯¯¯¯¯¯¯¯¯¯|\n",
            "| up_sampling2d_138 (UpSampling2D)          (None, 64, 64, 64)                      0              |\n",
            "|                                                                                                  |\n",
            "| conv2d_267 (Conv2D)                       (None, 64, 64, 32)                      32800          |\n",
            "|                                                                                                  |\n",
            "| activation_137 (Activation)               (None, 64, 64, 32)                      0              |\n",
            "|                                                                                                  |\n",
            "| batch_normalization_210 (BatchNormalization  (None, 64, 64, 32)                   128            |\n",
            "| )                                                                                                |\n",
            "¯¯¯¯¯¯¯¯¯¯¯¯¯¯¯¯¯¯¯¯¯¯¯¯¯¯¯¯¯¯¯¯¯¯¯¯¯¯¯¯¯¯¯¯¯¯¯¯¯¯¯¯¯¯¯¯¯¯¯¯¯¯¯¯¯¯¯¯¯¯¯¯¯¯¯¯¯¯¯¯¯¯¯¯¯¯¯¯¯¯¯¯¯¯¯¯¯¯¯¯\n",
            " conv2d_268 (Conv2D)                         (None, 64, 64, 3)                       1539           \n",
            "                                                                                                    \n",
            "====================================================================================================\n",
            "Total params: 11,760,739\n",
            "Trainable params: 11,756,963\n",
            "Non-trainable params: 3,776\n",
            "____________________________________________________________________________________________________\n"
          ]
        }
      ],
      "source": [
        "latent_dim = 100 # The size of the latent space\n",
        "kernel_size = 4 \n",
        "\n",
        "# This will initialize our layers randomly\n",
        "init = lambda: tf.keras.initializers.RandomNormal(stddev=0.02)\n",
        "\n",
        "def gen_block(size):\n",
        "    return keras.Sequential(\n",
        "        [\n",
        "            layers.UpSampling2D(),\n",
        "            layers.Conv2D(size, kernel_size, padding='same', kernel_initializer=init()),\n",
        "            layers.Activation(\"relu\"),\n",
        "            layers.BatchNormalization(momentum=0.8),\n",
        "        ]\n",
        "    )\n",
        "\n",
        "# From https://github.com/Kaustubh1Verma/Art-using-GANs/blob/ff41eeb5099d2aa3976ed1f051596d14015548d5/DCGAN/DCGAN.py\n",
        "# This will enable working with image sizes other than 64x64 (untested)\n",
        "upsample_layers = 5\n",
        "start_size =  image_size // (2 ** upsample_layers)\n",
        "starting_filters = 128\n",
        "\n",
        "generator = keras.Sequential(\n",
        "    [\n",
        "        layers.Input(shape=(latent_dim,)),\n",
        "        layers.Dense(starting_filters * start_size * start_size, activation=\"relu\"),\n",
        "        layers.Reshape((start_size, start_size, starting_filters)),\n",
        "        layers.BatchNormalization(momentum=0.8),\n",
        "        gen_block(1024),\n",
        "        gen_block(512),\n",
        "        gen_block(128),\n",
        "        gen_block(64),\n",
        "        gen_block(32),\n",
        "        layers.Conv2D(3, kernel_size=kernel_size, padding=\"same\", activation=\"tanh\", kernel_initializer=init()),\n",
        "    ]\n",
        ")\n",
        "\n",
        "generator.summary(expand_nested=True, line_length=100)"
      ]
    },
    {
      "cell_type": "markdown",
      "metadata": {},
      "source": [
        "Let&rsquo;s see it&rsquo;s output before training\n",
        "\n"
      ]
    },
    {
      "cell_type": "code",
      "execution_count": 150,
      "metadata": {},
      "outputs": [
        {
          "data": {
            "image/png": "[encoded data removed]",
            "text/plain": [
              "<Figure size 640x480 with 1 Axes>"
            ]
          },
          "metadata": {},
          "output_type": "display_data"
        }
      ],
      "source": [
        "noise = tf.random.normal([1, latent_dim])\n",
        "generated_image = generator(noise, training=True)\n",
        "plt.imshow(generated_image[0, :, :]*0.5+0.5)\n",
        "plt.show()"
      ]
    },
    {
      "cell_type": "markdown",
      "metadata": {},
      "source": [
        "## Create discriminator\n",
        "\n"
      ]
    },
    {
      "cell_type": "markdown",
      "metadata": {},
      "source": [
        "We then define the discriminator model, again adapted adapted from [here](https://github.com/Kaustubh1Verma/Art-using-GANs/blob/ff41eeb5099d2aa3976ed1f051596d14015548d5/DCGAN/DCGAN.py).\n",
        "\n"
      ]
    },
    {
      "cell_type": "code",
      "execution_count": 154,
      "metadata": {},
      "outputs": [
        {
          "name": "stdout",
          "output_type": "stream",
          "text": [
            "Model: \"sequential_289\"\n",
            "_________________________________________________________________\n",
            " Layer (type)                Output Shape              Param #   \n",
            "=================================================================\n",
            " sequential_284 (Sequential)  (None, 32, 32, 64)       1792      \n",
            "|¯¯¯¯¯¯¯¯¯¯¯¯¯¯¯¯¯¯¯¯¯¯¯¯¯¯¯¯¯¯¯¯¯¯¯¯¯¯¯¯¯¯¯¯¯¯¯¯¯¯¯¯¯¯¯¯¯¯¯¯¯¯¯|\n",
            "| conv2d_269 (Conv2D)       (None, 32, 32, 64)        1792      |\n",
            "|                                                               |\n",
            "| leaky_re_lu_109 (LeakyReLU)  (None, 32, 32, 64)     0         |\n",
            "¯¯¯¯¯¯¯¯¯¯¯¯¯¯¯¯¯¯¯¯¯¯¯¯¯¯¯¯¯¯¯¯¯¯¯¯¯¯¯¯¯¯¯¯¯¯¯¯¯¯¯¯¯¯¯¯¯¯¯¯¯¯¯¯¯\n",
            " sequential_285 (Sequential)  (None, 17, 17, 64)       37184     \n",
            "|¯¯¯¯¯¯¯¯¯¯¯¯¯¯¯¯¯¯¯¯¯¯¯¯¯¯¯¯¯¯¯¯¯¯¯¯¯¯¯¯¯¯¯¯¯¯¯¯¯¯¯¯¯¯¯¯¯¯¯¯¯¯¯|\n",
            "| conv2d_270 (Conv2D)       (None, 16, 16, 64)        36928     |\n",
            "|                                                               |\n",
            "| leaky_re_lu_110 (LeakyReLU)  (None, 16, 16, 64)     0         |\n",
            "|                                                               |\n",
            "| zero_padding2d_22 (ZeroPadd  (None, 17, 17, 64)     0         |\n",
            "| ing2D)                                                        |\n",
            "|                                                               |\n",
            "| batch_normalization_211 (Ba  (None, 17, 17, 64)     256       |\n",
            "| tchNormalization)                                             |\n",
            "¯¯¯¯¯¯¯¯¯¯¯¯¯¯¯¯¯¯¯¯¯¯¯¯¯¯¯¯¯¯¯¯¯¯¯¯¯¯¯¯¯¯¯¯¯¯¯¯¯¯¯¯¯¯¯¯¯¯¯¯¯¯¯¯¯\n",
            " sequential_286 (Sequential)  (None, 9, 9, 64)         37184     \n",
            "|¯¯¯¯¯¯¯¯¯¯¯¯¯¯¯¯¯¯¯¯¯¯¯¯¯¯¯¯¯¯¯¯¯¯¯¯¯¯¯¯¯¯¯¯¯¯¯¯¯¯¯¯¯¯¯¯¯¯¯¯¯¯¯|\n",
            "| conv2d_271 (Conv2D)       (None, 9, 9, 64)          36928     |\n",
            "|                                                               |\n",
            "| leaky_re_lu_111 (LeakyReLU)  (None, 9, 9, 64)       0         |\n",
            "|                                                               |\n",
            "| batch_normalization_212 (Ba  (None, 9, 9, 64)       256       |\n",
            "| tchNormalization)                                             |\n",
            "¯¯¯¯¯¯¯¯¯¯¯¯¯¯¯¯¯¯¯¯¯¯¯¯¯¯¯¯¯¯¯¯¯¯¯¯¯¯¯¯¯¯¯¯¯¯¯¯¯¯¯¯¯¯¯¯¯¯¯¯¯¯¯¯¯\n",
            " sequential_287 (Sequential)  (None, 9, 9, 64)         36928     \n",
            "|¯¯¯¯¯¯¯¯¯¯¯¯¯¯¯¯¯¯¯¯¯¯¯¯¯¯¯¯¯¯¯¯¯¯¯¯¯¯¯¯¯¯¯¯¯¯¯¯¯¯¯¯¯¯¯¯¯¯¯¯¯¯¯|\n",
            "| conv2d_272 (Conv2D)       (None, 9, 9, 64)          36928     |\n",
            "|                                                               |\n",
            "| leaky_re_lu_112 (LeakyReLU)  (None, 9, 9, 64)       0         |\n",
            "¯¯¯¯¯¯¯¯¯¯¯¯¯¯¯¯¯¯¯¯¯¯¯¯¯¯¯¯¯¯¯¯¯¯¯¯¯¯¯¯¯¯¯¯¯¯¯¯¯¯¯¯¯¯¯¯¯¯¯¯¯¯¯¯¯\n",
            " sequential_288 (Sequential)  (None, 9, 9, 64)         36928     \n",
            "|¯¯¯¯¯¯¯¯¯¯¯¯¯¯¯¯¯¯¯¯¯¯¯¯¯¯¯¯¯¯¯¯¯¯¯¯¯¯¯¯¯¯¯¯¯¯¯¯¯¯¯¯¯¯¯¯¯¯¯¯¯¯¯|\n",
            "| conv2d_273 (Conv2D)       (None, 9, 9, 64)          36928     |\n",
            "|                                                               |\n",
            "| leaky_re_lu_113 (LeakyReLU)  (None, 9, 9, 64)       0         |\n",
            "¯¯¯¯¯¯¯¯¯¯¯¯¯¯¯¯¯¯¯¯¯¯¯¯¯¯¯¯¯¯¯¯¯¯¯¯¯¯¯¯¯¯¯¯¯¯¯¯¯¯¯¯¯¯¯¯¯¯¯¯¯¯¯¯¯\n",
            " flatten_24 (Flatten)        (None, 5184)              0         \n",
            "                                                                 \n",
            " dense_56 (Dense)            (None, 1)                 5185      \n",
            "                                                                 \n",
            "=================================================================\n",
            "Total params: 155,201\n",
            "Trainable params: 154,945\n",
            "Non-trainable params: 256\n",
            "_________________________________________________________________\n"
          ]
        }
      ],
      "source": [
        "kernel_size = 3\n",
        "def disc_block(size, strides, batch_norm=True, padding=False):\n",
        "    layer_list = [\n",
        "                  layers.Conv2D(64, kernel_size=kernel_size, strides=strides, padding=\"same\", kernel_initializer=init()), # Always keep\n",
        "                  layers.LeakyReLU(alpha=0.2), # Always keep\n",
        "                  #layers.Dropout(0.1) # Try to comment\n",
        "                  ]\n",
        "    if padding:\n",
        "        layer_list += [layers.ZeroPadding2D(padding=((0,1),(0,1)))] # Always keep\n",
        "    if batch_norm:\n",
        "        layer_list += [layers.BatchNormalization(momentum=0.8)] \n",
        "    return keras.Sequential(layer_list)\n",
        "\n",
        "discriminator = keras.Sequential(\n",
        "    [\n",
        "        keras.Input(shape=image_shape),\n",
        "        disc_block(32, 2, batch_norm=False),\n",
        "        disc_block(64, 2, batch_norm=True, padding=True),\n",
        "        disc_block(128, 2, batch_norm=True),\n",
        "        disc_block(256, 1, batch_norm=False),\n",
        "        disc_block(512, 1, batch_norm=False),\n",
        "        layers.Flatten(),\n",
        "        layers.Dense(1, activation=\"sigmoid\"),\n",
        "    ]\n",
        ")   \n",
        "        \n",
        "        \n",
        "discriminator.summary(expand_nested=True)"
      ]
    },
    {
      "cell_type": "markdown",
      "metadata": {},
      "source": [
        "Let&rsquo;s see what the discriminator thinks of our generated image:\n",
        "\n"
      ]
    },
    {
      "cell_type": "code",
      "execution_count": 115,
      "metadata": {},
      "outputs": [
        {
          "name": "stdout",
          "output_type": "stream",
          "text": [
            "tf.Tensor([[0.4999366]], shape=(1, 1), dtype=float32)\n"
          ]
        }
      ],
      "source": [
        "decision = discriminator(generated_image)\n",
        "print (decision)"
      ]
    },
    {
      "attachments": {},
      "cell_type": "markdown",
      "metadata": {},
      "source": [
        "# Train the network\n",
        "Tensorflow and Keras offer many ways to combine the generator and discriminator into a GAN model and train it. Here we follow one approach that appears to work relatively well for a small number of images, in which we manually define the training loop. "
      ]
    },
    {
      "cell_type": "code",
      "execution_count": 155,
      "metadata": {},
      "outputs": [
        {
          "name": "stdout",
          "output_type": "stream",
          "text": [
            "Epoch 1 - 7 of 7 [D loss: 0.5485585033893585 | D Accuracy: 0.0] [G loss: 0.6791059374809265]Saving epoch 1 to ./models/dcgan_dmlap\n",
            "WARNING:tensorflow:Compiled the loaded model, but the compiled metrics have yet to be built. `model.compile_metrics` will be empty until you train or evaluate the model.\n",
            "Epoch 2 - 7 of 7 [D loss: 0.7026359140872955 | D Accuracy: 0.0] [G loss: 0.6988508701324463]Saving epoch 2 to ./models/dcgan_dmlap\n",
            "WARNING:tensorflow:Compiled the loaded model, but the compiled metrics have yet to be built. `model.compile_metrics` will be empty until you train or evaluate the model.\n",
            "Epoch 3 - 7 of 7 [D loss: 0.4411419928073883 | D Accuracy: 0.0] [G loss: 0.926491379737854]Saving epoch 3 to ./models/dcgan_dmlap\n",
            "WARNING:tensorflow:Compiled the loaded model, but the compiled metrics have yet to be built. `model.compile_metrics` will be empty until you train or evaluate the model.\n",
            "Epoch 4 - 7 of 7 [D loss: 0.7053138017654419 | D Accuracy: 0.0] [G loss: 0.6864667534828186]Saving epoch 4 to ./models/dcgan_dmlap\n",
            "WARNING:tensorflow:Compiled the loaded model, but the compiled metrics have yet to be built. `model.compile_metrics` will be empty until you train or evaluate the model.\n",
            "Epoch 5 - 7 of 7 [D loss: 0.3860139101743698 | D Accuracy: 0.0] [G loss: 0.9240138530731201]Saving epoch 5 to ./models/dcgan_dmlap\n",
            "WARNING:tensorflow:Compiled the loaded model, but the compiled metrics have yet to be built. `model.compile_metrics` will be empty until you train or evaluate the model.\n",
            "Epoch 6 - 7 of 7 [D loss: 0.48131421208381653 | D Accuracy: 0.0] [G loss: 0.8368587493896484]Saving epoch 6 to ./models/dcgan_dmlap\n",
            "WARNING:tensorflow:Compiled the loaded model, but the compiled metrics have yet to be built. `model.compile_metrics` will be empty until you train or evaluate the model.\n",
            "Epoch 7 - 7 of 7 [D loss: 0.6251333057880402 | D Accuracy: 0.0] [G loss: 1.0589373111724854]Saving epoch 7 to ./models/dcgan_dmlap\n",
            "WARNING:tensorflow:Compiled the loaded model, but the compiled metrics have yet to be built. `model.compile_metrics` will be empty until you train or evaluate the model.\n",
            "Epoch 8 - 7 of 7 [D loss: 0.309011772274971 | D Accuracy: 0.0] [G loss: 1.2268552780151367]Saving epoch 8 to ./models/dcgan_dmlap\n",
            "WARNING:tensorflow:Compiled the loaded model, but the compiled metrics have yet to be built. `model.compile_metrics` will be empty until you train or evaluate the model.\n",
            "Epoch 9 - 7 of 7 [D loss: 0.9549213349819183 | D Accuracy: 0.0] [G loss: 1.5005385875701904]Saving epoch 9 to ./models/dcgan_dmlap\n",
            "WARNING:tensorflow:Compiled the loaded model, but the compiled metrics have yet to be built. `model.compile_metrics` will be empty until you train or evaluate the model.\n",
            "Epoch 10 - 7 of 7 [D loss: 0.22814004123210907 | D Accuracy: 0.0] [G loss: 1.0745849609375]Saving epoch 10 to ./models/dcgan_dmlap\n",
            "WARNING:tensorflow:Compiled the loaded model, but the compiled metrics have yet to be built. `model.compile_metrics` will be empty until you train or evaluate the model.\n",
            "Epoch 11 - 7 of 7 [D loss: 1.3704517483711243 | D Accuracy: 0.0] [G loss: 1.1822131872177124]Saving epoch 11 to ./models/dcgan_dmlap\n",
            "WARNING:tensorflow:Compiled the loaded model, but the compiled metrics have yet to be built. `model.compile_metrics` will be empty until you train or evaluate the model.\n",
            "Epoch 12 - 7 of 7 [D loss: 0.3907421790063381 | D Accuracy: 0.0] [G loss: 0.9750176072120667]Saving epoch 12 to ./models/dcgan_dmlap\n",
            "WARNING:tensorflow:Compiled the loaded model, but the compiled metrics have yet to be built. `model.compile_metrics` will be empty until you train or evaluate the model.\n",
            "Epoch 13 - 7 of 7 [D loss: 0.5348226428031921 | D Accuracy: 0.0] [G loss: 1.2548773288726807]Saving epoch 13 to ./models/dcgan_dmlap\n",
            "WARNING:tensorflow:Compiled the loaded model, but the compiled metrics have yet to be built. `model.compile_metrics` will be empty until you train or evaluate the model.\n",
            "Epoch 14 - 7 of 7 [D loss: 1.1440681517124176 | D Accuracy: 0.0] [G loss: 1.0390334129333496]Saving epoch 14 to ./models/dcgan_dmlap\n",
            "WARNING:tensorflow:Compiled the loaded model, but the compiled metrics have yet to be built. `model.compile_metrics` will be empty until you train or evaluate the model.\n"
          ]
        }
      ],
      "source": [
        "optimizer = tf.keras.optimizers.legacy.Adam(0.0001, 0.5, decay=0.00005)\n",
        "\n",
        "discriminator.compile(loss='binary_crossentropy',\n",
        "                      optimizer=optimizer,\n",
        "\n",
        "                      metrics=['accuracy'])\n",
        "\n",
        "\n",
        "# The generator takes noise as input and generates imgs\n",
        "z = keras.Input(shape=(latent_dim,))\n",
        "img = generator(z)\n",
        "\n",
        "# For the combined model we will only train the generator\n",
        "discriminator.trainable = False\n",
        "\n",
        "# The discriminator takes generated images as input and determines validity\n",
        "valid = discriminator(img)\n",
        "\n",
        "# The combined model  (stacked generator and discriminator)\n",
        "# Trains the generator to fool the discriminator\n",
        "combined = keras.Model(z, valid)\n",
        "combined.compile(loss='binary_crossentropy', optimizer=optimizer)\n",
        "#%%\n",
        "\n",
        "epochs = 60 \n",
        "save_interval = 1\n",
        "\n",
        "model_path = \"./models/dcgan_dmlap\"\n",
        "os.makedirs(model_path, exist_ok=True)\n",
        "import sys\n",
        "\n",
        "for epoch in range(epochs):\n",
        "    n = dataset.cardinality() # The number of batches per epoch\n",
        "    # Iterate over all batches\n",
        "    for i, batch in enumerate(dataset.as_numpy_iterator()):\n",
        "        # Convert batch to numpy for convenience\n",
        "        half_batch_size = len(batch)//2\n",
        "\n",
        "        # Train generator\n",
        "        discriminator.trainable = False\n",
        "        noise = np.random.normal(0, 1, (batch_size, 100))\n",
        "        g_loss = combined.train_on_batch(noise, np.ones((batch_size, 1)))\n",
        "        discriminator.trainable = True\n",
        "\n",
        "        # Get random half of the batch\n",
        "        idx = np.random.randint(0, batch.shape[0], half_batch_size)\n",
        "        imgs = batch[idx]\n",
        "        # For the remaining half batch, sample noise and generate new images\n",
        "        noise = np.random.normal(0, 1, (half_batch_size, 100))\n",
        "        gen_imgs = generator.predict(noise, verbose=0)\n",
        "\n",
        "        # Train the discriminator (real classified as ones and generated as zeros)\n",
        "        real_labels = np.ones((half_batch_size, 1))\n",
        "        fake_labels = np.zeros((half_batch_size, 1))\n",
        "        noise_amt = 0.01\n",
        "        real_labels -= tf.random.uniform(tf.shape(real_labels))*noise_amt\n",
        "        fake_labels += tf.random.uniform(tf.shape(fake_labels))*noise_amt\n",
        "        d_loss_real = discriminator.train_on_batch(imgs, real_labels)\n",
        "        d_loss_fake = discriminator.train_on_batch(gen_imgs, fake_labels)\n",
        "        d_loss = 0.5 * np.add(d_loss_real, d_loss_fake)\n",
        "\n",
        "        # Print progress on same line\n",
        "        sys.stdout.write(\"\\r\" + \"Epoch %d - %d of %d \"%(epoch+1, i+1, n) + \"[D loss: \"+str(d_loss[0])+\" | D Accuracy: \"+str(100 * d_loss[1])+\"] [G loss: \"+str(g_loss)+\"]\")\n",
        "\n",
        "    if epoch % save_interval == 0:\n",
        "        print('Saving epoch %d to %s'%(epoch+1, model_path))\n",
        "        num_examples = 5\n",
        "        random_latent_vectors = tf.random.normal(shape=(num_examples, latent_dim))\n",
        "        generated_images = generator(random_latent_vectors, training=False)\n",
        "        #generated_images *= 255\n",
        "        generated_images = generated_images * 127.5 + 127.5 #255\n",
        "        generated_images.numpy()\n",
        "        for i in range(num_examples):\n",
        "            img = keras.preprocessing.image.array_to_img(generated_images[i])\n",
        "            img.save(os.path.join(model_path, \"e%03d_generated_img_%d.png\" % (epoch+1, i)))\n",
        "\n",
        "        generator.save(os.path.join(model_path, \"e%0d_generator.hd5\"%(epoch+1)), save_format='h5')\n"
      ]
    },
    {
      "cell_type": "code",
      "execution_count": null,
      "metadata": {},
      "outputs": [],
      "source": []
    }
  ],
  "metadata": {
    "kernelspec": {
      "display_name": "base",
      "language": "python",
      "name": "python3"
    },
    "language_info": {
      "codemirror_mode": {
        "name": "ipython",
        "version": 3
      },
      "file_extension": ".py",
      "mimetype": "text/x-python",
      "name": "python",
      "nbconvert_exporter": "python",
      "pygments_lexer": "ipython3",
      "version": "3.10.8"
    },
    "org": null,
    "vscode": {
      "interpreter": {
        "hash": "1c544d3133b9d8c6f36fca025551af31afa9ef134259e7064ad6be0c15e6401c"
      }
    }
  },
  "nbformat": 4,
  "nbformat_minor": 0
}
