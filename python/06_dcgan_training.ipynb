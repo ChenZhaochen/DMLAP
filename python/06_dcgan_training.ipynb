{
  "cells": [
    {
      "attachments": {},
      "cell_type": "markdown",
      "metadata": {},
      "source": [
        "Training DCGAN on the Celeb Dataset\n",
        "=====\n",
        "\n"
      ]
    },
    {
      "attachments": {},
      "cell_type": "markdown",
      "metadata": {},
      "source": [
        "[https://keras.io/examples/generative/dcgan_overriding_train_step/](https://keras.io/examples/generative/dcgan_overriding_train_step/)\n",
        "\n",
        "To run notebook you will need to install [gdown](https://pypi.org/project/gdown/), a library to download large files from Google Drive."
      ]
    },
    {
      "cell_type": "code",
      "execution_count": 56,
      "metadata": {},
      "outputs": [
        {
          "name": "stdout",
          "output_type": "stream",
          "text": [
            "^C\n",
            "\u001b[31mERROR: Operation cancelled by user\u001b[0m\u001b[31m\n",
            "\u001b[0m\n",
            "\u001b[1m[\u001b[0m\u001b[34;49mnotice\u001b[0m\u001b[1;39;49m]\u001b[0m\u001b[39;49m A new release of pip is available: \u001b[0m\u001b[31;49m23.0\u001b[0m\u001b[39;49m -> \u001b[0m\u001b[32;49m23.0.1\u001b[0m\n",
            "\u001b[1m[\u001b[0m\u001b[34;49mnotice\u001b[0m\u001b[1;39;49m]\u001b[0m\u001b[39;49m To update, run: \u001b[0m\u001b[32;49mpip install --upgrade pip\u001b[0m\n"
          ]
        }
      ],
      "source": [
        "!pip install gdown"
      ]
    },
    {
      "attachments": {},
      "cell_type": "markdown",
      "metadata": {},
      "source": [
        "Now let's import the necessary modules"
      ]
    },
    {
      "cell_type": "code",
      "execution_count": null,
      "metadata": {},
      "outputs": [],
      "source": [
        "import tensorflow as tf\n",
        "from tensorflow import keras\n",
        "from tensorflow.keras import layers\n",
        "\n",
        "import numpy as np\n",
        "import matplotlib.pyplot as plt\n",
        "import os, sys\n",
        "import gdown\n",
        "from zipfile import ZipFile"
      ]
    },
    {
      "cell_type": "markdown",
      "metadata": {},
      "source": [
        "## Prepare Celeb data\n",
        "\n"
      ]
    },
    {
      "cell_type": "markdown",
      "metadata": {},
      "source": [
        "In this example we will use the Celeb dataset. We will resize images to a size of `64x64`.\n",
        "First download the dataset (only need to do this once, then it will throw an error but don&rsquo;t worry):\n",
        "\n"
      ]
    },
    {
      "cell_type": "code",
      "execution_count": null,
      "metadata": {},
      "outputs": [
        {
          "name": "stdout",
          "output_type": "stream",
          "text": [
            "Celeb directory exists\n"
          ]
        }
      ],
      "source": [
        "if not os.path.isdir(\"datasets/celeba_gan\"):\n",
        "    os.makedirs(\"datasets/celeba_gan\", exist_ok=False)\n",
        "\n",
        "    url = \"https://drive.google.com/uc?id=1O7m1010EJjLE5QxLZiM9Fpjs7Oj6e684\"\n",
        "    output = \"datasets/celeba_gan/data.zip\"\n",
        "    gdown.download(url, output, quiet=False)\n",
        "\n",
        "    with ZipFile(\"celeba_gan/data.zip\", \"r\") as zipobj:\n",
        "        zipobj.extractall(\"datasets/celeba_gan\")\n",
        "else:\n",
        "    print(\"Celeb directory exists\")"
      ]
    },
    {
      "attachments": {},
      "cell_type": "markdown",
      "metadata": {},
      "source": [
        "Check if the unzipping worked. \n",
        "And then convert this to a Tensorflow dataset. Because we expect to be training on our laptops, we will reduce the size of the training set. This is not ideal for GANs, but it will still produce reasonable results. Here we also scale the inputs to the `[-1, 1]` range and make sure the dataset is subdivided into batches of the desired size\n",
        "\n"
      ]
    },
    {
      "cell_type": "code",
      "execution_count": null,
      "metadata": {},
      "outputs": [
        {
          "name": "stdout",
          "output_type": "stream",
          "text": [
            "Found 202599 files belonging to 1 classes.\n",
            "WARNING:tensorflow:From /Users/colormotor/opt/miniconda3/lib/python3.10/site-packages/tensorflow/python/autograph/pyct/static_analysis/liveness.py:83: Analyzer.lamba_check (from tensorflow.python.autograph.pyct.static_analysis.liveness) is deprecated and will be removed after 2023-09-23.\n",
            "Instructions for updating:\n",
            "Lambda fuctions will be no more assumed to be used in the statement where they are used, or at least in the same block. https://github.com/tensorflow/tensorflow/issues/56089\n"
          ]
        }
      ],
      "source": [
        "dataset_path = \"datasets/celeba_gan\" # Change this for your custom dataset\n",
        "image_size = 64 # images are square\n",
        "image_channels = 3 # 3 RGB 1 Grayscale\n",
        "image_shape = (image_size, image_size, image_channels)\n",
        "dataset_size = 200\n",
        "batch_size = 32\n",
        "\n",
        "dataset = keras.utils.image_dataset_from_directory(\n",
        "    dataset_path, label_mode=None, image_size=(image_size, image_size), batch_size=None)\n",
        "\n",
        "# Note. comment the following line if you will use your own dataset\n",
        "dataset = dataset.take(dataset_size) \n",
        "dataset = dataset.map(lambda x: x / 127.5 - 1.0)\n",
        "dataset = dataset.batch(batch_size) # We create batch here since \"take\" would unbatch it.."
      ]
    },
    {
      "attachments": {},
      "cell_type": "markdown",
      "metadata": {},
      "source": [
        "Now let&rsquo;s see one random instance from the dataset:"
      ]
    },
    {
      "cell_type": "code",
      "execution_count": null,
      "metadata": {},
      "outputs": [
        {
          "name": "stderr",
          "output_type": "stream",
          "text": [
            "2023-02-26 23:30:43.692084: W tensorflow/tsl/platform/profile_utils/cpu_utils.cc:128] Failed to get CPU frequency: 0 Hz\n"
          ]
        },
        {
          "data": {
            "image/png": "[encoded data removed]",
            "text/plain": [
              "<Figure size 640x480 with 1 Axes>"
            ]
          },
          "metadata": {},
          "output_type": "display_data"
        }
      ],
      "source": [
        "for x in dataset:\n",
        "    plt.axis(\"off\")\n",
        "    plt.imshow((x.numpy() * 127.5 + 127.5).astype(\"int32\")[0])\n",
        "    break"
      ]
    },
    {
      "cell_type": "markdown",
      "metadata": {},
      "source": [
        "## Create generator\n",
        "\n"
      ]
    },
    {
      "cell_type": "markdown",
      "metadata": {},
      "source": [
        "At this staget we need to construct our generator. There are many implementations out there, this is one that works reasonably well for our use case and it is adapted from [here](https://github.com/Kaustubh1Verma/Art-using-GANs/blob/ff41eeb5099d2aa3976ed1f051596d14015548d5/DCGAN/DCGAN.py).\n",
        "For GAN models it is [recommended](https://machinelearningmastery.com/how-to-code-generative-adversarial-network-hacks/) to initialize the layers with normally distributed (Gaussian) values and standard deviation of 0.02. The following function is built to enable training on different image sizes, but we recommend sticking with the `64x64` image size:\n",
        "\n"
      ]
    },
    {
      "cell_type": "code",
      "execution_count": 112,
      "metadata": {},
      "outputs": [
        {
          "name": "stdout",
          "output_type": "stream",
          "text": [
            "Model: \"sequential_193\"\n",
            "____________________________________________________________________________________________________\n",
            " Layer (type)                                Output Shape                            Param #        \n",
            "====================================================================================================\n",
            " dense_40 (Dense)                            (None, 512)                             51712          \n",
            "                                                                                                    \n",
            " reshape_24 (Reshape)                        (None, 2, 2, 128)                       0              \n",
            "                                                                                                    \n",
            " batch_normalization_147 (BatchNormalization  (None, 2, 2, 128)                      512            \n",
            " )                                                                                                  \n",
            "                                                                                                    \n",
            " sequential_188 (Sequential)                 (None, 4, 4, 1024)                      2102272        \n",
            "|¯¯¯¯¯¯¯¯¯¯¯¯¯¯¯¯¯¯¯¯¯¯¯¯¯¯¯¯¯¯¯¯¯¯¯¯¯¯¯¯¯¯¯¯¯¯¯¯¯¯¯¯¯¯¯¯¯¯¯¯¯¯¯¯¯¯¯¯¯¯¯¯¯¯¯¯¯¯¯¯¯¯¯¯¯¯¯¯¯¯¯¯¯¯¯¯¯¯|\n",
            "| up_sampling2d_99 (UpSampling2D)           (None, 4, 4, 128)                       0              |\n",
            "|                                                                                                  |\n",
            "| conv2d_181 (Conv2D)                       (None, 4, 4, 1024)                      2098176        |\n",
            "|                                                                                                  |\n",
            "| activation_98 (Activation)                (None, 4, 4, 1024)                      0              |\n",
            "|                                                                                                  |\n",
            "| batch_normalization_148 (BatchNormalization  (None, 4, 4, 1024)                   4096           |\n",
            "| )                                                                                                |\n",
            "¯¯¯¯¯¯¯¯¯¯¯¯¯¯¯¯¯¯¯¯¯¯¯¯¯¯¯¯¯¯¯¯¯¯¯¯¯¯¯¯¯¯¯¯¯¯¯¯¯¯¯¯¯¯¯¯¯¯¯¯¯¯¯¯¯¯¯¯¯¯¯¯¯¯¯¯¯¯¯¯¯¯¯¯¯¯¯¯¯¯¯¯¯¯¯¯¯¯¯¯\n",
            " sequential_189 (Sequential)                 (None, 8, 8, 512)                       8391168        \n",
            "|¯¯¯¯¯¯¯¯¯¯¯¯¯¯¯¯¯¯¯¯¯¯¯¯¯¯¯¯¯¯¯¯¯¯¯¯¯¯¯¯¯¯¯¯¯¯¯¯¯¯¯¯¯¯¯¯¯¯¯¯¯¯¯¯¯¯¯¯¯¯¯¯¯¯¯¯¯¯¯¯¯¯¯¯¯¯¯¯¯¯¯¯¯¯¯¯¯¯|\n",
            "| up_sampling2d_100 (UpSampling2D)          (None, 8, 8, 1024)                      0              |\n",
            "|                                                                                                  |\n",
            "| conv2d_182 (Conv2D)                       (None, 8, 8, 512)                       8389120        |\n",
            "|                                                                                                  |\n",
            "| activation_99 (Activation)                (None, 8, 8, 512)                       0              |\n",
            "|                                                                                                  |\n",
            "| batch_normalization_149 (BatchNormalization  (None, 8, 8, 512)                    2048           |\n",
            "| )                                                                                                |\n",
            "¯¯¯¯¯¯¯¯¯¯¯¯¯¯¯¯¯¯¯¯¯¯¯¯¯¯¯¯¯¯¯¯¯¯¯¯¯¯¯¯¯¯¯¯¯¯¯¯¯¯¯¯¯¯¯¯¯¯¯¯¯¯¯¯¯¯¯¯¯¯¯¯¯¯¯¯¯¯¯¯¯¯¯¯¯¯¯¯¯¯¯¯¯¯¯¯¯¯¯¯\n",
            " sequential_190 (Sequential)                 (None, 16, 16, 128)                     1049216        \n",
            "|¯¯¯¯¯¯¯¯¯¯¯¯¯¯¯¯¯¯¯¯¯¯¯¯¯¯¯¯¯¯¯¯¯¯¯¯¯¯¯¯¯¯¯¯¯¯¯¯¯¯¯¯¯¯¯¯¯¯¯¯¯¯¯¯¯¯¯¯¯¯¯¯¯¯¯¯¯¯¯¯¯¯¯¯¯¯¯¯¯¯¯¯¯¯¯¯¯¯|\n",
            "| up_sampling2d_101 (UpSampling2D)          (None, 16, 16, 512)                     0              |\n",
            "|                                                                                                  |\n",
            "| conv2d_183 (Conv2D)                       (None, 16, 16, 128)                     1048704        |\n",
            "|                                                                                                  |\n",
            "| activation_100 (Activation)               (None, 16, 16, 128)                     0              |\n",
            "|                                                                                                  |\n",
            "| batch_normalization_150 (BatchNormalization  (None, 16, 16, 128)                  512            |\n",
            "| )                                                                                                |\n",
            "¯¯¯¯¯¯¯¯¯¯¯¯¯¯¯¯¯¯¯¯¯¯¯¯¯¯¯¯¯¯¯¯¯¯¯¯¯¯¯¯¯¯¯¯¯¯¯¯¯¯¯¯¯¯¯¯¯¯¯¯¯¯¯¯¯¯¯¯¯¯¯¯¯¯¯¯¯¯¯¯¯¯¯¯¯¯¯¯¯¯¯¯¯¯¯¯¯¯¯¯\n",
            " sequential_191 (Sequential)                 (None, 32, 32, 64)                      131392         \n",
            "|¯¯¯¯¯¯¯¯¯¯¯¯¯¯¯¯¯¯¯¯¯¯¯¯¯¯¯¯¯¯¯¯¯¯¯¯¯¯¯¯¯¯¯¯¯¯¯¯¯¯¯¯¯¯¯¯¯¯¯¯¯¯¯¯¯¯¯¯¯¯¯¯¯¯¯¯¯¯¯¯¯¯¯¯¯¯¯¯¯¯¯¯¯¯¯¯¯¯|\n",
            "| up_sampling2d_102 (UpSampling2D)          (None, 32, 32, 128)                     0              |\n",
            "|                                                                                                  |\n",
            "| conv2d_184 (Conv2D)                       (None, 32, 32, 64)                      131136         |\n",
            "|                                                                                                  |\n",
            "| activation_101 (Activation)               (None, 32, 32, 64)                      0              |\n",
            "|                                                                                                  |\n",
            "| batch_normalization_151 (BatchNormalization  (None, 32, 32, 64)                   256            |\n",
            "| )                                                                                                |\n",
            "¯¯¯¯¯¯¯¯¯¯¯¯¯¯¯¯¯¯¯¯¯¯¯¯¯¯¯¯¯¯¯¯¯¯¯¯¯¯¯¯¯¯¯¯¯¯¯¯¯¯¯¯¯¯¯¯¯¯¯¯¯¯¯¯¯¯¯¯¯¯¯¯¯¯¯¯¯¯¯¯¯¯¯¯¯¯¯¯¯¯¯¯¯¯¯¯¯¯¯¯\n",
            " sequential_192 (Sequential)                 (None, 64, 64, 32)                      32928          \n",
            "|¯¯¯¯¯¯¯¯¯¯¯¯¯¯¯¯¯¯¯¯¯¯¯¯¯¯¯¯¯¯¯¯¯¯¯¯¯¯¯¯¯¯¯¯¯¯¯¯¯¯¯¯¯¯¯¯¯¯¯¯¯¯¯¯¯¯¯¯¯¯¯¯¯¯¯¯¯¯¯¯¯¯¯¯¯¯¯¯¯¯¯¯¯¯¯¯¯¯|\n",
            "| up_sampling2d_103 (UpSampling2D)          (None, 64, 64, 64)                      0              |\n",
            "|                                                                                                  |\n",
            "| conv2d_185 (Conv2D)                       (None, 64, 64, 32)                      32800          |\n",
            "|                                                                                                  |\n",
            "| activation_102 (Activation)               (None, 64, 64, 32)                      0              |\n",
            "|                                                                                                  |\n",
            "| batch_normalization_152 (BatchNormalization  (None, 64, 64, 32)                   128            |\n",
            "| )                                                                                                |\n",
            "¯¯¯¯¯¯¯¯¯¯¯¯¯¯¯¯¯¯¯¯¯¯¯¯¯¯¯¯¯¯¯¯¯¯¯¯¯¯¯¯¯¯¯¯¯¯¯¯¯¯¯¯¯¯¯¯¯¯¯¯¯¯¯¯¯¯¯¯¯¯¯¯¯¯¯¯¯¯¯¯¯¯¯¯¯¯¯¯¯¯¯¯¯¯¯¯¯¯¯¯\n",
            " conv2d_186 (Conv2D)                         (None, 64, 64, 3)                       1539           \n",
            "                                                                                                    \n",
            "====================================================================================================\n",
            "Total params: 11,760,739\n",
            "Trainable params: 11,756,963\n",
            "Non-trainable params: 3,776\n",
            "____________________________________________________________________________________________________\n"
          ]
        }
      ],
      "source": [
        "latent_dim = 100 # The size of the latent space\n",
        "kernel_size = 4 \n",
        "\n",
        "# This will initialize our layers randomly\n",
        "init = lambda: tf.keras.initializers.RandomNormal(stddev=0.02)\n",
        "\n",
        "def gen_block(size):\n",
        "    return keras.Sequential(\n",
        "        [\n",
        "            layers.UpSampling2D(),\n",
        "            layers.Conv2D(size, kernel_size, padding='same', kernel_initializer=init()),\n",
        "            layers.Activation(\"relu\"),\n",
        "            layers.BatchNormalization(momentum=0.8),\n",
        "        ]\n",
        "    )\n",
        "\n",
        "# From https://github.com/Kaustubh1Verma/Art-using-GANs/blob/ff41eeb5099d2aa3976ed1f051596d14015548d5/DCGAN/DCGAN.py\n",
        "# This will enable working with image sizes other than 64x64 (untested)\n",
        "upsample_layers = 5\n",
        "start_size =  image_size // (2 ** upsample_layers)\n",
        "starting_filters = 128\n",
        "\n",
        "generator = keras.Sequential(\n",
        "    [\n",
        "        layers.Input(shape=(latent_dim,)),\n",
        "        layers.Dense(starting_filters * start_size * start_size, activation=\"relu\"),\n",
        "        layers.Reshape((start_size, start_size, starting_filters)),\n",
        "        layers.BatchNormalization(momentum=0.8),\n",
        "        gen_block(1024),\n",
        "        gen_block(512),\n",
        "        gen_block(128),\n",
        "        gen_block(64),\n",
        "        gen_block(32),\n",
        "        layers.Conv2D(3, kernel_size=kernel_size, padding=\"same\", activation=\"tanh\", kernel_initializer=init()),\n",
        "    ]\n",
        ")\n",
        "\n",
        "generator.summary(expand_nested=True, line_length=100)"
      ]
    },
    {
      "cell_type": "markdown",
      "metadata": {},
      "source": [
        "Let&rsquo;s see it&rsquo;s output before training\n",
        "\n"
      ]
    },
    {
      "cell_type": "code",
      "execution_count": 113,
      "metadata": {},
      "outputs": [
        {
          "data": {
            "image/png": "[encoded data removed]",
            "text/plain": [
              "<Figure size 640x480 with 1 Axes>"
            ]
          },
          "metadata": {},
          "output_type": "display_data"
        }
      ],
      "source": [
        "noise = tf.random.normal([1, latent_dim])\n",
        "generated_image = generator(noise, training=True)\n",
        "plt.imshow(generated_image[0, :, :]*0.5+0.5)\n",
        "plt.show()"
      ]
    },
    {
      "cell_type": "markdown",
      "metadata": {},
      "source": [
        "## Create discriminator\n",
        "\n"
      ]
    },
    {
      "cell_type": "markdown",
      "metadata": {},
      "source": [
        "We then define the discriminator model, again adapted adapted from [here](https://github.com/Kaustubh1Verma/Art-using-GANs/blob/ff41eeb5099d2aa3976ed1f051596d14015548d5/DCGAN/DCGAN.py).\n",
        "\n"
      ]
    },
    {
      "cell_type": "code",
      "execution_count": 114,
      "metadata": {},
      "outputs": [
        {
          "name": "stdout",
          "output_type": "stream",
          "text": [
            "Model: \"sequential_199\"\n",
            "_________________________________________________________________\n",
            " Layer (type)                Output Shape              Param #   \n",
            "=================================================================\n",
            " sequential_194 (Sequential)  (None, 32, 32, 64)       1792      \n",
            "|¯¯¯¯¯¯¯¯¯¯¯¯¯¯¯¯¯¯¯¯¯¯¯¯¯¯¯¯¯¯¯¯¯¯¯¯¯¯¯¯¯¯¯¯¯¯¯¯¯¯¯¯¯¯¯¯¯¯¯¯¯¯¯|\n",
            "| conv2d_187 (Conv2D)       (None, 32, 32, 64)        1792      |\n",
            "|                                                               |\n",
            "| leaky_re_lu_69 (LeakyReLU)  (None, 32, 32, 64)      0         |\n",
            "|                                                               |\n",
            "| dropout_30 (Dropout)      (None, 32, 32, 64)        0         |\n",
            "¯¯¯¯¯¯¯¯¯¯¯¯¯¯¯¯¯¯¯¯¯¯¯¯¯¯¯¯¯¯¯¯¯¯¯¯¯¯¯¯¯¯¯¯¯¯¯¯¯¯¯¯¯¯¯¯¯¯¯¯¯¯¯¯¯\n",
            " sequential_195 (Sequential)  (None, 17, 17, 64)       37184     \n",
            "|¯¯¯¯¯¯¯¯¯¯¯¯¯¯¯¯¯¯¯¯¯¯¯¯¯¯¯¯¯¯¯¯¯¯¯¯¯¯¯¯¯¯¯¯¯¯¯¯¯¯¯¯¯¯¯¯¯¯¯¯¯¯¯|\n",
            "| conv2d_188 (Conv2D)       (None, 16, 16, 64)        36928     |\n",
            "|                                                               |\n",
            "| leaky_re_lu_70 (LeakyReLU)  (None, 16, 16, 64)      0         |\n",
            "|                                                               |\n",
            "| dropout_31 (Dropout)      (None, 16, 16, 64)        0         |\n",
            "|                                                               |\n",
            "| zero_padding2d_14 (ZeroPadd  (None, 17, 17, 64)     0         |\n",
            "| ing2D)                                                        |\n",
            "|                                                               |\n",
            "| batch_normalization_153 (Ba  (None, 17, 17, 64)     256       |\n",
            "| tchNormalization)                                             |\n",
            "¯¯¯¯¯¯¯¯¯¯¯¯¯¯¯¯¯¯¯¯¯¯¯¯¯¯¯¯¯¯¯¯¯¯¯¯¯¯¯¯¯¯¯¯¯¯¯¯¯¯¯¯¯¯¯¯¯¯¯¯¯¯¯¯¯\n",
            " sequential_196 (Sequential)  (None, 9, 9, 64)         37184     \n",
            "|¯¯¯¯¯¯¯¯¯¯¯¯¯¯¯¯¯¯¯¯¯¯¯¯¯¯¯¯¯¯¯¯¯¯¯¯¯¯¯¯¯¯¯¯¯¯¯¯¯¯¯¯¯¯¯¯¯¯¯¯¯¯¯|\n",
            "| conv2d_189 (Conv2D)       (None, 9, 9, 64)          36928     |\n",
            "|                                                               |\n",
            "| leaky_re_lu_71 (LeakyReLU)  (None, 9, 9, 64)        0         |\n",
            "|                                                               |\n",
            "| dropout_32 (Dropout)      (None, 9, 9, 64)          0         |\n",
            "|                                                               |\n",
            "| batch_normalization_154 (Ba  (None, 9, 9, 64)       256       |\n",
            "| tchNormalization)                                             |\n",
            "¯¯¯¯¯¯¯¯¯¯¯¯¯¯¯¯¯¯¯¯¯¯¯¯¯¯¯¯¯¯¯¯¯¯¯¯¯¯¯¯¯¯¯¯¯¯¯¯¯¯¯¯¯¯¯¯¯¯¯¯¯¯¯¯¯\n",
            " sequential_197 (Sequential)  (None, 9, 9, 64)         36928     \n",
            "|¯¯¯¯¯¯¯¯¯¯¯¯¯¯¯¯¯¯¯¯¯¯¯¯¯¯¯¯¯¯¯¯¯¯¯¯¯¯¯¯¯¯¯¯¯¯¯¯¯¯¯¯¯¯¯¯¯¯¯¯¯¯¯|\n",
            "| conv2d_190 (Conv2D)       (None, 9, 9, 64)          36928     |\n",
            "|                                                               |\n",
            "| leaky_re_lu_72 (LeakyReLU)  (None, 9, 9, 64)        0         |\n",
            "|                                                               |\n",
            "| dropout_33 (Dropout)      (None, 9, 9, 64)          0         |\n",
            "¯¯¯¯¯¯¯¯¯¯¯¯¯¯¯¯¯¯¯¯¯¯¯¯¯¯¯¯¯¯¯¯¯¯¯¯¯¯¯¯¯¯¯¯¯¯¯¯¯¯¯¯¯¯¯¯¯¯¯¯¯¯¯¯¯\n",
            " sequential_198 (Sequential)  (None, 9, 9, 64)         36928     \n",
            "|¯¯¯¯¯¯¯¯¯¯¯¯¯¯¯¯¯¯¯¯¯¯¯¯¯¯¯¯¯¯¯¯¯¯¯¯¯¯¯¯¯¯¯¯¯¯¯¯¯¯¯¯¯¯¯¯¯¯¯¯¯¯¯|\n",
            "| conv2d_191 (Conv2D)       (None, 9, 9, 64)          36928     |\n",
            "|                                                               |\n",
            "| leaky_re_lu_73 (LeakyReLU)  (None, 9, 9, 64)        0         |\n",
            "|                                                               |\n",
            "| dropout_34 (Dropout)      (None, 9, 9, 64)          0         |\n",
            "¯¯¯¯¯¯¯¯¯¯¯¯¯¯¯¯¯¯¯¯¯¯¯¯¯¯¯¯¯¯¯¯¯¯¯¯¯¯¯¯¯¯¯¯¯¯¯¯¯¯¯¯¯¯¯¯¯¯¯¯¯¯¯¯¯\n",
            " flatten_16 (Flatten)        (None, 5184)              0         \n",
            "                                                                 \n",
            " dense_41 (Dense)            (None, 1)                 5185      \n",
            "                                                                 \n",
            "=================================================================\n",
            "Total params: 155,201\n",
            "Trainable params: 154,945\n",
            "Non-trainable params: 256\n",
            "_________________________________________________________________\n"
          ]
        }
      ],
      "source": [
        "kernel_size = 3\n",
        "def disc_block(size, strides, batch_norm=True, padding=False):\n",
        "    layer_list = [\n",
        "                  layers.Conv2D(64, kernel_size=kernel_size, strides=strides, padding=\"same\", kernel_initializer=init()), # Always keep\n",
        "                  layers.LeakyReLU(alpha=0.2), # Always keep\n",
        "                  layers.Dropout(0.1) # Try to comment\n",
        "                  ]\n",
        "    if padding:\n",
        "        layer_list += [layers.ZeroPadding2D(padding=((0,1),(0,1)))] # Always keep\n",
        "    if batch_norm:\n",
        "        layer_list += [layers.BatchNormalization(momentum=0.8)] \n",
        "    return keras.Sequential(layer_list)\n",
        "\n",
        "discriminator = keras.Sequential(\n",
        "    [\n",
        "        keras.Input(shape=image_shape),\n",
        "        disc_block(32, 2, batch_norm=False),\n",
        "        disc_block(64, 2, batch_norm=True, padding=True),\n",
        "        disc_block(128, 2, batch_norm=True),\n",
        "        disc_block(256, 1, batch_norm=False),\n",
        "        disc_block(512, 1, batch_norm=False),\n",
        "        layers.Flatten(),\n",
        "        layers.Dense(1, activation=\"sigmoid\"),\n",
        "    ]\n",
        ")   \n",
        "        \n",
        "        \n",
        "discriminator.summary(expand_nested=True)"
      ]
    },
    {
      "cell_type": "markdown",
      "metadata": {},
      "source": [
        "Let&rsquo;s see what the discriminator thinks of our generated image:\n",
        "\n"
      ]
    },
    {
      "cell_type": "code",
      "execution_count": 115,
      "metadata": {},
      "outputs": [
        {
          "name": "stdout",
          "output_type": "stream",
          "text": [
            "tf.Tensor([[0.4999366]], shape=(1, 1), dtype=float32)\n"
          ]
        }
      ],
      "source": [
        "decision = discriminator(generated_image)\n",
        "print (decision)"
      ]
    },
    {
      "attachments": {},
      "cell_type": "markdown",
      "metadata": {},
      "source": [
        "# Train the network\n",
        "Tensorflow and Keras offer many ways to combine the generator and discriminator into a GAN model and train it. Here we follow one approach that appears to work relatively well for a small number of images, in which we manually define the training loop. "
      ]
    },
    {
      "cell_type": "code",
      "execution_count": 111,
      "metadata": {},
      "outputs": [
        {
          "name": "stdout",
          "output_type": "stream",
          "text": [
            "Epoch 1\n",
            "WARNING:tensorflow:5 out of the last 263 calls to <function Model.make_train_function.<locals>.train_function at 0x16c660c10> triggered tf.function retracing. Tracing is expensive and the excessive number of tracings could be due to (1) creating @tf.function repeatedly in a loop, (2) passing tensors with different shapes, (3) passing Python objects instead of tensors. For (1), please define your @tf.function outside of the loop. For (2), @tf.function has reduce_retracing=True option that can avoid unnecessary retracing. For (3), please refer to https://www.tensorflow.org/guide/function#controlling_retracing and https://www.tensorflow.org/api_docs/python/tf/function for  more details.\n",
            "WARNING:tensorflow:6 out of the last 264 calls to <function Model.make_train_function.<locals>.train_function at 0x166919ea0> triggered tf.function retracing. Tracing is expensive and the excessive number of tracings could be due to (1) creating @tf.function repeatedly in a loop, (2) passing tensors with different shapes, (3) passing Python objects instead of tensors. For (1), please define your @tf.function outside of the loop. For (2), @tf.function has reduce_retracing=True option that can avoid unnecessary retracing. For (3), please refer to https://www.tensorflow.org/guide/function#controlling_retracing and https://www.tensorflow.org/api_docs/python/tf/function for  more details.\n",
            "Epoch 1 - 7 of 7 [D loss: 0.5239430963993073 | D Accuracy: 0.0] [G loss: 0.6915512084960938]Saving epoch 1 to ./models/dcgan_dmlap\n",
            "WARNING:tensorflow:Compiled the loaded model, but the compiled metrics have yet to be built. `model.compile_metrics` will be empty until you train or evaluate the model.\n",
            "Epoch 2\n",
            "Epoch 2 - 7 of 7 [D loss: 0.7327122241258621 | D Accuracy: 0.0] [G loss: 0.7353137731552124]Saving epoch 2 to ./models/dcgan_dmlap\n",
            "WARNING:tensorflow:Compiled the loaded model, but the compiled metrics have yet to be built. `model.compile_metrics` will be empty until you train or evaluate the model.\n",
            "Epoch 3\n",
            "Epoch 3 - 7 of 7 [D loss: 0.5370155274868011 | D Accuracy: 0.0] [G loss: 0.9488980174064636]Saving epoch 3 to ./models/dcgan_dmlap\n",
            "WARNING:tensorflow:Compiled the loaded model, but the compiled metrics have yet to be built. `model.compile_metrics` will be empty until you train or evaluate the model.\n",
            "Epoch 4\n",
            "Epoch 4 - 7 of 7 [D loss: 0.41593898832798004 | D Accuracy: 0.0] [G loss: 0.9730563163757324]Saving epoch 4 to ./models/dcgan_dmlap\n",
            "WARNING:tensorflow:Compiled the loaded model, but the compiled metrics have yet to be built. `model.compile_metrics` will be empty until you train or evaluate the model.\n",
            "Epoch 5\n",
            "Epoch 5 - 7 of 7 [D loss: 0.38536907732486725 | D Accuracy: 0.0] [G loss: 0.938506007194519]Saving epoch 5 to ./models/dcgan_dmlap\n",
            "WARNING:tensorflow:Compiled the loaded model, but the compiled metrics have yet to be built. `model.compile_metrics` will be empty until you train or evaluate the model.\n",
            "Epoch 6\n",
            "Epoch 6 - 7 of 7 [D loss: 0.5312990546226501 | D Accuracy: 0.0] [G loss: 0.9248051643371582]Saving epoch 6 to ./models/dcgan_dmlap\n",
            "WARNING:tensorflow:Compiled the loaded model, but the compiled metrics have yet to be built. `model.compile_metrics` will be empty until you train or evaluate the model.\n",
            "Epoch 7\n",
            "Epoch 7 - 7 of 7 [D loss: 0.46160727739334106 | D Accuracy: 0.0] [G loss: 1.0843892097473145]Saving epoch 7 to ./models/dcgan_dmlap\n",
            "WARNING:tensorflow:Compiled the loaded model, but the compiled metrics have yet to be built. `model.compile_metrics` will be empty until you train or evaluate the model.\n",
            "Epoch 8\n",
            "Epoch 8 - 7 of 7 [D loss: 0.38881777226924896 | D Accuracy: 0.0] [G loss: 1.1373658180236816]Saving epoch 8 to ./models/dcgan_dmlap\n",
            "WARNING:tensorflow:Compiled the loaded model, but the compiled metrics have yet to be built. `model.compile_metrics` will be empty until you train or evaluate the model.\n",
            "Epoch 9\n",
            "Epoch 9 - 7 of 7 [D loss: 0.43301865458488464 | D Accuracy: 0.0] [G loss: 1.2090392112731934]Saving epoch 9 to ./models/dcgan_dmlap\n",
            "WARNING:tensorflow:Compiled the loaded model, but the compiled metrics have yet to be built. `model.compile_metrics` will be empty until you train or evaluate the model.\n",
            "Epoch 10\n",
            "Epoch 10 - 7 of 7 [D loss: 0.27714505791664124 | D Accuracy: 0.0] [G loss: 1.5749773979187012]Saving epoch 10 to ./models/dcgan_dmlap\n",
            "WARNING:tensorflow:Compiled the loaded model, but the compiled metrics have yet to be built. `model.compile_metrics` will be empty until you train or evaluate the model.\n",
            "Epoch 11\n",
            "Epoch 11 - 7 of 7 [D loss: 0.3842618763446808 | D Accuracy: 0.0] [G loss: 1.8674333095550537]Saving epoch 11 to ./models/dcgan_dmlap\n",
            "WARNING:tensorflow:Compiled the loaded model, but the compiled metrics have yet to be built. `model.compile_metrics` will be empty until you train or evaluate the model.\n",
            "Epoch 12\n",
            "Epoch 12 - 7 of 7 [D loss: 0.38418181240558624 | D Accuracy: 0.0] [G loss: 1.5663464069366455]Saving epoch 12 to ./models/dcgan_dmlap\n",
            "WARNING:tensorflow:Compiled the loaded model, but the compiled metrics have yet to be built. `model.compile_metrics` will be empty until you train or evaluate the model.\n",
            "Epoch 13\n",
            "Epoch 13 - 7 of 7 [D loss: 0.2636169493198395 | D Accuracy: 0.0] [G loss: 1.3929100036621094]Saving epoch 13 to ./models/dcgan_dmlap\n",
            "WARNING:tensorflow:Compiled the loaded model, but the compiled metrics have yet to be built. `model.compile_metrics` will be empty until you train or evaluate the model.\n",
            "Epoch 14\n",
            "Epoch 14 - 7 of 7 [D loss: 0.7644277811050415 | D Accuracy: 0.0] [G loss: 1.4433066844940186]Saving epoch 14 to ./models/dcgan_dmlap\n",
            "WARNING:tensorflow:Compiled the loaded model, but the compiled metrics have yet to be built. `model.compile_metrics` will be empty until you train or evaluate the model.\n",
            "Epoch 15\n",
            "Epoch 15 - 7 of 7 [D loss: 0.33071470260620117 | D Accuracy: 0.0] [G loss: 1.1723552942276]Saving epoch 15 to ./models/dcgan_dmlap\n",
            "WARNING:tensorflow:Compiled the loaded model, but the compiled metrics have yet to be built. `model.compile_metrics` will be empty until you train or evaluate the model.\n",
            "Epoch 16\n",
            "Epoch 16 - 7 of 7 [D loss: 0.1634794846177101 | D Accuracy: 0.0] [G loss: 1.4024038314819336]Saving epoch 16 to ./models/dcgan_dmlap\n",
            "WARNING:tensorflow:Compiled the loaded model, but the compiled metrics have yet to be built. `model.compile_metrics` will be empty until you train or evaluate the model.\n",
            "Epoch 17\n",
            "Epoch 17 - 7 of 7 [D loss: 0.20025548338890076 | D Accuracy: 0.0] [G loss: 1.550036907196045]Saving epoch 17 to ./models/dcgan_dmlap\n",
            "WARNING:tensorflow:Compiled the loaded model, but the compiled metrics have yet to be built. `model.compile_metrics` will be empty until you train or evaluate the model.\n",
            "Epoch 18\n",
            "Epoch 18 - 7 of 7 [D loss: 1.6074650287628174 | D Accuracy: 0.0] [G loss: 1.0157872438430786]Saving epoch 18 to ./models/dcgan_dmlap\n",
            "WARNING:tensorflow:Compiled the loaded model, but the compiled metrics have yet to be built. `model.compile_metrics` will be empty until you train or evaluate the model.\n",
            "Epoch 19\n",
            "Epoch 19 - 7 of 7 [D loss: 0.25048957765102386 | D Accuracy: 0.0] [G loss: 1.257623553276062]Saving epoch 19 to ./models/dcgan_dmlap\n",
            "WARNING:tensorflow:Compiled the loaded model, but the compiled metrics have yet to be built. `model.compile_metrics` will be empty until you train or evaluate the model.\n",
            "Epoch 20\n",
            "Epoch 20 - 7 of 7 [D loss: 0.09191855415701866 | D Accuracy: 0.0] [G loss: 1.1103558540344238]Saving epoch 20 to ./models/dcgan_dmlap\n",
            "WARNING:tensorflow:Compiled the loaded model, but the compiled metrics have yet to be built. `model.compile_metrics` will be empty until you train or evaluate the model.\n",
            "Epoch 21\n",
            "Epoch 21 - 7 of 7 [D loss: 0.1129472367465496 | D Accuracy: 0.0] [G loss: 1.2936217784881592]Saving epoch 21 to ./models/dcgan_dmlap\n",
            "WARNING:tensorflow:Compiled the loaded model, but the compiled metrics have yet to be built. `model.compile_metrics` will be empty until you train or evaluate the model.\n",
            "Epoch 22\n",
            "Epoch 22 - 7 of 7 [D loss: 0.08427079766988754 | D Accuracy: 0.0] [G loss: 2.1427457332611084]Saving epoch 22 to ./models/dcgan_dmlap\n",
            "WARNING:tensorflow:Compiled the loaded model, but the compiled metrics have yet to be built. `model.compile_metrics` will be empty until you train or evaluate the model.\n",
            "Epoch 23\n",
            "Epoch 23 - 7 of 7 [D loss: 0.15068744868040085 | D Accuracy: 0.0] [G loss: 0.6591877341270447]Saving epoch 23 to ./models/dcgan_dmlap\n",
            "WARNING:tensorflow:Compiled the loaded model, but the compiled metrics have yet to be built. `model.compile_metrics` will be empty until you train or evaluate the model.\n",
            "Epoch 24\n",
            "Epoch 24 - 7 of 7 [D loss: 2.160669982433319 | D Accuracy: 0.0] [G loss: 0.9510578513145447]Saving epoch 24 to ./models/dcgan_dmlap\n",
            "WARNING:tensorflow:Compiled the loaded model, but the compiled metrics have yet to be built. `model.compile_metrics` will be empty until you train or evaluate the model.\n",
            "Epoch 25\n",
            "Epoch 25 - 7 of 7 [D loss: 0.613940492272377 | D Accuracy: 0.0] [G loss: 1.1631858348846436]Saving epoch 25 to ./models/dcgan_dmlap\n",
            "WARNING:tensorflow:Compiled the loaded model, but the compiled metrics have yet to be built. `model.compile_metrics` will be empty until you train or evaluate the model.\n",
            "Epoch 26\n",
            "Epoch 26 - 7 of 7 [D loss: 1.4453094601631165 | D Accuracy: 0.0] [G loss: 1.0361378192901611]Saving epoch 26 to ./models/dcgan_dmlap\n",
            "WARNING:tensorflow:Compiled the loaded model, but the compiled metrics have yet to be built. `model.compile_metrics` will be empty until you train or evaluate the model.\n",
            "Epoch 27\n",
            "Epoch 27 - 7 of 7 [D loss: 0.7203195467591286 | D Accuracy: 0.0] [G loss: 1.1370471715927124]Saving epoch 27 to ./models/dcgan_dmlap\n",
            "WARNING:tensorflow:Compiled the loaded model, but the compiled metrics have yet to be built. `model.compile_metrics` will be empty until you train or evaluate the model.\n",
            "Epoch 28\n",
            "Epoch 28 - 7 of 7 [D loss: 0.8731629177927971 | D Accuracy: 0.0] [G loss: 1.0796113014221191]Saving epoch 28 to ./models/dcgan_dmlap\n",
            "WARNING:tensorflow:Compiled the loaded model, but the compiled metrics have yet to be built. `model.compile_metrics` will be empty until you train or evaluate the model.\n",
            "Epoch 29\n",
            "Epoch 29 - 7 of 7 [D loss: 0.1039886549115181 | D Accuracy: 0.0] [G loss: 1.2178879976272583]Saving epoch 29 to ./models/dcgan_dmlap\n",
            "WARNING:tensorflow:Compiled the loaded model, but the compiled metrics have yet to be built. `model.compile_metrics` will be empty until you train or evaluate the model.\n",
            "Epoch 30\n",
            "Epoch 30 - 7 of 7 [D loss: 0.19105368852615356 | D Accuracy: 0.0] [G loss: 0.9216514825820923]Saving epoch 30 to ./models/dcgan_dmlap\n",
            "WARNING:tensorflow:Compiled the loaded model, but the compiled metrics have yet to be built. `model.compile_metrics` will be empty until you train or evaluate the model.\n",
            "Epoch 31\n",
            "Epoch 31 - 7 of 7 [D loss: 1.2851055264472961 | D Accuracy: 0.0] [G loss: 1.014887809753418]Saving epoch 31 to ./models/dcgan_dmlap\n",
            "WARNING:tensorflow:Compiled the loaded model, but the compiled metrics have yet to be built. `model.compile_metrics` will be empty until you train or evaluate the model.\n",
            "Epoch 32\n",
            "Epoch 32 - 7 of 7 [D loss: 0.07384880259633064 | D Accuracy: 0.0] [G loss: 0.9726964235305786]Saving epoch 32 to ./models/dcgan_dmlap\n",
            "WARNING:tensorflow:Compiled the loaded model, but the compiled metrics have yet to be built. `model.compile_metrics` will be empty until you train or evaluate the model.\n",
            "Epoch 33\n",
            "Epoch 33 - 7 of 7 [D loss: 1.774213969707489 | D Accuracy: 0.0] [G loss: 1.0859277248382568]Saving epoch 33 to ./models/dcgan_dmlap\n",
            "WARNING:tensorflow:Compiled the loaded model, but the compiled metrics have yet to be built. `model.compile_metrics` will be empty until you train or evaluate the model.\n",
            "Epoch 34\n",
            "Epoch 34 - 7 of 7 [D loss: 0.3302767276763916 | D Accuracy: 0.0] [G loss: 0.592976450920105]Saving epoch 34 to ./models/dcgan_dmlap\n",
            "WARNING:tensorflow:Compiled the loaded model, but the compiled metrics have yet to be built. `model.compile_metrics` will be empty until you train or evaluate the model.\n",
            "Epoch 35\n",
            "Epoch 35 - 7 of 7 [D loss: 0.4515961557626724 | D Accuracy: 0.0] [G loss: 1.655961275100708]Saving epoch 35 to ./models/dcgan_dmlap\n",
            "WARNING:tensorflow:Compiled the loaded model, but the compiled metrics have yet to be built. `model.compile_metrics` will be empty until you train or evaluate the model.\n",
            "Epoch 36\n",
            "Epoch 36 - 7 of 7 [D loss: 0.04240266606211662 | D Accuracy: 0.0] [G loss: 0.7251840829849243]Saving epoch 36 to ./models/dcgan_dmlap\n",
            "WARNING:tensorflow:Compiled the loaded model, but the compiled metrics have yet to be built. `model.compile_metrics` will be empty until you train or evaluate the model.\n",
            "Epoch 37\n",
            "Epoch 37 - 7 of 7 [D loss: 0.36468109861016273 | D Accuracy: 0.0] [G loss: 0.6919411420822144]Saving epoch 37 to ./models/dcgan_dmlap\n",
            "WARNING:tensorflow:Compiled the loaded model, but the compiled metrics have yet to be built. `model.compile_metrics` will be empty until you train or evaluate the model.\n",
            "Epoch 38\n",
            "Epoch 38 - 7 of 7 [D loss: 0.40733852982521057 | D Accuracy: 0.0] [G loss: 0.34477394819259644]Saving epoch 38 to ./models/dcgan_dmlap\n",
            "WARNING:tensorflow:Compiled the loaded model, but the compiled metrics have yet to be built. `model.compile_metrics` will be empty until you train or evaluate the model.\n",
            "Epoch 39\n",
            "Epoch 39 - 7 of 7 [D loss: 0.10571038350462914 | D Accuracy: 0.0] [G loss: 1.0116345882415771]Saving epoch 39 to ./models/dcgan_dmlap\n",
            "WARNING:tensorflow:Compiled the loaded model, but the compiled metrics have yet to be built. `model.compile_metrics` will be empty until you train or evaluate the model.\n",
            "Epoch 40\n",
            "Epoch 40 - 7 of 7 [D loss: 0.38529507257044315 | D Accuracy: 0.0] [G loss: 1.6515350341796875]Saving epoch 40 to ./models/dcgan_dmlap\n",
            "WARNING:tensorflow:Compiled the loaded model, but the compiled metrics have yet to be built. `model.compile_metrics` will be empty until you train or evaluate the model.\n",
            "Epoch 41\n",
            "Epoch 41 - 7 of 7 [D loss: 0.9736061990261078 | D Accuracy: 0.0] [G loss: 0.9867201447486877]Saving epoch 41 to ./models/dcgan_dmlap\n",
            "WARNING:tensorflow:Compiled the loaded model, but the compiled metrics have yet to be built. `model.compile_metrics` will be empty until you train or evaluate the model.\n",
            "Epoch 42\n",
            "Epoch 42 - 7 of 7 [D loss: 0.07958114519715309 | D Accuracy: 0.0] [G loss: 0.9515366554260254]Saving epoch 42 to ./models/dcgan_dmlap\n",
            "WARNING:tensorflow:Compiled the loaded model, but the compiled metrics have yet to be built. `model.compile_metrics` will be empty until you train or evaluate the model.\n",
            "Epoch 43\n",
            "Epoch 43 - 7 of 7 [D loss: 0.2591921240091324 | D Accuracy: 0.0] [G loss: 0.556140661239624]Saving epoch 43 to ./models/dcgan_dmlap\n",
            "WARNING:tensorflow:Compiled the loaded model, but the compiled metrics have yet to be built. `model.compile_metrics` will be empty until you train or evaluate the model.\n",
            "Epoch 44\n",
            "Epoch 44 - 7 of 7 [D loss: 0.43039220571517944 | D Accuracy: 0.0] [G loss: 0.4767507314682007]Saving epoch 44 to ./models/dcgan_dmlap\n",
            "WARNING:tensorflow:Compiled the loaded model, but the compiled metrics have yet to be built. `model.compile_metrics` will be empty until you train or evaluate the model.\n",
            "Epoch 45\n",
            "Epoch 45 - 7 of 7 [D loss: 0.010302465409040451 | D Accuracy: 0.0] [G loss: 0.40404701232910156]Saving epoch 45 to ./models/dcgan_dmlap\n",
            "WARNING:tensorflow:Compiled the loaded model, but the compiled metrics have yet to be built. `model.compile_metrics` will be empty until you train or evaluate the model.\n",
            "Epoch 46\n",
            "Epoch 46 - 7 of 7 [D loss: 0.018614092841744423 | D Accuracy: 0.0] [G loss: 0.3913952112197876]Saving epoch 46 to ./models/dcgan_dmlap\n",
            "WARNING:tensorflow:Compiled the loaded model, but the compiled metrics have yet to be built. `model.compile_metrics` will be empty until you train or evaluate the model.\n",
            "Epoch 47\n",
            "Epoch 47 - 7 of 7 [D loss: 2.4871095716953278 | D Accuracy: 0.0] [G loss: 0.24373705685138702]Saving epoch 47 to ./models/dcgan_dmlap\n",
            "WARNING:tensorflow:Compiled the loaded model, but the compiled metrics have yet to be built. `model.compile_metrics` will be empty until you train or evaluate the model.\n",
            "Epoch 48\n",
            "Epoch 48 - 5 of 7 [D loss: 0.042415324598550797 | D Accuracy: 0.0] [G loss: 0.3824748396873474]"
          ]
        },
        {
          "ename": "KeyboardInterrupt",
          "evalue": "",
          "output_type": "error",
          "traceback": [
            "\u001b[0;31m---------------------------------------------------------------------------\u001b[0m",
            "\u001b[0;31mKeyboardInterrupt\u001b[0m                         Traceback (most recent call last)",
            "\u001b[0;32m/var/folders/sr/zs7syfx13zzfn32_m3hpw17c0000gn/T/ipykernel_14282/2801163034.py\u001b[0m in \u001b[0;36m<cell line: 32>\u001b[0;34m()\u001b[0m\n\u001b[1;32m     50\u001b[0m         \u001b[0;31m# For the remaining half batch, sample noise and generate new images\u001b[0m\u001b[0;34m\u001b[0m\u001b[0;34m\u001b[0m\u001b[0m\n\u001b[1;32m     51\u001b[0m         \u001b[0mnoise\u001b[0m \u001b[0;34m=\u001b[0m \u001b[0mnp\u001b[0m\u001b[0;34m.\u001b[0m\u001b[0mrandom\u001b[0m\u001b[0;34m.\u001b[0m\u001b[0mnormal\u001b[0m\u001b[0;34m(\u001b[0m\u001b[0;36m0\u001b[0m\u001b[0;34m,\u001b[0m \u001b[0;36m1\u001b[0m\u001b[0;34m,\u001b[0m \u001b[0;34m(\u001b[0m\u001b[0mhalf_batch_size\u001b[0m\u001b[0;34m,\u001b[0m \u001b[0;36m100\u001b[0m\u001b[0;34m)\u001b[0m\u001b[0;34m)\u001b[0m\u001b[0;34m\u001b[0m\u001b[0;34m\u001b[0m\u001b[0m\n\u001b[0;32m---> 52\u001b[0;31m         \u001b[0mgen_imgs\u001b[0m \u001b[0;34m=\u001b[0m \u001b[0mgenerator\u001b[0m\u001b[0;34m.\u001b[0m\u001b[0mpredict\u001b[0m\u001b[0;34m(\u001b[0m\u001b[0mnoise\u001b[0m\u001b[0;34m,\u001b[0m \u001b[0mverbose\u001b[0m\u001b[0;34m=\u001b[0m\u001b[0;36m0\u001b[0m\u001b[0;34m)\u001b[0m\u001b[0;34m\u001b[0m\u001b[0;34m\u001b[0m\u001b[0m\n\u001b[0m\u001b[1;32m     53\u001b[0m \u001b[0;34m\u001b[0m\u001b[0m\n\u001b[1;32m     54\u001b[0m         \u001b[0;31m# Train the discriminator (real classified as ones and generated as zeros)\u001b[0m\u001b[0;34m\u001b[0m\u001b[0;34m\u001b[0m\u001b[0m\n",
            "\u001b[0;32m~/opt/miniconda3/lib/python3.10/site-packages/keras/utils/traceback_utils.py\u001b[0m in \u001b[0;36merror_handler\u001b[0;34m(*args, **kwargs)\u001b[0m\n\u001b[1;32m     63\u001b[0m         \u001b[0mfiltered_tb\u001b[0m \u001b[0;34m=\u001b[0m \u001b[0;32mNone\u001b[0m\u001b[0;34m\u001b[0m\u001b[0;34m\u001b[0m\u001b[0m\n\u001b[1;32m     64\u001b[0m         \u001b[0;32mtry\u001b[0m\u001b[0;34m:\u001b[0m\u001b[0;34m\u001b[0m\u001b[0;34m\u001b[0m\u001b[0m\n\u001b[0;32m---> 65\u001b[0;31m             \u001b[0;32mreturn\u001b[0m \u001b[0mfn\u001b[0m\u001b[0;34m(\u001b[0m\u001b[0;34m*\u001b[0m\u001b[0margs\u001b[0m\u001b[0;34m,\u001b[0m \u001b[0;34m**\u001b[0m\u001b[0mkwargs\u001b[0m\u001b[0;34m)\u001b[0m\u001b[0;34m\u001b[0m\u001b[0;34m\u001b[0m\u001b[0m\n\u001b[0m\u001b[1;32m     66\u001b[0m         \u001b[0;32mexcept\u001b[0m \u001b[0mException\u001b[0m \u001b[0;32mas\u001b[0m \u001b[0me\u001b[0m\u001b[0;34m:\u001b[0m\u001b[0;34m\u001b[0m\u001b[0;34m\u001b[0m\u001b[0m\n\u001b[1;32m     67\u001b[0m             \u001b[0mfiltered_tb\u001b[0m \u001b[0;34m=\u001b[0m \u001b[0m_process_traceback_frames\u001b[0m\u001b[0;34m(\u001b[0m\u001b[0me\u001b[0m\u001b[0;34m.\u001b[0m\u001b[0m__traceback__\u001b[0m\u001b[0;34m)\u001b[0m\u001b[0;34m\u001b[0m\u001b[0;34m\u001b[0m\u001b[0m\n",
            "\u001b[0;32m~/opt/miniconda3/lib/python3.10/site-packages/keras/engine/training.py\u001b[0m in \u001b[0;36mpredict\u001b[0;34m(self, x, batch_size, verbose, steps, callbacks, max_queue_size, workers, use_multiprocessing)\u001b[0m\n\u001b[1;32m   2348\u001b[0m                     \u001b[0;32mfor\u001b[0m \u001b[0mstep\u001b[0m \u001b[0;32min\u001b[0m \u001b[0mdata_handler\u001b[0m\u001b[0;34m.\u001b[0m\u001b[0msteps\u001b[0m\u001b[0;34m(\u001b[0m\u001b[0;34m)\u001b[0m\u001b[0;34m:\u001b[0m\u001b[0;34m\u001b[0m\u001b[0;34m\u001b[0m\u001b[0m\n\u001b[1;32m   2349\u001b[0m                         \u001b[0mcallbacks\u001b[0m\u001b[0;34m.\u001b[0m\u001b[0mon_predict_batch_begin\u001b[0m\u001b[0;34m(\u001b[0m\u001b[0mstep\u001b[0m\u001b[0;34m)\u001b[0m\u001b[0;34m\u001b[0m\u001b[0;34m\u001b[0m\u001b[0m\n\u001b[0;32m-> 2350\u001b[0;31m                         \u001b[0mtmp_batch_outputs\u001b[0m \u001b[0;34m=\u001b[0m \u001b[0mself\u001b[0m\u001b[0;34m.\u001b[0m\u001b[0mpredict_function\u001b[0m\u001b[0;34m(\u001b[0m\u001b[0miterator\u001b[0m\u001b[0;34m)\u001b[0m\u001b[0;34m\u001b[0m\u001b[0;34m\u001b[0m\u001b[0m\n\u001b[0m\u001b[1;32m   2351\u001b[0m                         \u001b[0;32mif\u001b[0m \u001b[0mdata_handler\u001b[0m\u001b[0;34m.\u001b[0m\u001b[0mshould_sync\u001b[0m\u001b[0;34m:\u001b[0m\u001b[0;34m\u001b[0m\u001b[0;34m\u001b[0m\u001b[0m\n\u001b[1;32m   2352\u001b[0m                             \u001b[0mcontext\u001b[0m\u001b[0;34m.\u001b[0m\u001b[0masync_wait\u001b[0m\u001b[0;34m(\u001b[0m\u001b[0;34m)\u001b[0m\u001b[0;34m\u001b[0m\u001b[0;34m\u001b[0m\u001b[0m\n",
            "\u001b[0;32m~/opt/miniconda3/lib/python3.10/site-packages/tensorflow/python/util/traceback_utils.py\u001b[0m in \u001b[0;36merror_handler\u001b[0;34m(*args, **kwargs)\u001b[0m\n\u001b[1;32m    148\u001b[0m     \u001b[0mfiltered_tb\u001b[0m \u001b[0;34m=\u001b[0m \u001b[0;32mNone\u001b[0m\u001b[0;34m\u001b[0m\u001b[0;34m\u001b[0m\u001b[0m\n\u001b[1;32m    149\u001b[0m     \u001b[0;32mtry\u001b[0m\u001b[0;34m:\u001b[0m\u001b[0;34m\u001b[0m\u001b[0;34m\u001b[0m\u001b[0m\n\u001b[0;32m--> 150\u001b[0;31m       \u001b[0;32mreturn\u001b[0m \u001b[0mfn\u001b[0m\u001b[0;34m(\u001b[0m\u001b[0;34m*\u001b[0m\u001b[0margs\u001b[0m\u001b[0;34m,\u001b[0m \u001b[0;34m**\u001b[0m\u001b[0mkwargs\u001b[0m\u001b[0;34m)\u001b[0m\u001b[0;34m\u001b[0m\u001b[0;34m\u001b[0m\u001b[0m\n\u001b[0m\u001b[1;32m    151\u001b[0m     \u001b[0;32mexcept\u001b[0m \u001b[0mException\u001b[0m \u001b[0;32mas\u001b[0m \u001b[0me\u001b[0m\u001b[0;34m:\u001b[0m\u001b[0;34m\u001b[0m\u001b[0;34m\u001b[0m\u001b[0m\n\u001b[1;32m    152\u001b[0m       \u001b[0mfiltered_tb\u001b[0m \u001b[0;34m=\u001b[0m \u001b[0m_process_traceback_frames\u001b[0m\u001b[0;34m(\u001b[0m\u001b[0me\u001b[0m\u001b[0;34m.\u001b[0m\u001b[0m__traceback__\u001b[0m\u001b[0;34m)\u001b[0m\u001b[0;34m\u001b[0m\u001b[0;34m\u001b[0m\u001b[0m\n",
            "\u001b[0;32m~/opt/miniconda3/lib/python3.10/site-packages/tensorflow/python/eager/polymorphic_function/polymorphic_function.py\u001b[0m in \u001b[0;36m__call__\u001b[0;34m(self, *args, **kwds)\u001b[0m\n\u001b[1;32m    878\u001b[0m \u001b[0;34m\u001b[0m\u001b[0m\n\u001b[1;32m    879\u001b[0m       \u001b[0;32mwith\u001b[0m \u001b[0mOptionalXlaContext\u001b[0m\u001b[0;34m(\u001b[0m\u001b[0mself\u001b[0m\u001b[0;34m.\u001b[0m\u001b[0m_jit_compile\u001b[0m\u001b[0;34m)\u001b[0m\u001b[0;34m:\u001b[0m\u001b[0;34m\u001b[0m\u001b[0;34m\u001b[0m\u001b[0m\n\u001b[0;32m--> 880\u001b[0;31m         \u001b[0mresult\u001b[0m \u001b[0;34m=\u001b[0m \u001b[0mself\u001b[0m\u001b[0;34m.\u001b[0m\u001b[0m_call\u001b[0m\u001b[0;34m(\u001b[0m\u001b[0;34m*\u001b[0m\u001b[0margs\u001b[0m\u001b[0;34m,\u001b[0m \u001b[0;34m**\u001b[0m\u001b[0mkwds\u001b[0m\u001b[0;34m)\u001b[0m\u001b[0;34m\u001b[0m\u001b[0;34m\u001b[0m\u001b[0m\n\u001b[0m\u001b[1;32m    881\u001b[0m \u001b[0;34m\u001b[0m\u001b[0m\n\u001b[1;32m    882\u001b[0m       \u001b[0mnew_tracing_count\u001b[0m \u001b[0;34m=\u001b[0m \u001b[0mself\u001b[0m\u001b[0;34m.\u001b[0m\u001b[0mexperimental_get_tracing_count\u001b[0m\u001b[0;34m(\u001b[0m\u001b[0;34m)\u001b[0m\u001b[0;34m\u001b[0m\u001b[0;34m\u001b[0m\u001b[0m\n",
            "\u001b[0;32m~/opt/miniconda3/lib/python3.10/site-packages/tensorflow/python/eager/polymorphic_function/polymorphic_function.py\u001b[0m in \u001b[0;36m_call\u001b[0;34m(self, *args, **kwds)\u001b[0m\n\u001b[1;32m    917\u001b[0m       \u001b[0;31m# In this case we have not created variables on the first call. So we can\u001b[0m\u001b[0;34m\u001b[0m\u001b[0;34m\u001b[0m\u001b[0m\n\u001b[1;32m    918\u001b[0m       \u001b[0;31m# run the first trace but we should fail if variables are created.\u001b[0m\u001b[0;34m\u001b[0m\u001b[0;34m\u001b[0m\u001b[0m\n\u001b[0;32m--> 919\u001b[0;31m       \u001b[0mresults\u001b[0m \u001b[0;34m=\u001b[0m \u001b[0mself\u001b[0m\u001b[0;34m.\u001b[0m\u001b[0m_variable_creation_fn\u001b[0m\u001b[0;34m(\u001b[0m\u001b[0;34m*\u001b[0m\u001b[0margs\u001b[0m\u001b[0;34m,\u001b[0m \u001b[0;34m**\u001b[0m\u001b[0mkwds\u001b[0m\u001b[0;34m)\u001b[0m\u001b[0;34m\u001b[0m\u001b[0;34m\u001b[0m\u001b[0m\n\u001b[0m\u001b[1;32m    920\u001b[0m       \u001b[0;32mif\u001b[0m \u001b[0mself\u001b[0m\u001b[0;34m.\u001b[0m\u001b[0m_created_variables\u001b[0m \u001b[0;32mand\u001b[0m \u001b[0;32mnot\u001b[0m \u001b[0mALLOW_DYNAMIC_VARIABLE_CREATION\u001b[0m\u001b[0;34m:\u001b[0m\u001b[0;34m\u001b[0m\u001b[0;34m\u001b[0m\u001b[0m\n\u001b[1;32m    921\u001b[0m         raise ValueError(\"Creating variables on a non-first call to a function\"\n",
            "\u001b[0;32m~/opt/miniconda3/lib/python3.10/site-packages/tensorflow/python/eager/polymorphic_function/tracing_compiler.py\u001b[0m in \u001b[0;36m__call__\u001b[0;34m(self, *args, **kwargs)\u001b[0m\n\u001b[1;32m    132\u001b[0m       (concrete_function,\n\u001b[1;32m    133\u001b[0m        filtered_flat_args) = self._maybe_define_function(args, kwargs)\n\u001b[0;32m--> 134\u001b[0;31m     return concrete_function._call_flat(\n\u001b[0m\u001b[1;32m    135\u001b[0m         filtered_flat_args, captured_inputs=concrete_function.captured_inputs)  # pylint: disable=protected-access\n\u001b[1;32m    136\u001b[0m \u001b[0;34m\u001b[0m\u001b[0m\n",
            "\u001b[0;32m~/opt/miniconda3/lib/python3.10/site-packages/tensorflow/python/eager/polymorphic_function/monomorphic_function.py\u001b[0m in \u001b[0;36m_call_flat\u001b[0;34m(self, args, captured_inputs, cancellation_manager)\u001b[0m\n\u001b[1;32m   1743\u001b[0m         and executing_eagerly):\n\u001b[1;32m   1744\u001b[0m       \u001b[0;31m# No tape is watching; skip to running the function.\u001b[0m\u001b[0;34m\u001b[0m\u001b[0;34m\u001b[0m\u001b[0m\n\u001b[0;32m-> 1745\u001b[0;31m       return self._build_call_outputs(self._inference_function.call(\n\u001b[0m\u001b[1;32m   1746\u001b[0m           ctx, args, cancellation_manager=cancellation_manager))\n\u001b[1;32m   1747\u001b[0m     forward_backward = self._select_forward_and_backward_functions(\n",
            "\u001b[0;32m~/opt/miniconda3/lib/python3.10/site-packages/tensorflow/python/eager/polymorphic_function/monomorphic_function.py\u001b[0m in \u001b[0;36mcall\u001b[0;34m(self, ctx, args, cancellation_manager)\u001b[0m\n\u001b[1;32m    376\u001b[0m       \u001b[0;32mwith\u001b[0m \u001b[0m_InterpolateFunctionError\u001b[0m\u001b[0;34m(\u001b[0m\u001b[0mself\u001b[0m\u001b[0;34m)\u001b[0m\u001b[0;34m:\u001b[0m\u001b[0;34m\u001b[0m\u001b[0;34m\u001b[0m\u001b[0m\n\u001b[1;32m    377\u001b[0m         \u001b[0;32mif\u001b[0m \u001b[0mcancellation_manager\u001b[0m \u001b[0;32mis\u001b[0m \u001b[0;32mNone\u001b[0m\u001b[0;34m:\u001b[0m\u001b[0;34m\u001b[0m\u001b[0;34m\u001b[0m\u001b[0m\n\u001b[0;32m--> 378\u001b[0;31m           outputs = execute.execute(\n\u001b[0m\u001b[1;32m    379\u001b[0m               \u001b[0mstr\u001b[0m\u001b[0;34m(\u001b[0m\u001b[0mself\u001b[0m\u001b[0;34m.\u001b[0m\u001b[0msignature\u001b[0m\u001b[0;34m.\u001b[0m\u001b[0mname\u001b[0m\u001b[0;34m)\u001b[0m\u001b[0;34m,\u001b[0m\u001b[0;34m\u001b[0m\u001b[0;34m\u001b[0m\u001b[0m\n\u001b[1;32m    380\u001b[0m               \u001b[0mnum_outputs\u001b[0m\u001b[0;34m=\u001b[0m\u001b[0mself\u001b[0m\u001b[0;34m.\u001b[0m\u001b[0m_num_outputs\u001b[0m\u001b[0;34m,\u001b[0m\u001b[0;34m\u001b[0m\u001b[0;34m\u001b[0m\u001b[0m\n",
            "\u001b[0;32m~/opt/miniconda3/lib/python3.10/site-packages/tensorflow/python/eager/execute.py\u001b[0m in \u001b[0;36mquick_execute\u001b[0;34m(op_name, num_outputs, inputs, attrs, ctx, name)\u001b[0m\n\u001b[1;32m     50\u001b[0m   \u001b[0;32mtry\u001b[0m\u001b[0;34m:\u001b[0m\u001b[0;34m\u001b[0m\u001b[0;34m\u001b[0m\u001b[0m\n\u001b[1;32m     51\u001b[0m     \u001b[0mctx\u001b[0m\u001b[0;34m.\u001b[0m\u001b[0mensure_initialized\u001b[0m\u001b[0;34m(\u001b[0m\u001b[0;34m)\u001b[0m\u001b[0;34m\u001b[0m\u001b[0;34m\u001b[0m\u001b[0m\n\u001b[0;32m---> 52\u001b[0;31m     tensors = pywrap_tfe.TFE_Py_Execute(ctx._handle, device_name, op_name,\n\u001b[0m\u001b[1;32m     53\u001b[0m                                         inputs, attrs, num_outputs)\n\u001b[1;32m     54\u001b[0m   \u001b[0;32mexcept\u001b[0m \u001b[0mcore\u001b[0m\u001b[0;34m.\u001b[0m\u001b[0m_NotOkStatusException\u001b[0m \u001b[0;32mas\u001b[0m \u001b[0me\u001b[0m\u001b[0;34m:\u001b[0m\u001b[0;34m\u001b[0m\u001b[0;34m\u001b[0m\u001b[0m\n",
            "\u001b[0;31mKeyboardInterrupt\u001b[0m: "
          ]
        }
      ],
      "source": [
        "optimizer = tf.keras.optimizers.legacy.Adam(0.0001, 0.5, decay=0.00005)\n",
        "\n",
        "discriminator.compile(loss='binary_crossentropy',\n",
        "                      optimizer=optimizer,\n",
        "\n",
        "                      metrics=['accuracy'])\n",
        "\n",
        "\n",
        "# The generator takes noise as input and generates imgs\n",
        "z = keras.Input(shape=(latent_dim,))\n",
        "img = generator(z)\n",
        "\n",
        "# For the combined model we will only train the generator\n",
        "discriminator.trainable = False\n",
        "\n",
        "# The discriminator takes generated images as input and determines validity\n",
        "valid = discriminator(img)\n",
        "\n",
        "# The combined model  (stacked generator and discriminator)\n",
        "# Trains the generator to fool the discriminator\n",
        "combined = keras.Model(z, valid)\n",
        "combined.compile(loss='binary_crossentropy', optimizer=optimizer)\n",
        "#%%\n",
        "\n",
        "epochs = 60 #50\n",
        "save_interval = 1\n",
        "\n",
        "model_path = \"./models/dcgan_dmlap\"\n",
        "os.makedirs(model_path, exist_ok=True)\n",
        "import sys\n",
        "\n",
        "for epoch in range(epochs):\n",
        "    n = dataset.cardinality() # The number of batches per epoch\n",
        "    # Iterate over all batches\n",
        "    for i, batch in enumerate(dataset.as_numpy_iterator()):\n",
        "        # Convert batch to numpy for convenience\n",
        "        half_batch_size = len(batch)//2\n",
        "\n",
        "        # Train generator\n",
        "        discriminator.trainable = False\n",
        "        noise = np.random.normal(0, 1, (batch_size, 100))\n",
        "        g_loss = combined.train_on_batch(noise, np.ones((batch_size, 1)))\n",
        "        discriminator.trainable = True\n",
        "\n",
        "        # Get random half of the batch\n",
        "        idx = np.random.randint(0, batch.shape[0], half_batch_size)\n",
        "        imgs = batch[idx]\n",
        "        # For the remaining half batch, sample noise and generate new images\n",
        "        noise = np.random.normal(0, 1, (half_batch_size, 100))\n",
        "        gen_imgs = generator.predict(noise, verbose=0)\n",
        "\n",
        "        # Train the discriminator (real classified as ones and generated as zeros)\n",
        "        real_labels = np.ones((half_batch_size, 1))\n",
        "        fake_labels = np.zeros((half_batch_size, 1))\n",
        "        noise_amt = 0.01\n",
        "        real_labels += tf.random.uniform(tf.shape(real_labels))*noise_amt\n",
        "        fake_labels += tf.random.uniform(tf.shape(fake_labels))*noise_amt\n",
        "        d_loss_real = discriminator.train_on_batch(imgs, real_labels)\n",
        "        d_loss_fake = discriminator.train_on_batch(gen_imgs, fake_labels)\n",
        "        d_loss = 0.5 * np.add(d_loss_real, d_loss_fake)\n",
        "\n",
        "        # Print progress on same line\n",
        "        sys.stdout.write(\"\\r\" + \"Epoch %d - %d of %d \"%(epoch+1, i+1, n) + \"[D loss: \"+str(d_loss[0])+\" | D Accuracy: \"+str(100 * d_loss[1])+\"] [G loss: \"+str(g_loss)+\"]\")\n",
        "\n",
        "    if epoch % save_interval == 0:\n",
        "        print('Saving epoch %d to %s'%(epoch+1, model_path))\n",
        "        num_examples = 5\n",
        "        random_latent_vectors = tf.random.normal(shape=(num_examples, latent_dim))\n",
        "        generated_images = generator(random_latent_vectors, training=False)\n",
        "        #generated_images *= 255\n",
        "        generated_images = generated_images * 127.5 + 127.5 #255\n",
        "        generated_images.numpy()\n",
        "        for i in range(num_examples):\n",
        "            img = keras.preprocessing.image.array_to_img(generated_images[i])\n",
        "            img.save(os.path.join(model_path, \"e%03d_generated_img_%d.png\" % (epoch+1, i)))\n",
        "\n",
        "        generator.save(os.path.join(model_path, \"e%0d_generator.hd5\"%(epoch+1)), save_format='h5')\n"
      ]
    }
  ],
  "metadata": {
    "kernelspec": {
      "display_name": "base",
      "language": "python",
      "name": "python3"
    },
    "language_info": {
      "codemirror_mode": {
        "name": "ipython",
        "version": 3
      },
      "file_extension": ".py",
      "mimetype": "text/x-python",
      "name": "python",
      "nbconvert_exporter": "python",
      "pygments_lexer": "ipython3",
      "version": "3.10.8"
    },
    "org": null,
    "vscode": {
      "interpreter": {
        "hash": "1c544d3133b9d8c6f36fca025551af31afa9ef134259e7064ad6be0c15e6401c"
      }
    }
  },
  "nbformat": 4,
  "nbformat_minor": 0
}
