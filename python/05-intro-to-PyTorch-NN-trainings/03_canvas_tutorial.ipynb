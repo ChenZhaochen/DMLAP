{
  "cells": [
    {
      "cell_type": "markdown",
      "metadata": {},
      "source": [
        "py5canvas Tutorial\n",
        "======\n",
        "\n"
      ]
    },
    {
      "cell_type": "markdown",
      "metadata": {},
      "source": [
        "This notebook is not directly related to classification and generally to ML. \n",
        "\n",
        "It is a tutorial on [py5canvas](https://github.com/colormotor/py5canvas), a(nother) simple processing-like interface for Python created by [Daniel Berio](https://github.com/colormotor).\n",
        "\n",
        "This can allow you to draw 2d graphics in Python, which you could then use to test your MNIST or other classifier."
      ]
    },
    {
      "cell_type": "markdown",
      "metadata": {},
      "source": [
        "## Installation\n",
        "\n"
      ]
    },
    {
      "attachments": {},
      "cell_type": "markdown",
      "metadata": {},
      "source": [
        "#### With jupyter/desktop\n",
        "\n",
        "Never forget to activate your environment before installing packages:\n",
        "```\n",
        "conda activate dmlap\n",
        "```\n",
        "Then install a couple dependencies:\n",
        "```\n",
        "conda install -c conda-forge numpy pycairo jupyter opencv pyglfw moderngl\n",
        "```\n",
        "and then py5canvas itself from [PyPi](https://pypi.org/project/py5canvas/) with:\n",
        "```\n",
        "pip install git+https://github.com/colormotor/py5canvas.git\n",
        "```"
      ]
    },
    {
      "attachments": {},
      "cell_type": "markdown",
      "metadata": {},
      "source": [
        "\n",
        "#### With Google Collab (DO NOT RUN IF WORKING LOCALLY)\n",
        "When using Google collab you will need to use the following cell to install (based on [this](https://github.com/pygobject/pycairo/issues/39#issuecomment-391830334))\n"
      ]
    },
    {
      "cell_type": "code",
      "execution_count": null,
      "metadata": {},
      "outputs": [],
      "source": [
        "# WARNING!!!! Do NOT do this if you are running jupyter/python locally!!!\n",
        "# !apt-get install libcairo2-dev libjpeg-dev libgif-dev\n",
        "# !pip install py5canvas\n"
      ]
    },
    {
      "attachments": {},
      "cell_type": "markdown",
      "metadata": {},
      "source": [
        "### Importing \n",
        "To test if the installation works, you should now be able to use py5canvas is the notebook by doing"
      ]
    },
    {
      "cell_type": "code",
      "execution_count": null,
      "metadata": {},
      "outputs": [],
      "source": [
        "from py5canvas import *"
      ]
    },
    {
      "cell_type": "markdown",
      "metadata": {},
      "source": [
        "## Basic example\n",
        "\n"
      ]
    },
    {
      "attachments": {},
      "cell_type": "markdown",
      "metadata": {},
      "source": [
        "Here is a basic working example that initializes a \"canvas\" with a given size, creates a black background, draws a circle and then saves and displays the resulting image"
      ]
    },
    {
      "cell_type": "code",
      "execution_count": null,
      "metadata": {},
      "outputs": [],
      "source": [
        "# Create our canvas to draw on\n",
        "create_canvas(512, 512)\n",
        "# Clear background to black\n",
        "background(0)\n",
        "# Set stroke only and draw circle\n",
        "stroke(128)\n",
        "no_fill()\n",
        "stroke_weight(5)\n",
        "circle(width/2, height/2, 100)\n",
        "# Draw red text\n",
        "fill(255, 0, 0)\n",
        "text_size(30)\n",
        "no_stroke()\n",
        "text(\"Hello world\", width/2, 40, align=\"center\")\n",
        "# Save image in svg or png format\n",
        "save('./images/test.png')\n",
        "show()"
      ]
    },
    {
      "attachments": {},
      "cell_type": "markdown",
      "metadata": {},
      "source": [
        "The equivalent in P5js would look something like this\n",
        "```Javascript\n",
        "function setup() {\n",
        "  createCanvas(512, 512);\n",
        "  // Clear background to black\n",
        "  background(0);\n",
        "  // Set stroke only and draw circle\n",
        "  stroke(128);\n",
        "  noFill();\n",
        "  strokeWeight(5);\n",
        "  circle(width/2, height/2, 200);\n",
        "  // Draw red text\n",
        "  fill(255, 0, 0);\n",
        "  noStroke();\n",
        "  textSize(30);\n",
        "  textAlign(CENTER);\n",
        "  text(\"Hello world\", width/2, 40);\n",
        "}\n",
        "\n",
        "function draw() {\n",
        "}\n",
        "```"
      ]
    },
    {
      "attachments": {},
      "cell_type": "markdown",
      "metadata": {},
      "source": [
        "You will notice that the programming interface is similar to p5js, although it does not currently handle animations (what would go in the `draw` function). Some of the main difference with respect to p5js are:\n",
        "\n",
        "-   The naming convention uses `snake_case` rather than `camelCase`. That is, we use underscores to separate terms rather than capitalization. So for example the equivalent of the p5js `strokeWeight(...)` is `stroke_weight(...)`. This is convention is pretty much a standard in Python code.\n",
        "-   We explicitly set an `align` parameter to the `text` function. This can also be done manually as in the p5 example using `text_align(\"center\")`, but takes advantage of Python's named arguments for conciseness.\n",
        "-   We need to create a  canvas with `create_canvas` for this system to work, directly in the cell. \n"
      ]
    },
    {
      "cell_type": "markdown",
      "metadata": {},
      "source": [
        "## Step by step examples\n",
        "\n"
      ]
    },
    {
      "cell_type": "markdown",
      "metadata": {},
      "source": [
        "### Creating and clearing a Canvas\n",
        "\n"
      ]
    },
    {
      "attachments": {},
      "cell_type": "markdown",
      "metadata": {},
      "source": [
        "Once you have imported the `py5canvas` module you can create a blank canvas with `create_canvas`. The background will be grey by default:\n",
        "\n"
      ]
    },
    {
      "cell_type": "code",
      "execution_count": null,
      "metadata": {},
      "outputs": [],
      "source": [
        "create_canvas(800, 300)\n",
        "show()"
      ]
    },
    {
      "attachments": {},
      "cell_type": "markdown",
      "metadata": {},
      "source": [
        "the `show()` method will display the current canvas image below the current notebook cell.\n",
        "\n",
        "\n",
        "By default the `show` function will display a canvas in its specified size. But sometimes you may want to explicitly specify the size, e.g. if you are working with a very small canvas size.\n",
        "You can set the size by specifying the `size` argument. However, note that the output will always maintain the aspect ratio of specified for the canvas, e.g. \n"
      ]
    },
    {
      "cell_type": "code",
      "execution_count": null,
      "metadata": {},
      "outputs": [],
      "source": [
        "show(size=(100, 100))"
      ]
    },
    {
      "attachments": {},
      "cell_type": "markdown",
      "metadata": {},
      "source": [
        "By default the `Canvas` object is cleared to grey. We can change this, e.g let&rsquo;s clear to red:"
      ]
    },
    {
      "cell_type": "code",
      "execution_count": null,
      "metadata": {},
      "outputs": [],
      "source": [
        "background(255, 0, 0)\n",
        "show()"
      ]
    },
    {
      "cell_type": "markdown",
      "metadata": {},
      "source": [
        "### Drawing text\n",
        "\n"
      ]
    },
    {
      "cell_type": "markdown",
      "metadata": {},
      "source": [
        "To draw text use the `text` method. We can change size using `text_size` and optionally set the text to be horizontally centered. The text is colored with the current fill color, which is set with the `fill` function:\n",
        "\n"
      ]
    },
    {
      "cell_type": "code",
      "execution_count": null,
      "metadata": {},
      "outputs": [],
      "source": [
        "background(0)\n",
        "text_size(30)\n",
        "no_stroke()\n",
        "fill(255)\n",
        "text_align(\"left\")\n",
        "text(\"Left aligned\", 20, 100)\n",
        "fill(0, 128, 255)\n",
        "text_align(\"center\")\n",
        "text(\"Centered text\", width/2, 140)\n",
        "text(f\"The canvas width is: {width}\", width/2, 200) # Using Python formatted strings\n",
        "show()"
      ]
    },
    {
      "cell_type": "markdown",
      "metadata": {},
      "source": [
        "P.s. note that in Python, `True` and `False` start with a capital!\n",
        "\n"
      ]
    },
    {
      "cell_type": "markdown",
      "metadata": {},
      "source": [
        "### Basic shapes\n",
        "\n"
      ]
    },
    {
      "cell_type": "markdown",
      "metadata": {},
      "source": [
        "Similarly to p5js we can draw basic shapes such as rectangles and circles. The main difference is that we specify coordinates as either lists or numpy arrays. E.g. for a rectangle we will use:\n",
        "\n"
      ]
    },
    {
      "cell_type": "code",
      "execution_count": null,
      "metadata": {},
      "outputs": [],
      "source": [
        "background(0)\n",
        "fill(255, 0, 255)\n",
        "stroke(255)\n",
        "stroke_weight(7)\n",
        "rectangle(10, 70, 200, 150) # you can use `rect` here as in p5  \n",
        "show()"
      ]
    },
    {
      "attachments": {},
      "cell_type": "markdown",
      "metadata": {},
      "source": [
        "The `rectangle` method has two arguments, the `[x,y]` coordinates of the top left corner and the size `[width, height]` of the rectangle.\n",
        "Here we first set the fill and stroke color with `fill` and `stroke` and then also the stroke thickness with `stroke_weight`.\n",
        "\n",
        "Let's also add a blue circle to the canvas:"
      ]
    },
    {
      "cell_type": "code",
      "execution_count": null,
      "metadata": {},
      "outputs": [],
      "source": [
        "fill(0, 128, 255)\n",
        "circle(400, height/2, 100)\n",
        "show()"
      ]
    },
    {
      "attachments": {},
      "cell_type": "markdown",
      "metadata": {},
      "source": [
        "Note that here we did not clear the canvas so we the rectangle is still visible. This is because once we create a \"canvas\" with `create_canvas`, it will remain persistent in the notebook cells until we create another one."
      ]
    },
    {
      "cell_type": "markdown",
      "metadata": {},
      "source": [
        "### Color modes\n",
        "\n"
      ]
    },
    {
      "attachments": {},
      "cell_type": "markdown",
      "metadata": {},
      "source": [
        "By default the canvas uses RGB colors specified in the range between 0 and 255. We can specify colors as single arguments similarly to p5js\n",
        "\n"
      ]
    },
    {
      "cell_type": "code",
      "execution_count": null,
      "metadata": {},
      "outputs": [],
      "source": [
        "create_canvas(800, 300)\n",
        "background(0)\n",
        "stroke(255)\n",
        "stroke_weight(7)\n",
        "fill(0, 128, 255)\n",
        "circle(100, height/2, 50)\n",
        "fill(128) # Only one value is grayscale\n",
        "circle(200, height/2, 50)\n",
        "fill(10, 128) # Two values is gray, alpha\n",
        "circle(150, height/2, 50)\n",
        "show()"
      ]
    },
    {
      "attachments": {},
      "cell_type": "markdown",
      "metadata": {},
      "source": [
        "Or we can use arrays/lists. For example here we specify a random RGB color with `random_uniform`. Try executing the following cell multiple times:\n",
        "\n"
      ]
    },
    {
      "cell_type": "code",
      "execution_count": null,
      "metadata": {},
      "outputs": [],
      "source": [
        "fill(random_uniform(0, 255, 3))\n",
        "circle(width/2, height/2, 100)\n",
        "show()"
      ]
    },
    {
      "cell_type": "markdown",
      "metadata": {},
      "source": [
        "Note that we can add a third argument to the `random_uniform` function specifying that we want an array with 3 random elements (red, green, blue) and not a single number. This is not possible in Processing or P5js.\n",
        "\n",
        "We can also change &ldquo;color mode&rdquo; and the range of the values. E.g. say we want to draw a series of circles with all the hues. We can set the color mode to hue saturation and brightness (`\"hsv\"` )\n",
        "and set the range to be between `0` and `1`:\n",
        "\n"
      ]
    },
    {
      "cell_type": "code",
      "execution_count": null,
      "metadata": {},
      "outputs": [],
      "source": [
        "import numpy as np\n",
        "\n",
        "background(0)\n",
        "color_mode('hsb', 1.0)\n",
        "stroke(1.0, 0.0, 1.0) # Zero saturation\n",
        "stroke_weight(3)\n",
        "for hue in np.linspace(0, 1, 50):\n",
        "    fill(hue, 1.0, 1.0)\n",
        "    circle(hue*width, height/2, 20)\n",
        "show()\n",
        "# Set color mode back to rgb for the next examples\n",
        "color_mode('rgb', 255)"
      ]
    },
    {
      "attachments": {},
      "cell_type": "markdown",
      "metadata": {},
      "source": [
        "Here we import [NumPy](https://numpy.org), a Python module that is a dependency of py5canvas, and refer to it as `np`. The `np.linspace` function creates a sequence of `50` values between `0` and `1`.\n"
      ]
    },
    {
      "cell_type": "markdown",
      "metadata": {},
      "source": [
        "### Polygons and polylines\n",
        "\n"
      ]
    },
    {
      "cell_type": "markdown",
      "metadata": {},
      "source": [
        "In p5js, to draw a polygon we would write a series of `vertex(x,y)` calls between a `beginShape()` and `endShape()` pairs. In py5canvas we can work similarly:"
      ]
    },
    {
      "cell_type": "code",
      "execution_count": null,
      "metadata": {},
      "outputs": [],
      "source": [
        "create_canvas(256, 256)\n",
        "background(0)\n",
        "no_fill()\n",
        "stroke(255)\n",
        "begin_contour()\n",
        "for i in range(10):\n",
        "    vertex(random_uniform(0, height, 2))\n",
        "end_contour()\n",
        "show()"
      ]
    },
    {
      "cell_type": "markdown",
      "metadata": {},
      "source": [
        "Alternatively, we can use a list of points or a numpy array to do so. For example to draw a random polyline we can do:"
      ]
    },
    {
      "cell_type": "code",
      "execution_count": null,
      "metadata": {},
      "outputs": [],
      "source": [
        "background(0)\n",
        "no_fill()\n",
        "stroke(255)\n",
        "polyline(random_uniform(0, height, (10, 2)))\n",
        "show()"
      ]
    },
    {
      "cell_type": "markdown",
      "metadata": {},
      "source": [
        "Note that here we specify the &ldquo;shape&rdquo; of the random array as 10 rows and 2 columns, meaning that we have 10 points, where each point consists of 2 coordinates (x and y).\n",
        "\n",
        "Alternatively we can simply specify the coordinates of a polygon with a list. For example to draw a triangle we could do:\n",
        "\n"
      ]
    },
    {
      "cell_type": "code",
      "execution_count": null,
      "metadata": {},
      "outputs": [],
      "source": [
        "create_canvas(800, 250)\n",
        "background(0)\n",
        "fill(64)\n",
        "stroke(255, 0, 0)\n",
        "stroke_weight(4)\n",
        "polygon( [[400, 20],\n",
        "            [500, 200],\n",
        "            [300, 200]] )\n",
        "show()"
      ]
    },
    {
      "cell_type": "markdown",
      "metadata": {},
      "source": [
        "Here we are using the `polygon` function that produces a closed polygon. Alternatively we can also use `polyline(points, closed=True)`.\n",
        "\n",
        "Now let&rsquo;s draw a series of regular polygons using a Python syntax known as [list comprehensions](https://www.w3schools.com/python/python_lists_comprehension.asp):\n",
        "\n"
      ]
    },
    {
      "cell_type": "code",
      "execution_count": null,
      "metadata": {},
      "outputs": [],
      "source": [
        "background(0)\n",
        "fill(32)\n",
        "stroke(255)\n",
        "stroke_weight(5)\n",
        "start_sides, end_sides = 3, 10\n",
        "for sides in range(start_sides, end_sides):\n",
        "    radius = 30\n",
        "    x = (width - radius) * (sides - start_sides)/(end_sides - start_sides)\n",
        "    y = height/2\n",
        "    # This creates the coordinates of the polygon\n",
        "    points = [[np.cos(t*np.pi*2)*20 + x + radius*2,\n",
        "               np.sin(t*np.pi*2)*20 + y] for t in np.linspace(0, 1, sides+1)]\n",
        "    polygon(points)\n",
        "show()"
      ]
    },
    {
      "cell_type": "markdown",
      "metadata": {},
      "source": [
        "Here we could have filled the points with a loop of the type:\n",
        "\n"
      ]
    },
    {
      "cell_type": "code",
      "execution_count": null,
      "metadata": {},
      "outputs": [],
      "source": [
        "points = []\n",
        "for t in np.linspace(0, 1, sides+1):\n",
        "    points.append([np.cos(t*np.pi*2)*20 + x + radius*2,\n",
        "                   np.sin(t*np.pi*2)*20 + y])"
      ]
    },
    {
      "cell_type": "markdown",
      "metadata": {},
      "source": [
        "The above is equivalent but more concise.\n",
        "\n"
      ]
    },
    {
      "cell_type": "markdown",
      "metadata": {},
      "source": [
        "### Shapes with holes\n",
        "\n"
      ]
    },
    {
      "cell_type": "markdown",
      "metadata": {},
      "source": [
        "We can draw shapes with holes by using combining different shapes betwen a `begin_shape()` and an `end_shape()` pair. For example here we &ldquo;dig&rdquo; a circular hole into a rectangle.\n",
        "\n"
      ]
    },
    {
      "cell_type": "code",
      "execution_count": null,
      "metadata": {},
      "outputs": [],
      "source": [
        "create_canvas(800, 300)\n",
        "\n",
        "background(0)\n",
        "fill(255, 0, 0)\n",
        "stroke(255)\n",
        "begin_shape()\n",
        "rect_mode('center') # Note that rect mode accepts a string as an input \n",
        "rectangle(width/2, height/2, 400, 200)\n",
        "circle(width/2, height/2, 50)\n",
        "end_shape()\n",
        "show()"
      ]
    },
    {
      "cell_type": "markdown",
      "metadata": {},
      "source": [
        "By default, holes will be computed according to the [&ldquo;even odd&rdquo; fill rule](https://en.wikipedia.org/wiki/Even–odd_rule). The even-odd fill rule checks if a point is inside a shape by drawing a \"ray\" (a line) from the point outward. If the ray crosses the shape's outline an odd number of times, the point is inside; if it crosses an even number of times, the point is outside.\n"
      ]
    },
    {
      "cell_type": "markdown",
      "metadata": {},
      "source": [
        "### Images\n",
        "\n"
      ]
    },
    {
      "cell_type": "markdown",
      "metadata": {},
      "source": [
        "The canvas object allows to display images encoded as numpy arrays. For example, we could create a grayscale image\n",
        "with random values between 0 and 1 and then display it with:\n",
        "\n"
      ]
    },
    {
      "cell_type": "code",
      "execution_count": null,
      "metadata": {},
      "outputs": [],
      "source": [
        "import numpy as np\n",
        "create_canvas(800, 300)\n",
        "background(0)\n",
        "im = random_uniform(0, 1, (150, width))\n",
        "image(im, 0, 70)\n",
        "show()"
      ]
    },
    {
      "cell_type": "markdown",
      "metadata": {},
      "source": [
        "Note that size (the `.shape` property) in numpy arrays is specified as `(rows, columns)` so we specify the size of the array as `(height, width)`. The second argument to the `image` method is the position of the top left corner of the image.\n",
        "\n"
      ]
    },
    {
      "cell_type": "markdown",
      "metadata": {},
      "source": [
        "#### Loading images\n",
        "\n"
      ]
    },
    {
      "cell_type": "markdown",
      "metadata": {},
      "source": [
        "We can also load an image by using `load_image` similarly to Processing. Internally we create an image using [Pillow](https://pypi.org/project/Pillow/) library, so all the functionalities of the library are available.\n",
        "\n"
      ]
    },
    {
      "cell_type": "code",
      "execution_count": null,
      "metadata": {},
      "outputs": [],
      "source": [
        "create_canvas(256, 256)\n",
        "background(0)\n",
        "im = load_image('images/spock.jpg')\n",
        "image(im, 0, 0)\n",
        "show()"
      ]
    },
    {
      "cell_type": "markdown",
      "metadata": {},
      "source": [
        "Here we draw the image with its original size so it appears cropped. You can resize it by specifying width and height arguments\n",
        "\n"
      ]
    },
    {
      "cell_type": "code",
      "execution_count": null,
      "metadata": {},
      "outputs": [],
      "source": [
        "background(0)\n",
        "image(im, 0, 0, im.width/2, im.height/2)\n",
        "show()"
      ]
    },
    {
      "cell_type": "markdown",
      "metadata": {},
      "source": [
        "The same function also accepts numpy arrays as a descriptor of images, for instance we can convert the RGB `im` to a numpy array simply with"
      ]
    },
    {
      "cell_type": "code",
      "execution_count": null,
      "metadata": {},
      "outputs": [],
      "source": [
        "im = np.array(im)"
      ]
    },
    {
      "cell_type": "markdown",
      "metadata": {},
      "source": [
        "and the array will be 3d and have a `np.uint8` data type:\n",
        "\n"
      ]
    },
    {
      "cell_type": "code",
      "execution_count": null,
      "metadata": {},
      "outputs": [],
      "source": [
        "print(im.shape, im.dtype)"
      ]
    },
    {
      "cell_type": "markdown",
      "metadata": {},
      "source": [
        "Arrays have the advantage that we can easily do mathematical operations on them. Dividing the array by 255 will result in a floating point array (rather than 8 bit int), and the `Canvas` object will interpret these similarly to 8 bit per pixel arrays:\n",
        "\n"
      ]
    },
    {
      "cell_type": "code",
      "execution_count": null,
      "metadata": {},
      "outputs": [],
      "source": [
        "fim = im/255\n",
        "print(fim.dtype)\n",
        "background(0)\n",
        "image(fim, 0, 0, 150, 150)\n",
        "show()"
      ]
    },
    {
      "cell_type": "markdown",
      "metadata": {},
      "source": [
        "Even though we scaled the image, we can render it identically. Internally the Canvas object will check the `dtype` property of the array and expect values between 0 and 255 if `dtype` is `np.uint8` and values between 0 and 1 otherwise. The `[0,1]` range is convenient for certain operations, for example we may raise the image to a power or take it&rsquo;s cosine (whatever meaning this may have):\n",
        "\n"
      ]
    },
    {
      "cell_type": "code",
      "execution_count": null,
      "metadata": {},
      "outputs": [],
      "source": [
        "create_canvas(800, 200)\n",
        "image(fim**2, 160, 0, 150, 150)\n",
        "image(np.cos(fim*np.pi*2)*0.5 + 0.5, 320, 0, 150, 150)\n",
        "show()"
      ]
    },
    {
      "cell_type": "markdown",
      "metadata": {},
      "source": [
        "We can also scale each RGB channel separately with a multiplication, for example:\n",
        "\n"
      ]
    },
    {
      "cell_type": "code",
      "execution_count": null,
      "metadata": {},
      "outputs": [],
      "source": [
        "image(fim*[1.0, 0.2, 0.2], 480, 0, 150, 150)\n",
        "image(fim*[0.0, 0.2, 1.0], 640, 0, 150, 150)\n",
        "show()"
      ]
    },
    {
      "attachments": {},
      "cell_type": "markdown",
      "metadata": {},
      "source": [
        "### Transformations\n",
        "\n",
        "The `Canvas` object also enables transformations similarly to p5js. E.g. let's draw rectangles revolving around the center of the canvas:"
      ]
    },
    {
      "cell_type": "code",
      "execution_count": null,
      "metadata": {},
      "outputs": [],
      "source": [
        "create_canvas(512, 512)\n",
        "background(0)\n",
        "no_fill()\n",
        "stroke(255)\n",
        "stroke_weight(5.0)\n",
        "# Shift origin to center\n",
        "translate(width/2, height/2)\n",
        "for rot in np.linspace(0, np.pi*2, 15):\n",
        "    push() # Push transformation\n",
        "    rotate(rot) # Rotation is specified in radians, use rotate_deg if you want to use degrees\n",
        "    translate(200, 0)\n",
        "    rectangle(-20, -20, 40, 40)\n",
        "    pop() # Pop transformation\n",
        "show()"
      ]
    },
    {
      "attachments": {},
      "cell_type": "markdown",
      "metadata": {},
      "source": [
        "Similarly to p5js we can use `push` and `pop` to save and restore the state of the transformation and differently from p5js we use lists or numpy arrays to specify positions and sizes. Alternatively, we can use the `with` Python syntax without requiring to use `pop`:"
      ]
    },
    {
      "cell_type": "code",
      "execution_count": null,
      "metadata": {},
      "outputs": [],
      "source": [
        "create_canvas(512, 512)\n",
        "background(0)\n",
        "no_fill()\n",
        "stroke(255)\n",
        "stroke_weight(5.0)\n",
        "# Shift origin to center\n",
        "translate(width/2, height/2)\n",
        "for rot in np.linspace(0, np.pi*2, 15):\n",
        "    with push(): # Push transformation\n",
        "        rotate(rot) # Rotation is specified in radians, use rotate_deg if you want to use degrees\n",
        "        translate(200, 0)\n",
        "        rectangle(-20, -20, 40, 40)\n",
        "show()"
      ]
    },
    {
      "cell_type": "markdown",
      "metadata": {},
      "source": [
        "### Recap\n",
        "\n"
      ]
    },
    {
      "cell_type": "markdown",
      "metadata": {},
      "source": [
        "Here is a canvas example with some of the functionalities discussed above:\n",
        "\n"
      ]
    },
    {
      "cell_type": "code",
      "execution_count": null,
      "metadata": {},
      "outputs": [],
      "source": [
        "import time\n",
        "create_canvas(800, 600)\n",
        "background(0)\n",
        "text_size(14)\n",
        "fill(0, 150, 255)\n",
        "# A formmatted string example\n",
        "text(f\"Time since computer started {time.time()}\", [10, 30])\n",
        "# Some colored squares using np.linspace for a loop\n",
        "# Set color mode to hue-saturation-brightness with a scale of 1\n",
        "color_mode('hsv', 1.0)\n",
        "no_stroke()\n",
        "for t in np.linspace(0, 1, 40):\n",
        "    fill(t, 1.0, 1.0)\n",
        "    circle(t*width+10, 100, 10)\n",
        "# Go back to rgb with scale of 255\n",
        "color_mode('rgb', 255)\n",
        "# Draw a series of closed regular polygons with increasing number of sides\n",
        "fill(32)\n",
        "stroke(255)\n",
        "stroke_weight(5)\n",
        "start_sides, end_sides = 3, 10\n",
        "for sides in range(start_sides, end_sides):\n",
        "    radius = 30\n",
        "    x = (width - radius) * (sides - start_sides)/(end_sides - start_sides)\n",
        "    y = 170\n",
        "    # This creates the coordinates of the polygon\n",
        "    points = [[np.cos(t*np.pi*2)*20 + x + radius*2,\n",
        "                np.sin(t*np.pi*2)*20 + y] for t in np.linspace(0, 1, sides+1)]\n",
        "    polygon(points)\n",
        "# Create a numpy array with random values between 0 and 1 and treat it as an image\n",
        "# Note that size is specified as rows, columns (height, width)\n",
        "im = np.random.uniform(0, 1, (50, width))\n",
        "image(im, [0, 230])\n",
        "# We can also load an image. Here we use PIL, but there are many other methods\n",
        "im = np.array(load_image('images/spock.jpg'))\n",
        "image(im, 0, 300, 150, 150)\n",
        "# Because the image is a numpy array we can perform operations on it\n",
        "# The Canvas object will also work with images that are in the [0,1] range,\n",
        "# rather than [0, 255] range. This will make performing math on the pixels easier\n",
        "im = im/255\n",
        "image(im**2, 160, 300, 150, 150)\n",
        "image(np.cos(im*np.pi*2)*0.5 + 0.5, 320, 300, 150, 150)\n",
        "# Here we muliply each channel (RGB) by a value\n",
        "image(im*[1.0, 0.2, 0.2], 480, 300, 150, 150)\n",
        "image(im*[0.0, 0.2, 1.0], 640, 300, 150, 150)\n",
        "# We can draw holes by combining draw calls\n",
        "show()"
      ]
    },
    {
      "cell_type": "markdown",
      "metadata": {},
      "source": [
        "## Using the `Canvas` object "
      ]
    },
    {
      "cell_type": "markdown",
      "metadata": {},
      "source": [
        "When importing `py5canvas` globally with `from py5canvas import *` we are \"injecting\" code into the notebook, allowing us to write code with a syntax as similar as possible to P5js/Processing. \n",
        "This is useful for rapidly prototyping simple scripts, but it can become problematic because this approach takes over functions/variables with very common names that one might want to use for other purposes.\n",
        "Take for example function names like `scale`, `rotate`. \n",
        "\n",
        "In practice, when importing py5canvas in this way, we are creating a `Canvas` and globally expose all of its methods to the notebook. A more verbose but \"cleaner\" approach is to explicitly import the `Canvas` object and access its functionalities using dot notation:"
      ]
    },
    {
      "cell_type": "code",
      "execution_count": null,
      "metadata": {},
      "outputs": [],
      "source": [
        "from py5canvas import Canvas\n",
        "c = Canvas(256, 256)\n",
        "c.background(255, 0, 0)\n",
        "c.show()"
      ]
    },
    {
      "cell_type": "markdown",
      "metadata": {},
      "source": [
        "All the functionalities discussed above will be then available through the `Canvas` object interface."
      ]
    },
    {
      "cell_type": "code",
      "execution_count": null,
      "metadata": {},
      "outputs": [],
      "source": []
    }
  ],
  "metadata": {
    "kernelspec": {
      "display_name": "dmlap25my",
      "language": "python",
      "name": "python3"
    },
    "language_info": {
      "codemirror_mode": {
        "name": "ipython",
        "version": 3
      },
      "file_extension": ".py",
      "mimetype": "text/x-python",
      "name": "python",
      "nbconvert_exporter": "python",
      "pygments_lexer": "ipython3",
      "version": "3.10.16"
    },
    "org": null
  },
  "nbformat": 4,
  "nbformat_minor": 0
}
